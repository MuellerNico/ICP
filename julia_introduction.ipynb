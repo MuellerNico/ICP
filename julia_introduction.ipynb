{
 "cells": [
  {
   "cell_type": "markdown",
   "metadata": {},
   "source": [
    "This notebook covers the main notions to get you started.\n",
    "Have a look at each cell, run it, and play around with the code :)\n",
    "\n",
    "You can find many more tutorials in the repository https://github.com/JuliaAcademy/JuliaTutorials\n",
    "\n",
    "\n",
    "Documentation can be found at https://docs.julialang.org/en/v1/ (or just Googling)"
   ]
  },
  {
   "cell_type": "markdown",
   "metadata": {
    "ein.tags": "worksheet-0",
    "slideshow": {
     "slide_type": "-"
    }
   },
   "source": [
    "# Types and Variables"
   ]
  },
  {
   "cell_type": "markdown",
   "metadata": {
    "autoscroll": false,
    "ein.hycell": false,
    "ein.tags": "worksheet-0",
    "slideshow": {
     "slide_type": "-"
    }
   },
   "source": [
    "## Variables can change type"
   ]
  },
  {
   "cell_type": "code",
   "execution_count": 1,
   "metadata": {
    "autoscroll": false,
    "ein.hycell": false,
    "ein.tags": "worksheet-0",
    "scrolled": true,
    "slideshow": {
     "slide_type": "-"
    }
   },
   "outputs": [
    {
     "name": "stdout",
     "output_type": "stream",
     "text": [
      "s = 0, type = Int64\n",
      "s = 0"
     ]
    },
    {
     "name": "stdout",
     "output_type": "stream",
     "text": [
      "\n",
      "s = Dog, type = String\n",
      "s = true, type = Bool\n",
      "s = a, type = Char\n"
     ]
    },
    {
     "ename": "MethodError",
     "evalue": "MethodError: Cannot `convert` an object of type String to an object of type Float64\n\nClosest candidates are:\n  convert(::Type{T}, !Matched::T) where T<:Number\n   @ Base number.jl:6\n  convert(::Type{T}, !Matched::Number) where T<:Number\n   @ Base number.jl:7\n  convert(::Type{T}, !Matched::Base.TwicePrecision) where T<:Number\n   @ Base twiceprecision.jl:273\n  ...\n",
     "output_type": "error",
     "traceback": [
      "MethodError: Cannot `convert` an object of type String to an object of type Float64\n",
      "\n",
      "Closest candidates are:\n",
      "  convert(::Type{T}, !Matched::T) where T<:Number\n",
      "   @ Base number.jl:6\n",
      "  convert(::Type{T}, !Matched::Number) where T<:Number\n",
      "   @ Base number.jl:7\n",
      "  convert(::Type{T}, !Matched::Base.TwicePrecision) where T<:Number\n",
      "   @ Base twiceprecision.jl:273\n",
      "  ...\n",
      "\n",
      "\n",
      "Stacktrace:\n",
      " [1] changeNum()\n",
      "   @ Main ~/Desktop/ICP/julia_introduction.ipynb.ipynb:17\n",
      " [2] top-level scope\n",
      "   @ ~/Desktop/ICP/julia_introduction.ipynb.ipynb:20"
     ]
    }
   ],
   "source": [
    "s = 0\n",
    "println(\"s = $s, type = $(typeof(s))\")\n",
    "println(\"s = \", s)\n",
    "    \n",
    "s = \"Dog\"\n",
    "println(\"s = $s, type = $(typeof(s))\")\n",
    "    \n",
    "s = 2 == 4/2\n",
    "println(\"s = $s, type = $(typeof(s))\")\n",
    "\n",
    "s = 'a'\n",
    "println(\"s = $s, type = $(typeof(s))\")\n",
    "\n",
    "# You can assign a specific type to variable in a function or struct\n",
    "function changeNum()\n",
    "    x::Float64 = 10.4\n",
    "    x = \"Dog\"\n",
    "end\n",
    "\n",
    "changeNum()  # Causes an error because x is fixed to being Float64"
   ]
  },
  {
   "cell_type": "markdown",
   "metadata": {
    "autoscroll": false,
    "ein.hycell": false,
    "ein.tags": "worksheet-0",
    "slideshow": {
     "slide_type": "-"
    }
   },
   "source": [
    "## Other types"
   ]
  },
  {
   "cell_type": "code",
   "execution_count": 2,
   "metadata": {
    "autoscroll": false,
    "ein.hycell": false,
    "ein.tags": "worksheet-0",
    "slideshow": {
     "slide_type": "-"
    }
   },
   "outputs": [
    {
     "name": "stdout",
     "output_type": "stream",
     "text": [
      "float x is 9.86\n"
     ]
    },
    {
     "name": "stdout",
     "output_type": "stream",
     "text": [
      "big float x is 9.8599999999999994315658113919198513031005859375\n"
     ]
    }
   ],
   "source": [
    "# Int8: [-128, 127]\n",
    "# Int16 : [-2^15, 2^15-1]\n",
    "# Int32 : [-2^31, 2^31-1]\n",
    "# Int64 : [-2^63, 2^63-1]\n",
    "# Float32, Float64, ...\n",
    "# UInt8, UInt16 ... (unsigned int)\n",
    "# BigFloat, BigInt (increased precision)\n",
    "\n",
    "x = 9.86\n",
    "println(\"float x is $x\")\n",
    "x = BigFloat(x)\n",
    "println(\"big float x is $x\")"
   ]
  },
  {
   "cell_type": "markdown",
   "metadata": {
    "autoscroll": false,
    "ein.hycell": false,
    "ein.tags": "worksheet-0",
    "slideshow": {
     "slide_type": "-"
    }
   },
   "source": [
    "## Casting"
   ]
  },
  {
   "cell_type": "code",
   "execution_count": 3,
   "metadata": {
    "autoscroll": false,
    "ein.hycell": false,
    "ein.tags": "worksheet-0",
    "slideshow": {
     "slide_type": "-"
    }
   },
   "outputs": [
    {
     "name": "stdout",
     "output_type": "stream",
     "text": [
      "x\n"
     ]
    },
    {
     "name": "stdout",
     "output_type": "stream",
     "text": [
      "22.5\n",
      "3\n"
     ]
    },
    {
     "name": "stdout",
     "output_type": "stream",
     "text": [
      "4.0\n"
     ]
    }
   ],
   "source": [
    "c = Char(120)\n",
    "println(c)\n",
    "\n",
    "myFloat = parse(Float64, \"22.5\")\n",
    "println(myFloat)\n",
    "\n",
    "myInt = UInt8(trunc(3.14))\n",
    "println(myInt)\n",
    "\n",
    "myFloat = Float32(4)\n",
    "println(myFloat)"
   ]
  },
  {
   "cell_type": "markdown",
   "metadata": {
    "autoscroll": false,
    "ein.hycell": false,
    "ein.tags": "worksheet-0",
    "slideshow": {
     "slide_type": "-"
    }
   },
   "source": [
    "# Strings\n",
    "\n",
    "<span style=\"color:red; font-size:25px\">**Note: in Julia the first element of an array is at index 1, not 0!!**</span>"
   ]
  },
  {
   "cell_type": "code",
   "execution_count": 4,
   "metadata": {
    "autoscroll": false,
    "ein.hycell": false,
    "ein.tags": "worksheet-0",
    "slideshow": {
     "slide_type": "-"
    }
   },
   "outputs": [
    {
     "name": "stdout",
     "output_type": "stream",
     "text": [
      "11\n",
      "The first letter of ''hello there'' is h\n",
      "The second word in hello there is 'there'\n",
      "General Kenobi\n",
      "Anakin Skywalker\n",
      "dog is shorter than elephant\n",
      "and the letter 'o' is in dog\n"
     ]
    }
   ],
   "source": [
    "s = \"hello there\"\n",
    "println(length(s))\n",
    "    \n",
    "# Indexing starts at 1!!\n",
    "println(\"The first letter of ''$s'' is $(s[1])\")\n",
    "\n",
    "idx = findfirst(isequal(' '), s)\n",
    "println(\"The second word in $s is '$(s[idx+1:end])'\")\n",
    "\n",
    "s = string(\"General\", \" Kenobi\")\n",
    "println(s)\n",
    "println(\"Anakin\" * \" Skywalker\")\n",
    "\n",
    "animal = \"elephant\"\n",
    "if \"dog\" < animal && occursin(\"o\", \"dog\")\n",
    "    println(\"dog is shorter than $animal\\nand the letter 'o' is in dog\")\n",
    "elseif \"dog\" > animal\n",
    "    println(\"dog is shorter than $animal\")\n",
    "else\n",
    "    println(\"dog is as long as $animal\")\n",
    "end"
   ]
  },
  {
   "cell_type": "markdown",
   "metadata": {
    "autoscroll": false,
    "ein.hycell": false,
    "ein.tags": "worksheet-0",
    "slideshow": {
     "slide_type": "-"
    }
   },
   "source": [
    "# Loops"
   ]
  },
  {
   "cell_type": "code",
   "execution_count": 5,
   "metadata": {
    "autoscroll": false,
    "ein.hycell": false,
    "ein.tags": "worksheet-0",
    "slideshow": {
     "slide_type": "-"
    }
   },
   "outputs": [
    {
     "name": "stdout",
     "output_type": "stream",
     "text": [
      "2 is an even number, and is smaller than 3\n",
      "4 is an even number, and is larger or equal than 3\n",
      "6 is an even number, and is larger or equal than 3\n",
      "8 is an even number, and is larger or equal than 3\n",
      "1\n",
      "2\n",
      "3\n"
     ]
    },
    {
     "name": "stdout",
     "output_type": "stream",
     "text": [
      "1\n",
      "3\n",
      "5\n",
      "2\n"
     ]
    }
   ],
   "source": [
    "i = 1\n",
    "while i < 9\n",
    "    if i%2 == 0\n",
    "        s = i >= 3 ? \"larger or equal\" : \"smaller\"  # The so-called \"ternary operator\"\n",
    "        println(\"$i is an even number, and is $s than 3\")\n",
    "    end\n",
    "    i += 1\n",
    "end\n",
    "\n",
    "[println(i) for i=1:3]\n",
    "[println(i) for i=1:2:5]\n",
    "    \n",
    "for i in [2,3,7]\n",
    "    if i%2 == 0\n",
    "        println(i)\n",
    "    end\n",
    "end"
   ]
  },
  {
   "cell_type": "markdown",
   "metadata": {
    "autoscroll": false,
    "ein.hycell": false,
    "ein.tags": "worksheet-0",
    "slideshow": {
     "slide_type": "-"
    }
   },
   "source": [
    "# Arrays"
   ]
  },
  {
   "cell_type": "code",
   "execution_count": 6,
   "metadata": {
    "autoscroll": false,
    "ein.hycell": false,
    "ein.tags": "worksheet-0",
    "slideshow": {
     "slide_type": "-"
    }
   },
   "outputs": [
    {
     "name": "stdout",
     "output_type": "stream",
     "text": [
      "The matrix Float32"
     ]
    },
    {
     "name": "stdout",
     "output_type": "stream",
     "text": [
      "[0.0 0.0 0.0; 0.0 0.0 0.0]\n",
      "has size 2, 3\n",
      "\n"
     ]
    },
    {
     "name": "stdout",
     "output_type": "stream",
     "text": [
      "Array a is "
     ]
    },
    {
     "name": "stdout",
     "output_type": "stream",
     "text": [
      "[1, 3, 5, 7, 9, 11, 13, 15]\n",
      "the elements of a that are larger than 5 are: [7, 9, 11, 13, 15] \n"
     ]
    },
    {
     "name": "stdout",
     "output_type": "stream",
     "text": [
      "\n",
      "x^2 from 1 to 4 is [1, 4, 9, 16]\n",
      "("
     ]
    },
    {
     "name": "stdout",
     "output_type": "stream",
     "text": [
      "4,)\n",
      "30\n",
      "576\n"
     ]
    },
    {
     "name": "stdout",
     "output_type": "stream",
     "text": [
      "\n",
      " a = [1, 2, 3, 4, 5, 6, 7, 8, 9, 10]\n",
      "10\n",
      "2*a = [2, 4, 6, 8, 10, 12, 14, 16, 18, 20]\n",
      "(2*a)^2 ="
     ]
    },
    {
     "name": "stdout",
     "output_type": "stream",
     "text": [
      "[4, 16, 36, 64, 100, 144, 196, 256, 324, 400]\n",
      "Any"
     ]
    },
    {
     "name": "stdout",
     "output_type": "stream",
     "text": [
      "[1, 2.5, \""
     ]
    },
    {
     "name": "stdout",
     "output_type": "stream",
     "text": [
      "hi\"]\n",
      "sin(2π) =  -0.00\n"
     ]
    },
    {
     "name": "stdout",
     "output_type": "stream",
     "text": [
      "cos(2π) =  1.00\n",
      "f(2π) =  2.51\n"
     ]
    }
   ],
   "source": [
    "a1 = zeros(Float32, 2,3)  # Array with zeros\n",
    "println(\"The matrix \", a1)\n",
    "(h,w) = size(a1)\n",
    "println(\"has size \", h, \", \", w, \"\\n\")\n",
    "a2 = Array{Float32}(undef, 3)  # Array with default uninitialised values\n",
    "a3 = Float64[]  # Empty array\n",
    "\n",
    "a = [1,3,5,7,9,11,13,15]\n",
    "println(\"Array a is \", a)\n",
    "elements = findall(a -> a > 5 ? true : false,a)\n",
    "println(\"the elements of a that are larger than 5 are: $(a[elements]) \\n\")\n",
    "\n",
    "\n",
    "b = [x^2 for x=1:4]\n",
    "println(\"x^2 from 1 to 4 is $b\")\n",
    "println(size(b))\n",
    "println(sum(b))\n",
    "println(reduce(*,b))\n",
    "\n",
    "a = [i for i=1:10]\n",
    "println(\"\\n a = $a\")\n",
    "println(maximum(a))\n",
    "a *= 2\n",
    "println(\"2*a = \", a)\n",
    "println(\"(2*a)^2 =\", a.^2)  # the dot is necessary to do operation element-wise\n",
    "\n",
    "a = [1, 2.5, \"hi\"]  # Arrays can contain multiple types\n",
    "println(a)\n",
    "\n",
    "#import Pkg; Pkg.add(\"Printf\")\n",
    "using Printf\n",
    "\n",
    "# Arrays can contain functions!\n",
    "f(x) = √x  # do \\sqrt + tab to get the sqrt symbol\n",
    "a = [sin, cos, f]\n",
    "for func in a\n",
    "    @printf(\"%s(2π) =  %.2f\\n\", func, func(2π))\n",
    "    # Note: @ is used to invoke macros. Macros are similar to functions, but they execute at parse-time instead of run-time, making them useful for optimising the code. See the documentation for details.\n",
    "end\n"
   ]
  },
  {
   "cell_type": "markdown",
   "metadata": {
    "autoscroll": false,
    "ein.hycell": false,
    "ein.tags": "worksheet-0",
    "slideshow": {
     "slide_type": "-"
    }
   },
   "source": [
    "## Splice, append and push\n",
    "**Splice:**\n",
    "Remove the item at the given index, and return the removed item. \n",
    "Subsequent items are shifted down to fill the resulting gap. \n",
    "If specified, replacement values from an ordered collection will be spliced in place of the removed item.\n",
    "\n",
    "**Append:**\n",
    "Appends one array to the other.\n",
    "\n",
    "**Push:**\n",
    "Appends elements which are not themselves in an array."
   ]
  },
  {
   "cell_type": "code",
   "execution_count": 7,
   "metadata": {
    "autoscroll": false,
    "ein.hycell": false,
    "ein.tags": "worksheet-0",
    "slideshow": {
     "slide_type": "-"
    }
   },
   "outputs": [
    {
     "name": "stdout",
     "output_type": "stream",
     "text": [
      "[1, 2, 3, 4, 6, 7, 8, 9, 10]\n",
      "[1, 2, 3, 4, 5, 6, 7, 8, 9, 10]\n"
     ]
    },
    {
     "name": "stdout",
     "output_type": "stream",
     "text": [
      "[1, 2, 3, 4, 1, 1, 1, 9, 10]\n",
      "[1, 2, 3, 4, 1, 1, 1, 9, 10, 11, 12, 13]\n",
      "[1, 2, 3, 4, 1, 1, 1, 9, 10, 11, 12, 13, 14, 15, 16]\n"
     ]
    },
    {
     "name": "stdout",
     "output_type": "stream",
     "text": [
      "[1 2 3 4 1 1 1 9 10 11 12 13 14 15 16 16 15 14 13 12 11 10 9 1 1 1 4 3 2 1]\n",
      "fibonacci= [1, 1, 2, 3, 5, 8, 13, 21, 34, 55, 89, 144]\n"
     ]
    }
   ],
   "source": [
    "a = [i for i=1:10]\n",
    "splice!(a, 5)\n",
    "println(a)\n",
    "splice!(a, 5:4, 5)\n",
    "println(a)\n",
    "splice!(a, 5:8, [1,1,1])\n",
    "println(a)\n",
    "\n",
    "push!(a, 11, 12, 13)\n",
    "println(a)\n",
    "\n",
    "append!(a, [14, 15, 16])\n",
    "println(a)\n",
    "\n",
    "println([a' reverse(a', dims=2)])\n",
    "\n",
    "fibonacci = [1,1]\n",
    "for i=1:10\n",
    "    push!(fibonacci, fibonacci[end] + fibonacci[end-1])\n",
    "end\n",
    "println(\"fibonacci= $fibonacci\")"
   ]
  },
  {
   "cell_type": "markdown",
   "metadata": {
    "autoscroll": false,
    "ein.hycell": false,
    "ein.tags": "worksheet-0",
    "slideshow": {
     "slide_type": "-"
    }
   },
   "source": [
    "# Multi-dimensional arrays"
   ]
  },
  {
   "cell_type": "code",
   "execution_count": 8,
   "metadata": {
    "autoscroll": false,
    "ein.hycell": false,
    "ein.tags": "worksheet-0",
    "slideshow": {
     "slide_type": "-"
    }
   },
   "outputs": [],
   "source": [
    "A = [rand(Int8) for i=1:2, j=1:3]\n",
    "show(stdout, \"text/plain\", A)\n",
    "println(\"\\n\")\n",
    "\n",
    "A = [1 2 3; 4 5 6]\n",
    "show(stdout, \"text/plain\", A * [1, 0, 0])\n",
    "println(\"\\n\")\n",
    "\n",
    "a = collect(2:2:10)\n",
    "show(stdout, \"text/plain\", a)\n",
    "println(\"\\n\")\n",
    "\n",
    "A = rand(0:9, 2, 2)\n",
    "show(stdout, \"text/plain\", A)"
   ]
  },
  {
   "cell_type": "markdown",
   "metadata": {},
   "source": [
    "# Linear Algebra package"
   ]
  },
  {
   "cell_type": "code",
   "execution_count": null,
   "metadata": {},
   "outputs": [],
   "source": [
    "# using Pkg; Pkg.add(\"LinearAlgebra\")\n",
    "using LinearAlgebra\n",
    "\n",
    "A = [rand(Int8) for i=1:3, j=1:3]\n",
    "println(\"Matrix A = \")\n",
    "show(stdout, \"text/plain\", A)\n",
    "println(\"\\n\", \"A has trace $(tr(A)), determinant $(det(A))\")\n",
    "\n",
    "I = round.(A * inv(A), digits = 14)  # Dot necessary to apply round() element-wise to the matrix\n",
    "println(\"\\n\\n\", \"A times A^-1 gives the identity\", \"\\n\")\n",
    "show(stdout, \"text/plain\", I)"
   ]
  },
  {
   "cell_type": "code",
   "execution_count": null,
   "metadata": {},
   "outputs": [],
   "source": [
    "v = eigvecs(A)\n",
    "λ = eigvals(A)\n",
    "\n",
    "println(\"eigenvectors and eigenvalues of A\")\n",
    "for (vi,li) in zip(v,λ)\n",
    "    println(vi)\n",
    "    println(li, \"\\n\")\n",
    "end"
   ]
  },
  {
   "cell_type": "markdown",
   "metadata": {},
   "source": [
    "Factorize chooses the factorization method according to the matrix properties"
   ]
  },
  {
   "cell_type": "code",
   "execution_count": null,
   "metadata": {},
   "outputs": [],
   "source": [
    "factorize(A)  "
   ]
  },
  {
   "cell_type": "markdown",
   "metadata": {
    "autoscroll": false,
    "ein.hycell": false,
    "ein.tags": "worksheet-0",
    "slideshow": {
     "slide_type": "-"
    }
   },
   "source": [
    "# Tuples"
   ]
  },
  {
   "cell_type": "code",
   "execution_count": null,
   "metadata": {
    "autoscroll": false,
    "ein.hycell": false,
    "ein.tags": "worksheet-0",
    "slideshow": {
     "slide_type": "-"
    }
   },
   "outputs": [],
   "source": [
    "t = (1,2,3,4)\n",
    "println(t)\n",
    "\n",
    "t = (watermelon = (\"fruit\", 3.5), coffee = (\"drink\", 24, 1.5))\n",
    "println(t.coffee)\n",
    "println(t[1])"
   ]
  },
  {
   "cell_type": "markdown",
   "metadata": {
    "ein.tags": "worksheet-0",
    "slideshow": {
     "slide_type": "-"
    }
   },
   "source": [
    "# Dictionaries"
   ]
  },
  {
   "cell_type": "code",
   "execution_count": null,
   "metadata": {
    "autoscroll": false,
    "ein.hycell": false,
    "ein.tags": "worksheet-0",
    "slideshow": {
     "slide_type": "-"
    }
   },
   "outputs": [],
   "source": [
    "dict = Dict(\"π\"=>3.142, \"e\"=>2.718)\n",
    "\n",
    "# Adding another dictionary entry\n",
    "dict[\"τ\"] = 2*dict[\"π\"]\n",
    "println(\"Does dict contain the key π? $(haskey(dict, \"π\") ? \"yes\" : \"no\")\")\n",
    "println(\"Does dict contain the key √2? $(haskey(dict, \"√2\") ? \"yes\" : \"no\")\")\n",
    "dict[\"√2\"] = round(√2, digits = 3)\n",
    "    \n",
    "for (key,value) in dict\n",
    "    println(key, \" : \", value)\n",
    "end"
   ]
  },
  {
   "cell_type": "markdown",
   "metadata": {
    "autoscroll": false,
    "ein.hycell": false,
    "ein.tags": "worksheet-0",
    "slideshow": {
     "slide_type": "-"
    }
   },
   "source": [
    "# Functions"
   ]
  },
  {
   "cell_type": "markdown",
   "metadata": {
    "autoscroll": false,
    "ein.hycell": false,
    "ein.tags": "worksheet-0",
    "slideshow": {
     "slide_type": "-"
    }
   },
   "source": [
    "## There are 3 ways to declare a function"
   ]
  },
  {
   "cell_type": "code",
   "execution_count": null,
   "metadata": {
    "autoscroll": false,
    "ein.hycell": false,
    "ein.tags": "worksheet-0",
    "slideshow": {
     "slide_type": "-"
    }
   },
   "outputs": [],
   "source": [
    "function getSum(x, y, z = 4)\n",
    "    return x + y + z\n",
    "end\n",
    "println(getSum(1,2,3))\n",
    "\n",
    "g(x, y, z) = x + y + z\n",
    "println(g(1,2,3))\n",
    "    \n",
    "h = (x,y,z) -> x + y + z\n",
    "println(h(1,2,3))"
   ]
  },
  {
   "cell_type": "markdown",
   "metadata": {
    "autoscroll": false,
    "ein.hycell": false,
    "ein.tags": "worksheet-0",
    "slideshow": {
     "slide_type": "-"
    }
   },
   "source": [
    "## Functions with an exclamation mark ! modify the input"
   ]
  },
  {
   "cell_type": "code",
   "execution_count": null,
   "metadata": {
    "autoscroll": false,
    "ein.hycell": false,
    "ein.tags": "worksheet-0",
    "slideshow": {
     "slide_type": "-"
    }
   },
   "outputs": [],
   "source": [
    "a = [2,4,3,1]\n",
    "b = sort(a)  # Leaves a unchanged, but returns results of sorting\n",
    "println(\"a = $a is still unsorted, but b = $b is sorted\")\n",
    "\n",
    "sort!(a)  # modifies a\n",
    "println(\"a = $a is now sorted\")"
   ]
  },
  {
   "cell_type": "markdown",
   "metadata": {
    "autoscroll": false,
    "ein.hycell": false,
    "ein.tags": "worksheet-0",
    "slideshow": {
     "slide_type": "-"
    }
   },
   "source": [
    "## Unkown number of arguments"
   ]
  },
  {
   "cell_type": "code",
   "execution_count": null,
   "metadata": {
    "autoscroll": false,
    "ein.hycell": false,
    "ein.tags": "worksheet-0",
    "slideshow": {
     "slide_type": "-"
    }
   },
   "outputs": [],
   "source": [
    "function getSum2(text, args...)\n",
    "    sum = 0\n",
    "    for a in args\n",
    "        sum += a\n",
    "    end\n",
    "    println(\"$text $sum\\n\")\n",
    "end\n",
    "getSum2(\"the sum of 1 + 2 + 3  = \", 1, 2, 3)\n",
    "\n",
    "# Return a tuple\n",
    "function next2numbers(a)\n",
    "    return (a+1, a+2)\n",
    "end\n",
    "a = 40\n",
    "(a1, a2) = next2numbers(a)\n",
    "println(\"$a + 1 = $a1, and $a + 2 = $a2\")"
   ]
  },
  {
   "cell_type": "markdown",
   "metadata": {
    "autoscroll": false,
    "ein.hycell": false,
    "ein.tags": "worksheet-0",
    "slideshow": {
     "slide_type": "-"
    }
   },
   "source": [
    "## Variable scope"
   ]
  },
  {
   "cell_type": "code",
   "execution_count": null,
   "metadata": {
    "autoscroll": false,
    "ein.hycell": false,
    "ein.tags": "worksheet-0",
    "slideshow": {
     "slide_type": "-"
    }
   },
   "outputs": [],
   "source": [
    "a = 10\n",
    "function f(a)\n",
    "    a += 2\n",
    "    println(\"local a = $a\")\n",
    "end\n",
    "f(a)\n",
    "println(\"global a = $a\")\n",
    "\n",
    "function f()\n",
    "    global a += 2\n",
    "    println(\"local a = $a\")\n",
    "end\n",
    "f()\n",
    "println(\"global a = $a\")  "
   ]
  },
  {
   "cell_type": "markdown",
   "metadata": {
    "autoscroll": false,
    "ein.hycell": false,
    "ein.tags": "worksheet-0",
    "slideshow": {
     "slide_type": "-"
    }
   },
   "source": [
    "## Multiple dispatch"
   ]
  },
  {
   "cell_type": "code",
   "execution_count": null,
   "metadata": {
    "autoscroll": false,
    "ein.hycell": false,
    "ein.tags": "worksheet-0",
    "slideshow": {
     "slide_type": "-"
    }
   },
   "outputs": [],
   "source": [
    "function getMult(a::Number, b::Number)  # a and b are of the abstract type Number\n",
    "    return a * b\n",
    "end\n",
    "\n",
    "function getMult(a::String, b::String)\n",
    "    return parse(Int8, a) * parse(Int8, b)\n",
    "end\n",
    "println(\"5 * 3 = \", getMult(5, 3))\n",
    "println(\"5 * 3 = \", getMult(\"5\", \"3\"))"
   ]
  },
  {
   "cell_type": "markdown",
   "metadata": {
    "autoscroll": false,
    "ein.hycell": false,
    "ein.tags": "worksheet-0",
    "slideshow": {
     "slide_type": "-"
    }
   },
   "source": [
    "## Anonymous functions"
   ]
  },
  {
   "cell_type": "code",
   "execution_count": null,
   "metadata": {
    "autoscroll": false,
    "ein.hycell": false,
    "ein.tags": "worksheet-0",
    "slideshow": {
     "slide_type": "-"
    }
   },
   "outputs": [],
   "source": [
    "println(map(x -> 3x, [3,4,5]))\n",
    "println(map((x, y) -> x + y, [1,1], [3,6]))\n",
    "\n",
    "sentence = \"Obi Wan Kenobi\"\n",
    "println(\"The longest word in $sentence is \")\n",
    "println(reduce((x, y) -> length(x) > length(y) ? x : y, split(sentence)))"
   ]
  },
  {
   "cell_type": "markdown",
   "metadata": {},
   "source": [
    "## Mapping and Broadcasting"
   ]
  },
  {
   "cell_type": "code",
   "execution_count": null,
   "metadata": {},
   "outputs": [],
   "source": [
    "a = [1,2,3]\n",
    "rmap = map(x -> x + 1, a)\n",
    "rbro = broadcast(x -> x + 1, a)\n",
    "println(\"map and broadcast do the same for a single array\")\n",
    "println(rmap, rbro, \"\\n\")\n",
    "\n",
    "\n",
    "println(\"But they are different when applied to arrays of different sizes\")\n",
    "rmap = map(+, 1, [1,2,3])\n",
    "println(\"map gives $rmap, so it only applies the function to one element\")\n",
    "rbro = broadcast(+, 1, [1,2,3])\n",
    "println(\"broadcast gives $rbro. The smaller input is 'broadcasted' to have the same shape as the other one!\")"
   ]
  },
  {
   "cell_type": "code",
   "execution_count": null,
   "metadata": {},
   "outputs": [],
   "source": [
    "rbro = 1 .+ [1,2,3]  # Using a dot . is the same as broadcasting!"
   ]
  },
  {
   "cell_type": "code",
   "execution_count": null,
   "metadata": {},
   "outputs": [],
   "source": [
    "f(x) = x^2\n",
    "f.([1,2,3])"
   ]
  },
  {
   "cell_type": "markdown",
   "metadata": {
    "autoscroll": false,
    "ein.hycell": false,
    "ein.tags": "worksheet-0",
    "slideshow": {
     "slide_type": "-"
    }
   },
   "source": [
    "# Symbols\n",
    "(usually used as dictionary keys)"
   ]
  },
  {
   "cell_type": "code",
   "execution_count": null,
   "metadata": {
    "autoscroll": false,
    "ein.hycell": false,
    "ein.tags": "worksheet-0",
    "slideshow": {
     "slide_type": "-"
    }
   },
   "outputs": [],
   "source": [
    "d = Dict(:pi=>3.14, :e=>2.718)\n",
    "println(d[:e])"
   ]
  },
  {
   "cell_type": "markdown",
   "metadata": {
    "autoscroll": false,
    "ein.hycell": false,
    "ein.tags": "worksheet-0",
    "slideshow": {
     "slide_type": "-"
    }
   },
   "source": [
    "# Structs"
   ]
  },
  {
   "cell_type": "code",
   "execution_count": null,
   "metadata": {
    "autoscroll": false,
    "ein.hycell": false,
    "ein.tags": "worksheet-0",
    "slideshow": {
     "slide_type": "-"
    }
   },
   "outputs": [],
   "source": [
    "struct Animal\n",
    "    name::String\n",
    "    weight::Float64\n",
    "end\n",
    "\n",
    "function print_name(animal::Animal)\n",
    "    println(\"The name of this animal is $(animal.name)\")\n",
    "end\n",
    "\n",
    "dog = Animal(\"good boy\", 35)\n",
    "print_name(dog)\n",
    "\n",
    "println(\"Now let's try to rename the dog\")\n",
    "dog.name = \"new name\"  # error because structs are immutable!"
   ]
  },
  {
   "cell_type": "markdown",
   "metadata": {},
   "source": [
    "## Mutable structs"
   ]
  },
  {
   "cell_type": "code",
   "execution_count": null,
   "metadata": {
    "autoscroll": false,
    "ein.hycell": false,
    "ein.tags": "worksheet-0",
    "slideshow": {
     "slide_type": "-"
    }
   },
   "outputs": [],
   "source": [
    "mutable struct Animal2\n",
    "    name::String\n",
    "    weight::Float64\n",
    "end\n",
    "\n",
    "function print_name(animal::Animal2)\n",
    "    println(\"The name of this animal is $(animal.name)\")\n",
    "end\n",
    "\n",
    "dog = Animal2(\"good boy\", 35)\n",
    "println(dog.name)\n",
    "dog.name = \"new name\"  # now we made struct mutable so we can change its variables\n",
    "println(dog.name)"
   ]
  },
  {
   "cell_type": "markdown",
   "metadata": {
    "autoscroll": false,
    "ein.hycell": false,
    "ein.tags": "worksheet-0",
    "slideshow": {
     "slide_type": "-"
    }
   },
   "source": [
    "# Abstract types\n",
    "(Like \"pure virtual\" structs from C++, since they can't be instantiated, but they can have subtypes)"
   ]
  },
  {
   "cell_type": "code",
   "execution_count": null,
   "metadata": {
    "autoscroll": false,
    "ein.hycell": false,
    "ein.tags": "worksheet-0",
    "slideshow": {
     "slide_type": "-"
    }
   },
   "outputs": [],
   "source": [
    "abstract type Vehicle end\n",
    "    \n",
    "struct Car <: Vehicle\n",
    "    brand::String\n",
    "    wheels::Int8\n",
    "end\n",
    "\n",
    "struct Bike <: Vehicle\n",
    "    color::String\n",
    "    wheels::Int8\n",
    "end\n",
    "\n",
    "function nWheels(v::Vehicle)\n",
    "    return v.wheels\n",
    "end\n",
    "    \n",
    "function otherInfo(v::Car)\n",
    "     return v.brand\n",
    "end\n",
    "function otherInfo(v::Bike)\n",
    "     return v.color\n",
    "end\n",
    "    \n",
    "myBike = Bike(\"red\", 2)\n",
    "myCar = Car(\"Citroen\", 4)\n",
    "n = nWheels(myCar)\n",
    "b = otherInfo(myCar)\n",
    "println(\"car has $n wheels, and is a $b\")\n",
    "n = nWheels(myBike)\n",
    "b = otherInfo(myBike)    \n",
    "println(\"bike has $n wheels, and is $b\")\n",
    "    "
   ]
  },
  {
   "cell_type": "markdown",
   "metadata": {},
   "source": [
    "## Example abstract type Number"
   ]
  },
  {
   "cell_type": "code",
   "execution_count": null,
   "metadata": {},
   "outputs": [],
   "source": [
    "# Number is an abstract type too, that already exists in Julia.\n",
    "\n",
    "# We can create a new struct that is a sub-type number\n",
    "# We define D as a function-derivative pair: D has 2 numbers, a f(x) and f'(x) for a given x\n",
    "struct D <: Number  \n",
    "    f::Tuple{Float64,Float64}\n",
    "end\n",
    "\n",
    "# And we can overload operators to correctly behave with this new type\n",
    "# f'(x) should multiply and divide using the product and quotient rules\n",
    "import Base: +, -, *, /, convert, promote_rule, round\n",
    "+(x::D, y::D) = D(x.f .+ y.f)\n",
    "-(x::D, y::D) = D(x.f .- y.f)\n",
    "*(x::D, y::D) = D((x.f[1] * y.f[1], \n",
    "        x.f[1] * y.f[2] + x.f[2] * y.f[1]))\n",
    "/(x::D, y::D) = D((x.f[1] / y.f[1], (\n",
    "            y.f[1] * x.f[2] - x.f[1] * y.f[2]) / y.f[1]^2))\n",
    "convert(::Type{D}, x::Real) = D((x,zero(x)))\n",
    "promote_rule(::Type{D}, ::Type{<:Number}) = D\n",
    "round(x::D, d::Integer) = D((round(x.f[1], digits = d), round(x.f[2], digits = d)))\n",
    "\n",
    "# As an example, let us compute the derivative of sin from these simple rules that we defined\n",
    "function TaylorExpSin(x)\n",
    "    # 7th order expansion on sin(x)\n",
    "    return round(x - x^3 / factorial(3) + x^5 / factorial(5) - x^7 / factorial(7), 4)\n",
    "end\n",
    "\n",
    "x = pi / 3\n",
    "println(\"For x = $x, sin(x) = $(sin(x)), and its derivative is cos(x)=$(cos(x)) \\n\")\n",
    "println(\"Instead of calculating the derivative of sin(x), we can do it with our new type D\")\n",
    "d = D((x,1))\n",
    "println(\"d now contains x and its derivative x' = 1, d = $d \\n\")\n",
    "println(\"If we apply the Taylor expansion of sin(x) to d, we will get sin(x) and its derivative, simply because we defined the algebra rules for derivarives: \")\n",
    "println(\"TaylorExpSin(d) = $(TaylorExpSin(d)). It worked! :)\")"
   ]
  },
  {
   "cell_type": "markdown",
   "metadata": {
    "autoscroll": false,
    "ein.hycell": false,
    "ein.tags": "worksheet-0",
    "slideshow": {
     "slide_type": "-"
    }
   },
   "source": [
    "# File input/output\n",
    "    "
   ]
  },
  {
   "cell_type": "code",
   "execution_count": null,
   "metadata": {
    "autoscroll": false,
    "ein.hycell": false,
    "ein.tags": "worksheet-0",
    "slideshow": {
     "slide_type": "-"
    }
   },
   "outputs": [],
   "source": [
    "open(\"test.txt\", \"w\") do file\n",
    "    write(file, \"hello\\ngoodbye\")\n",
    "end\n",
    "\n",
    "open(\"test.txt\") do file\n",
    "    for line in eachline(file)\n",
    "        println(line)\n",
    "    end\n",
    "end"
   ]
  },
  {
   "cell_type": "markdown",
   "metadata": {},
   "source": [
    "# Plotting"
   ]
  },
  {
   "cell_type": "code",
   "execution_count": null,
   "metadata": {},
   "outputs": [],
   "source": [
    "# We can plot using different backends, including some python libraries like Plotly and PyPlot!\n",
    "\n",
    "using Pkg; Pkg.add(\"Plots\"); Pkg.add(\"Plotly\"); Pkg.add(\"PyPlot\"); Pkg.add(\"GR\"); Pkg.add(\"UnicodePlots\")\n",
    "using Plots\n",
    "gr()  # With this line we specify that we want to plot with the \"GR\" backend\n",
    "\n",
    "x = LinRange(0, 10, 100) \n",
    "plot(x,map(x->x^2.5,x), label = \"x^2.5\", width = 3)\n",
    "plot!(x,map(x->x^2,x), label = \"x^2\", width = 3)\n",
    "plot!(title = \"A title\", xlabel = \"x\")\n"
   ]
  },
  {
   "cell_type": "code",
   "execution_count": null,
   "metadata": {},
   "outputs": [],
   "source": [
    "pyplot()  # Now we're using the pyplot backend\n",
    "\n",
    "plot(x,map(x->x^2.5,x), label = \"x^2.5\", width = 3)\n",
    "plot!(x,map(x->x^2,x), label = \"x^2\", width = 3)\n",
    "plot!(title = \"A title\", xlabel = \"x\")"
   ]
  },
  {
   "cell_type": "code",
   "execution_count": null,
   "metadata": {},
   "outputs": [],
   "source": [
    "unicodeplots()\n",
    "\n",
    "plot(Plots.fakedata(50, 5), w = 3)\n",
    "# plot(x,map(x->x^2.5,x), label = \"x^2.5\", width = 3)\n",
    "# plot!(x,map(x->x^2,x), label = \"x^2\", width = 3)\n",
    "# plot!(title = \"A title\", xlabel = \"x\")"
   ]
  },
  {
   "cell_type": "markdown",
   "metadata": {
    "autoscroll": false,
    "ein.hycell": false,
    "ein.tags": "worksheet-0",
    "slideshow": {
     "slide_type": "-"
    }
   },
   "source": [
    "# Example of automatic differentiation\n",
    "One important library available in Julia is its automatic differentiation tools, especially useful for ML.\n",
    "Automatic differentiation computes a derivative using the chain-rule on the computer operations. \n",
    "This is more accurate than numerical derivation, and more efficient than symbolic by hand derivation."
   ]
  },
  {
   "cell_type": "code",
   "execution_count": null,
   "metadata": {
    "autoscroll": false,
    "ein.hycell": false,
    "ein.tags": "worksheet-0",
    "slideshow": {
     "slide_type": "-"
    }
   },
   "outputs": [],
   "source": [
    "# using Pkg; Pkg.add(\"ForwardDiff\")\n",
    "using ForwardDiff\n",
    "\n",
    "\"\"\"\n",
    "    Newton(x::Float64, f, n::Int64, plotPoints::Bool)\n",
    "Newton method to find f(x) = 0\n",
    "\n",
    "x is the starting guess\n",
    "\n",
    "n is the number of iterations\n",
    "\"\"\"\n",
    "function Newton(x::Float64, f, n::Int64 = 10)\n",
    "    xs = zeros(Float64, n+1)\n",
    "    for i=1:n\n",
    "        xs[i] = x\n",
    "        x -= f(x)/ForwardDiff.derivative(f, x)\n",
    "    end\n",
    "    xs[n+1] = x\n",
    "    return x,xs\n",
    "end\n",
    "\n",
    "@doc Newton  # To see the documentation for the function"
   ]
  },
  {
   "cell_type": "code",
   "execution_count": null,
   "metadata": {
    "autoscroll": false,
    "ein.hycell": false,
    "ein.tags": "worksheet-0",
    "slideshow": {
     "slide_type": "-"
    }
   },
   "outputs": [],
   "source": [
    "f(x) = x^2 - 8\n",
    "\n",
    "x0,xs = Newton(1.0,f, 4)\n",
    "\n",
    "println(\"Numerical result is x_0 = \", x0)\n",
    "println(\"Analytical result is sqrt(8) = \",√8)\n",
    "\n",
    "plotly()\n",
    "markersize = [9*i/length(xs) for i = 1:length(xs)]\n",
    "println(markersize)\n",
    "scatter(xs, f.(xs), color = \"red\", label = false, ms = markersize)\n",
    "title!(\"Points get bigger after each iteration\")"
   ]
  },
  {
   "cell_type": "markdown",
   "metadata": {
    "autoscroll": false,
    "ein.hycell": false,
    "ein.tags": "worksheet-0",
    "slideshow": {
     "slide_type": "-"
    }
   },
   "source": [
    "# More..."
   ]
  },
  {
   "cell_type": "markdown",
   "metadata": {},
   "source": [
    "Explore more Julia packages at https://juliahub.com/ui/Home"
   ]
  }
 ],
 "metadata": {
  "kernelspec": {
   "display_name": "Julia 1.9.3",
   "language": "julia",
   "name": "julia-1.9"
  },
  "language_info": {
   "file_extension": ".jl",
   "mimetype": "application/julia",
   "name": "julia",
   "version": "1.9.3"
  },
  "latex_envs": {
   "LaTeX_envs_menu_present": true,
   "autoclose": false,
   "autocomplete": true,
   "bibliofile": "biblio.bib",
   "cite_by": "apalike",
   "current_citInitial": 1,
   "eqLabelWithNumbers": true,
   "eqNumInitial": 1,
   "hotkeys": {
    "equation": "",
    "itemize": "Ctrl-I"
   },
   "labels_anchors": false,
   "latex_user_defs": false,
   "report_style_numbering": false,
   "user_envs_cfg": false
  },
  "name": "Julia_Crash_Course.ipynb",
  "toc": {
   "base_numbering": 1,
   "nav_menu": {},
   "number_sections": true,
   "sideBar": true,
   "skip_h1_title": false,
   "title_cell": "Table of Contents",
   "title_sidebar": "Contents",
   "toc_cell": false,
   "toc_position": {
    "height": "calc(100% - 180px)",
    "left": "10px",
    "top": "150px",
    "width": "273.188px"
   },
   "toc_section_display": true,
   "toc_window_display": true
  },
  "varInspector": {
   "cols": {
    "lenName": 16,
    "lenType": 16,
    "lenVar": 40
   },
   "kernels_config": {
    "python": {
     "delete_cmd_postfix": "",
     "delete_cmd_prefix": "del ",
     "library": "var_list.py",
     "varRefreshCmd": "print(var_dic_list())"
    },
    "r": {
     "delete_cmd_postfix": ") ",
     "delete_cmd_prefix": "rm(",
     "library": "var_list.r",
     "varRefreshCmd": "cat(var_dic_list()) "
    }
   },
   "types_to_exclude": [
    "module",
    "function",
    "builtin_function_or_method",
    "instance",
    "_Feature"
   ],
   "window_display": false
  }
 },
 "nbformat": 4,
 "nbformat_minor": 4
}
