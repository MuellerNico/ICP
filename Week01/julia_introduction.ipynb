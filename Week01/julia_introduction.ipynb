{
 "cells": [
  {
   "cell_type": "markdown",
   "metadata": {},
   "source": [
    "This notebook covers the main notions to get you started.\n",
    "Have a look at each cell, run it, and play around with the code :)\n",
    "\n",
    "You can find many more tutorials in the repository https://github.com/JuliaAcademy/JuliaTutorials\n",
    "\n",
    "\n",
    "Documentation can be found at https://docs.julialang.org/en/v1/ (or just Googling)"
   ]
  },
  {
   "cell_type": "markdown",
   "metadata": {
    "ein.tags": "worksheet-0",
    "slideshow": {
     "slide_type": "-"
    }
   },
   "source": [
    "# Types and Variables"
   ]
  },
  {
   "cell_type": "markdown",
   "metadata": {
    "autoscroll": false,
    "ein.hycell": false,
    "ein.tags": "worksheet-0",
    "slideshow": {
     "slide_type": "-"
    }
   },
   "source": [
    "## Variables can change type"
   ]
  },
  {
   "cell_type": "code",
   "execution_count": 1,
   "metadata": {
    "autoscroll": false,
    "ein.hycell": false,
    "ein.tags": "worksheet-0",
    "scrolled": true,
    "slideshow": {
     "slide_type": "-"
    }
   },
   "outputs": [
    {
     "name": "stdout",
     "output_type": "stream",
     "text": [
      "s = 0, type = Int64\n"
     ]
    },
    {
     "name": "stdout",
     "output_type": "stream",
     "text": [
      "s = 0\n",
      "s = Dog, type = String\n",
      "s = true, type = Bool"
     ]
    },
    {
     "name": "stdout",
     "output_type": "stream",
     "text": [
      "\n",
      "s = a, type = Char\n"
     ]
    },
    {
     "ename": "MethodError",
     "evalue": "MethodError: Cannot `convert` an object of type String to an object of type Float64\n\nClosest candidates are:\n  convert(::Type{T}, !Matched::T) where T<:Number\n   @ Base number.jl:6\n  convert(::Type{T}, !Matched::Number) where T<:Number\n   @ Base number.jl:7\n  convert(::Type{T}, !Matched::Base.TwicePrecision) where T<:Number\n   @ Base twiceprecision.jl:273\n  ...\n",
     "output_type": "error",
     "traceback": [
      "MethodError: Cannot `convert` an object of type String to an object of type Float64\n",
      "\n",
      "Closest candidates are:\n",
      "  convert(::Type{T}, !Matched::T) where T<:Number\n",
      "   @ Base number.jl:6\n",
      "  convert(::Type{T}, !Matched::Number) where T<:Number\n",
      "   @ Base number.jl:7\n",
      "  convert(::Type{T}, !Matched::Base.TwicePrecision) where T<:Number\n",
      "   @ Base twiceprecision.jl:273\n",
      "  ...\n",
      "\n",
      "\n",
      "Stacktrace:\n",
      " [1] changeNum()\n",
      "   @ Main ~/Desktop/ICP/julia_introduction.ipynb:17\n",
      " [2] top-level scope\n",
      "   @ ~/Desktop/ICP/julia_introduction.ipynb:20"
     ]
    }
   ],
   "source": [
    "s = 0\n",
    "println(\"s = $s, type = $(typeof(s))\")\n",
    "println(\"s = \", s)\n",
    "    \n",
    "s = \"Dog\"\n",
    "println(\"s = $s, type = $(typeof(s))\")\n",
    "    \n",
    "s = 2 == 4/2\n",
    "println(\"s = $s, type = $(typeof(s))\")\n",
    "\n",
    "s = 'a'\n",
    "println(\"s = $s, type = $(typeof(s))\")\n",
    "\n",
    "# You can assign a specific type to variable in a function or struct\n",
    "function changeNum()\n",
    "    x::Float64 = 10.4\n",
    "    x = \"Dog\"\n",
    "end\n",
    "\n",
    "changeNum()  # Causes an error because x is fixed to being Float64"
   ]
  },
  {
   "cell_type": "markdown",
   "metadata": {
    "autoscroll": false,
    "ein.hycell": false,
    "ein.tags": "worksheet-0",
    "slideshow": {
     "slide_type": "-"
    }
   },
   "source": [
    "## Other types"
   ]
  },
  {
   "cell_type": "code",
   "execution_count": 2,
   "metadata": {
    "autoscroll": false,
    "ein.hycell": false,
    "ein.tags": "worksheet-0",
    "slideshow": {
     "slide_type": "-"
    }
   },
   "outputs": [
    {
     "name": "stdout",
     "output_type": "stream",
     "text": [
      "float x is 9.86\n"
     ]
    },
    {
     "name": "stdout",
     "output_type": "stream",
     "text": [
      "big float x is 9.8599999999999994315658113919198513031005859375\n"
     ]
    }
   ],
   "source": [
    "# Int8: [-128, 127]\n",
    "# Int16 : [-2^15, 2^15-1]\n",
    "# Int32 : [-2^31, 2^31-1]\n",
    "# Int64 : [-2^63, 2^63-1]\n",
    "# Float32, Float64, ...\n",
    "# UInt8, UInt16 ... (unsigned int)\n",
    "# BigFloat, BigInt (increased precision)\n",
    "\n",
    "x = 9.86\n",
    "println(\"float x is $x\")\n",
    "x = BigFloat(x)\n",
    "println(\"big float x is $x\")"
   ]
  },
  {
   "cell_type": "markdown",
   "metadata": {
    "autoscroll": false,
    "ein.hycell": false,
    "ein.tags": "worksheet-0",
    "slideshow": {
     "slide_type": "-"
    }
   },
   "source": [
    "## Casting"
   ]
  },
  {
   "cell_type": "code",
   "execution_count": 3,
   "metadata": {
    "autoscroll": false,
    "ein.hycell": false,
    "ein.tags": "worksheet-0",
    "slideshow": {
     "slide_type": "-"
    }
   },
   "outputs": [
    {
     "name": "stdout",
     "output_type": "stream",
     "text": [
      "x\n"
     ]
    },
    {
     "name": "stdout",
     "output_type": "stream",
     "text": [
      "22.5\n",
      "3\n"
     ]
    },
    {
     "name": "stdout",
     "output_type": "stream",
     "text": [
      "4.0\n"
     ]
    }
   ],
   "source": [
    "c = Char(120)\n",
    "println(c)\n",
    "\n",
    "myFloat = parse(Float64, \"22.5\")\n",
    "println(myFloat)\n",
    "\n",
    "myInt = UInt8(trunc(3.14))\n",
    "println(myInt)\n",
    "\n",
    "myFloat = Float32(4)\n",
    "println(myFloat)"
   ]
  },
  {
   "cell_type": "markdown",
   "metadata": {
    "autoscroll": false,
    "ein.hycell": false,
    "ein.tags": "worksheet-0",
    "slideshow": {
     "slide_type": "-"
    }
   },
   "source": [
    "# Strings\n",
    "\n",
    "<span style=\"color:red; font-size:25px\">**Note: in Julia the first element of an array is at index 1, not 0!!**</span>"
   ]
  },
  {
   "cell_type": "code",
   "execution_count": 4,
   "metadata": {
    "autoscroll": false,
    "ein.hycell": false,
    "ein.tags": "worksheet-0",
    "slideshow": {
     "slide_type": "-"
    }
   },
   "outputs": [
    {
     "name": "stdout",
     "output_type": "stream",
     "text": [
      "11\n",
      "The first letter of ''hello there'' is h\n",
      "The second word in hello there is 'there'\n",
      "General Kenobi\n",
      "Anakin Skywalker\n",
      "dog is shorter than elephant\n",
      "and the letter 'o' is in dog\n"
     ]
    }
   ],
   "source": [
    "s = \"hello there\"\n",
    "println(length(s))\n",
    "    \n",
    "# Indexing starts at 1!!\n",
    "println(\"The first letter of ''$s'' is $(s[1])\")\n",
    "\n",
    "idx = findfirst(isequal(' '), s)\n",
    "println(\"The second word in $s is '$(s[idx+1:end])'\")\n",
    "\n",
    "s = string(\"General\", \" Kenobi\")\n",
    "println(s)\n",
    "println(\"Anakin\" * \" Skywalker\")\n",
    "\n",
    "animal = \"elephant\"\n",
    "if \"dog\" < animal && occursin(\"o\", \"dog\")\n",
    "    println(\"dog is shorter than $animal\\nand the letter 'o' is in dog\")\n",
    "elseif \"dog\" > animal\n",
    "    println(\"dog is shorter than $animal\")\n",
    "else\n",
    "    println(\"dog is as long as $animal\")\n",
    "end"
   ]
  },
  {
   "cell_type": "markdown",
   "metadata": {
    "autoscroll": false,
    "ein.hycell": false,
    "ein.tags": "worksheet-0",
    "slideshow": {
     "slide_type": "-"
    }
   },
   "source": [
    "# Loops"
   ]
  },
  {
   "cell_type": "code",
   "execution_count": 5,
   "metadata": {
    "autoscroll": false,
    "ein.hycell": false,
    "ein.tags": "worksheet-0",
    "slideshow": {
     "slide_type": "-"
    }
   },
   "outputs": [
    {
     "name": "stdout",
     "output_type": "stream",
     "text": [
      "2 is an even number, and is smaller than 3\n",
      "4 is an even number, and is larger or equal than 3\n",
      "6 is an even number, and is larger or equal than 3\n",
      "8 is an even number, and is larger or equal than 3\n",
      "1\n",
      "2\n",
      "3\n",
      "1\n",
      "3\n",
      "5\n",
      "2\n"
     ]
    }
   ],
   "source": [
    "i = 1\n",
    "while i < 9\n",
    "    if i%2 == 0\n",
    "        s = i >= 3 ? \"larger or equal\" : \"smaller\"  # The so-called \"ternary operator\"\n",
    "        println(\"$i is an even number, and is $s than 3\")\n",
    "    end\n",
    "    i += 1\n",
    "end\n",
    "\n",
    "[println(i) for i=1:3]\n",
    "[println(i) for i=1:2:5]\n",
    "    \n",
    "for i in [2,3,7]\n",
    "    if i%2 == 0\n",
    "        println(i)\n",
    "    end\n",
    "end"
   ]
  },
  {
   "cell_type": "markdown",
   "metadata": {
    "autoscroll": false,
    "ein.hycell": false,
    "ein.tags": "worksheet-0",
    "slideshow": {
     "slide_type": "-"
    }
   },
   "source": [
    "# Arrays"
   ]
  },
  {
   "cell_type": "code",
   "execution_count": 34,
   "metadata": {
    "autoscroll": false,
    "ein.hycell": false,
    "ein.tags": "worksheet-0",
    "slideshow": {
     "slide_type": "-"
    }
   },
   "outputs": [
    {
     "name": "stdout",
     "output_type": "stream",
     "text": [
      "The matrix Float32"
     ]
    },
    {
     "name": "stdout",
     "output_type": "stream",
     "text": [
      "[0.0 0.0 0.0; 0.0 0.0 0.0]\n",
      "has size 2, 3\n",
      "\n",
      "Array a is "
     ]
    },
    {
     "name": "stdout",
     "output_type": "stream",
     "text": [
      "[1, 3, 5, 7, 9, 11, 13, 15]\n",
      "the elements of a that are larger than 5 are: [7, 9, 11, 13, 15] \n"
     ]
    },
    {
     "name": "stdout",
     "output_type": "stream",
     "text": [
      "\n",
      "x^2 from 1 to 4 is [1, 4, 9, 16]\n",
      "("
     ]
    },
    {
     "name": "stdout",
     "output_type": "stream",
     "text": [
      "4,)\n",
      "30\n",
      "576\n",
      "\n",
      " a = [1, 2, 3, 4, 5, 6, 7, 8, 9, 10]\n",
      "10\n",
      "2*a = [2, 4, 6, 8, 10, 12, 14, 16, 18, 20]\n",
      "(2*a)^2 =[4, 16, 36, 64, 100, 144, 196, 256, 324, 400]\n",
      "Any"
     ]
    },
    {
     "name": "stdout",
     "output_type": "stream",
     "text": [
      "[1, 2.5, \""
     ]
    },
    {
     "name": "stdout",
     "output_type": "stream",
     "text": [
      "hi\"]\n",
      "sin(2π) =  -0.00\n"
     ]
    },
    {
     "name": "stdout",
     "output_type": "stream",
     "text": [
      "cos(2π) =  1.00\n",
      "f(2π) =  2.51\n"
     ]
    }
   ],
   "source": [
    "a1 = zeros(Float32, 2,3)  # Array with zeros\n",
    "println(\"The matrix \", a1)\n",
    "(h,w) = size(a1)\n",
    "println(\"has size \", h, \", \", w, \"\\n\")\n",
    "a2 = Array{Float32}(undef, 3)  # Array with default uninitialised values\n",
    "a3 = Float64[]  # Empty array\n",
    "\n",
    "a = [1,3,5,7,9,11,13,15]\n",
    "println(\"Array a is \", a)\n",
    "elements = findall(i -> i > 5 ? true : false,a)\n",
    "println(\"the elements of a that are larger than 5 are: $(a[elements]) \\n\")\n",
    "\n",
    "\n",
    "b = [x^2 for x=1:4]\n",
    "println(\"x^2 from 1 to 4 is $b\")\n",
    "println(size(b))\n",
    "println(sum(b))\n",
    "println(reduce(*,b))\n",
    "\n",
    "a = [i for i=1:10]\n",
    "println(\"\\n a = $a\")\n",
    "println(maximum(a))\n",
    "a *= 2\n",
    "println(\"2*a = \", a)\n",
    "println(\"(2*a)^2 =\", a.^2)  # the dot is necessary to do operation element-wise\n",
    "\n",
    "a = [1, 2.5, \"hi\"]  # Arrays can contain multiple types\n",
    "println(a)\n",
    "\n",
    "#import Pkg; Pkg.add(\"Printf\")\n",
    "using Printf\n",
    "\n",
    "# Arrays can contain functions!\n",
    "f(x) = √x  # do \\sqrt + tab to get the sqrt symbol\n",
    "a = [sin, cos, f]\n",
    "for func in a\n",
    "    @printf(\"%s(2π) =  %.2f\\n\", func, func(2π))\n",
    "    # Note: @ is used to invoke macros. Macros are similar to functions, but they execute at parse-time instead of run-time, making them useful for optimising the code. See the documentation for details.\n",
    "end\n"
   ]
  },
  {
   "cell_type": "markdown",
   "metadata": {
    "autoscroll": false,
    "ein.hycell": false,
    "ein.tags": "worksheet-0",
    "slideshow": {
     "slide_type": "-"
    }
   },
   "source": [
    "## Splice, append and push\n",
    "**Splice:**\n",
    "Remove the item at the given index, and return the removed item. \n",
    "Subsequent items are shifted down to fill the resulting gap. \n",
    "If specified, replacement values from an ordered collection will be spliced in place of the removed item.\n",
    "\n",
    "**Append:**\n",
    "Appends one array to the other.\n",
    "\n",
    "**Push:**\n",
    "Appends elements which are not themselves in an array."
   ]
  },
  {
   "cell_type": "code",
   "execution_count": 35,
   "metadata": {
    "autoscroll": false,
    "ein.hycell": false,
    "ein.tags": "worksheet-0",
    "slideshow": {
     "slide_type": "-"
    }
   },
   "outputs": [
    {
     "name": "stdout",
     "output_type": "stream",
     "text": [
      "[1, 2, 3, 4, 6, 7, 8, 9, 10]\n",
      "[1, 2, 3, 4, 5, 6, 7, 8, 9, 10]\n",
      "[1, 2, 3, 4, 1, 1, 1, 9, 10]\n",
      "[1, 2, 3, 4, 1, 1, 1, 9, 10, 11, 12, 13]\n",
      "[1, 2, 3, 4, 1, 1, 1, 9, 10, 11, 12, 13, 14, 15, 16]\n"
     ]
    },
    {
     "name": "stdout",
     "output_type": "stream",
     "text": [
      "[1 2 3 4 1 1 1 9 10 11 12 13 14 15 16 16 15 14 13 12 11 10 9 1 1 1 4 3 2 1]\n",
      "fibonacci= [1, 1, 2, 3, 5, 8, 13, 21, 34, 55, 89, 144]\n"
     ]
    }
   ],
   "source": [
    "a = [i for i=1:10]\n",
    "splice!(a, 5)\n",
    "println(a)\n",
    "splice!(a, 5:4, 5)\n",
    "println(a)\n",
    "splice!(a, 5:8, [1,1,1])\n",
    "println(a)\n",
    "\n",
    "push!(a, 11, 12, 13)\n",
    "println(a)\n",
    "\n",
    "append!(a, [14, 15, 16])\n",
    "println(a)\n",
    "\n",
    "println([a' reverse(a', dims=2)])\n",
    "\n",
    "fibonacci = [1,1]\n",
    "for i=1:10\n",
    "    push!(fibonacci, fibonacci[end] + fibonacci[end-1])\n",
    "end\n",
    "println(\"fibonacci= $fibonacci\")"
   ]
  },
  {
   "cell_type": "markdown",
   "metadata": {
    "autoscroll": false,
    "ein.hycell": false,
    "ein.tags": "worksheet-0",
    "slideshow": {
     "slide_type": "-"
    }
   },
   "source": [
    "# Multi-dimensional arrays"
   ]
  },
  {
   "cell_type": "code",
   "execution_count": 36,
   "metadata": {
    "autoscroll": false,
    "ein.hycell": false,
    "ein.tags": "worksheet-0",
    "slideshow": {
     "slide_type": "-"
    }
   },
   "outputs": [
    {
     "name": "stdout",
     "output_type": "stream",
     "text": [
      "2×3 Matrix{Int8}:\n",
      "  48  -127    48\n",
      " -65   -37  -121\n",
      "\n",
      "2-element Vector{Int64}:\n",
      " 1\n",
      " 4\n",
      "\n",
      "5-element Vector{Int64}:\n",
      "  2\n",
      "  4\n",
      "  6\n",
      "  8\n",
      " 10\n",
      "\n"
     ]
    },
    {
     "name": "stdout",
     "output_type": "stream",
     "text": [
      "2×2 Matrix{Int64}:\n",
      " 0  1\n",
      " 2  7"
     ]
    }
   ],
   "source": [
    "A = [rand(Int8) for i=1:2, j=1:3]\n",
    "show(stdout, \"text/plain\", A)\n",
    "println(\"\\n\")\n",
    "\n",
    "A = [1 2 3; 4 5 6]\n",
    "show(stdout, \"text/plain\", A * [1, 0, 0])\n",
    "println(\"\\n\")\n",
    "\n",
    "a = collect(2:2:10)\n",
    "show(stdout, \"text/plain\", a)\n",
    "println(\"\\n\")\n",
    "\n",
    "A = rand(0:9, 2, 2)\n",
    "show(stdout, \"text/plain\", A)"
   ]
  },
  {
   "cell_type": "markdown",
   "metadata": {},
   "source": [
    "# Linear Algebra package"
   ]
  },
  {
   "cell_type": "code",
   "execution_count": 62,
   "metadata": {},
   "outputs": [
    {
     "name": "stdout",
     "output_type": "stream",
     "text": [
      "Matrix A = \n",
      "3×3 Matrix{Int8}:\n",
      "   48   -37   7\n",
      "  -65    48  68\n",
      " -127  -121  31\n",
      "A has trace 127, determinant 809072.0\n",
      "\n",
      "\n",
      "A times A^-1 gives the identity\n",
      "\n",
      "3×3 Matrix{Float64}:\n",
      " 1.0  -0.0   0.0\n",
      " 0.0   1.0  -0.0\n",
      " 0.0   0.0   1.0"
     ]
    }
   ],
   "source": [
    "# using Pkg; Pkg.add(\"LinearAlgebra\")\n",
    "using LinearAlgebra\n",
    "\n",
    "A = [rand(Int8) for i=1:3, j=1:3]\n",
    "println(\"Matrix A = \")\n",
    "show(stdout, \"text/plain\", A)\n",
    "println(\"\\n\", \"A has trace $(tr(A)), determinant $(det(A))\")\n",
    "\n",
    "I = round.(A * inv(A), digits = 14)  # Dot necessary to apply round() element-wise to the matrix\n",
    "println(\"\\n\\n\", \"A times A^-1 gives the identity\", \"\\n\")\n",
    "show(stdout, \"text/plain\", I)"
   ]
  },
  {
   "cell_type": "code",
   "execution_count": 63,
   "metadata": {},
   "outputs": [
    {
     "name": "stdout",
     "output_type": "stream",
     "text": [
      "eigenvectors and eigenvalues of A\n",
      "-0.15170140696193962 - 0.14043345986301964im\n",
      "17.427053884921854 - 92.068642514994im\n",
      "\n",
      "0.0647378246910934 - 0.49352451912828443im\n",
      "17.427053884921854 + 92.068642514994im\n",
      "\n",
      "-0.8423227941532448 - 0.0im\n",
      "92.14589223015643 + 0.0im\n",
      "\n"
     ]
    }
   ],
   "source": [
    "v = eigvecs(A)\n",
    "λ = eigvals(A)\n",
    "\n",
    "println(\"eigenvectors and eigenvalues of A\")\n",
    "for (vi,li) in zip(v,λ)\n",
    "    println(vi)\n",
    "    println(li, \"\\n\")\n",
    "end"
   ]
  },
  {
   "cell_type": "markdown",
   "metadata": {},
   "source": [
    "Factorize chooses the factorization method according to the matrix properties"
   ]
  },
  {
   "cell_type": "code",
   "execution_count": 64,
   "metadata": {},
   "outputs": [
    {
     "data": {
      "text/plain": [
       "LU{Float64, Matrix{Float64}, Vector{Int64}}\n",
       "L factor:\n",
       "3×3 Matrix{Float64}:\n",
       "  1.0        0.0       0.0\n",
       "  0.511811   1.0       0.0\n",
       " -0.377953  -0.752597  1.0\n",
       "U factor:\n",
       "3×3 Matrix{Float64}:\n",
       " -127.0  -121.0    31.0\n",
       "    0.0   109.929  52.1339\n",
       "    0.0     0.0    57.9523"
      ]
     },
     "metadata": {},
     "output_type": "display_data"
    }
   ],
   "source": [
    "factorize(A)  "
   ]
  },
  {
   "cell_type": "markdown",
   "metadata": {
    "autoscroll": false,
    "ein.hycell": false,
    "ein.tags": "worksheet-0",
    "slideshow": {
     "slide_type": "-"
    }
   },
   "source": [
    "# Tuples"
   ]
  },
  {
   "cell_type": "code",
   "execution_count": 65,
   "metadata": {
    "autoscroll": false,
    "ein.hycell": false,
    "ein.tags": "worksheet-0",
    "slideshow": {
     "slide_type": "-"
    }
   },
   "outputs": [
    {
     "name": "stdout",
     "output_type": "stream",
     "text": [
      "(1, 2, 3, 4)\n",
      "(\"drink\", 24, 1.5)\n",
      "(\"fruit\", 3.5)\n"
     ]
    }
   ],
   "source": [
    "t = (1,2,3,4)\n",
    "println(t)\n",
    "\n",
    "t = (watermelon = (\"fruit\", 3.5), coffee = (\"drink\", 24, 1.5))\n",
    "println(t.coffee)\n",
    "println(t[1])"
   ]
  },
  {
   "cell_type": "markdown",
   "metadata": {
    "ein.tags": "worksheet-0",
    "slideshow": {
     "slide_type": "-"
    }
   },
   "source": [
    "# Dictionaries"
   ]
  },
  {
   "cell_type": "code",
   "execution_count": 66,
   "metadata": {
    "autoscroll": false,
    "ein.hycell": false,
    "ein.tags": "worksheet-0",
    "slideshow": {
     "slide_type": "-"
    }
   },
   "outputs": [
    {
     "name": "stdout",
     "output_type": "stream",
     "text": [
      "Does dict contain the key π? yes\n",
      "Does dict contain the key √2? no\n",
      "e : 2.718\n",
      "τ : 6.284\n",
      "√2 : 1.414\n",
      "π : 3.142\n"
     ]
    }
   ],
   "source": [
    "dict = Dict(\"π\"=>3.142, \"e\"=>2.718)\n",
    "\n",
    "# Adding another dictionary entry\n",
    "dict[\"τ\"] = 2*dict[\"π\"]\n",
    "println(\"Does dict contain the key π? $(haskey(dict, \"π\") ? \"yes\" : \"no\")\")\n",
    "println(\"Does dict contain the key √2? $(haskey(dict, \"√2\") ? \"yes\" : \"no\")\")\n",
    "dict[\"√2\"] = round(√2, digits = 3)\n",
    "    \n",
    "for (key,value) in dict\n",
    "    println(key, \" : \", value)\n",
    "end"
   ]
  },
  {
   "cell_type": "markdown",
   "metadata": {
    "autoscroll": false,
    "ein.hycell": false,
    "ein.tags": "worksheet-0",
    "slideshow": {
     "slide_type": "-"
    }
   },
   "source": [
    "# Functions"
   ]
  },
  {
   "cell_type": "markdown",
   "metadata": {
    "autoscroll": false,
    "ein.hycell": false,
    "ein.tags": "worksheet-0",
    "slideshow": {
     "slide_type": "-"
    }
   },
   "source": [
    "## There are 3 ways to declare a function"
   ]
  },
  {
   "cell_type": "code",
   "execution_count": 67,
   "metadata": {
    "autoscroll": false,
    "ein.hycell": false,
    "ein.tags": "worksheet-0",
    "slideshow": {
     "slide_type": "-"
    }
   },
   "outputs": [
    {
     "name": "stdout",
     "output_type": "stream",
     "text": [
      "6\n",
      "6\n",
      "6\n"
     ]
    }
   ],
   "source": [
    "function getSum(x, y, z = 4)\n",
    "    return x + y + z\n",
    "end\n",
    "println(getSum(1,2,3))\n",
    "\n",
    "g(x, y, z) = x + y + z\n",
    "println(g(1,2,3))\n",
    "    \n",
    "h = (x,y,z) -> x + y + z\n",
    "println(h(1,2,3))"
   ]
  },
  {
   "cell_type": "markdown",
   "metadata": {
    "autoscroll": false,
    "ein.hycell": false,
    "ein.tags": "worksheet-0",
    "slideshow": {
     "slide_type": "-"
    }
   },
   "source": [
    "## Functions with an exclamation mark ! modify the input"
   ]
  },
  {
   "cell_type": "code",
   "execution_count": 68,
   "metadata": {
    "autoscroll": false,
    "ein.hycell": false,
    "ein.tags": "worksheet-0",
    "slideshow": {
     "slide_type": "-"
    }
   },
   "outputs": [
    {
     "name": "stdout",
     "output_type": "stream",
     "text": [
      "a = [2, 4, 3, 1] is still unsorted, but b = [1, 2, 3, 4] is sorted\n",
      "a = [1, 2, 3, 4] is now sorted\n"
     ]
    }
   ],
   "source": [
    "a = [2,4,3,1]\n",
    "b = sort(a)  # Leaves a unchanged, but returns results of sorting\n",
    "println(\"a = $a is still unsorted, but b = $b is sorted\")\n",
    "\n",
    "sort!(a)  # modifies a\n",
    "println(\"a = $a is now sorted\")"
   ]
  },
  {
   "cell_type": "markdown",
   "metadata": {
    "autoscroll": false,
    "ein.hycell": false,
    "ein.tags": "worksheet-0",
    "slideshow": {
     "slide_type": "-"
    }
   },
   "source": [
    "## Unkown number of arguments"
   ]
  },
  {
   "cell_type": "code",
   "execution_count": 69,
   "metadata": {
    "autoscroll": false,
    "ein.hycell": false,
    "ein.tags": "worksheet-0",
    "slideshow": {
     "slide_type": "-"
    }
   },
   "outputs": [
    {
     "name": "stdout",
     "output_type": "stream",
     "text": [
      "the sum of 1 + 2 + 3  =  6\n",
      "\n"
     ]
    },
    {
     "name": "stdout",
     "output_type": "stream",
     "text": [
      "40 + 1 = 41, and 40 + 2 = 42\n"
     ]
    }
   ],
   "source": [
    "function getSum2(text, args...)\n",
    "    sum = 0\n",
    "    for a in args\n",
    "        sum += a\n",
    "    end\n",
    "    println(\"$text $sum\\n\")\n",
    "end\n",
    "getSum2(\"the sum of 1 + 2 + 3  = \", 1, 2, 3)\n",
    "\n",
    "# Return a tuple\n",
    "function next2numbers(a)\n",
    "    return (a+1, a+2)\n",
    "end\n",
    "a = 40\n",
    "(a1, a2) = next2numbers(a)\n",
    "println(\"$a + 1 = $a1, and $a + 2 = $a2\")"
   ]
  },
  {
   "cell_type": "markdown",
   "metadata": {
    "autoscroll": false,
    "ein.hycell": false,
    "ein.tags": "worksheet-0",
    "slideshow": {
     "slide_type": "-"
    }
   },
   "source": [
    "## Variable scope"
   ]
  },
  {
   "cell_type": "code",
   "execution_count": 70,
   "metadata": {
    "autoscroll": false,
    "ein.hycell": false,
    "ein.tags": "worksheet-0",
    "slideshow": {
     "slide_type": "-"
    }
   },
   "outputs": [
    {
     "name": "stdout",
     "output_type": "stream",
     "text": [
      "local a = 12\n",
      "global a = 10\n",
      "local a = 12\n",
      "global a = 12\n"
     ]
    }
   ],
   "source": [
    "a = 10\n",
    "function f(a)\n",
    "    a += 2\n",
    "    println(\"local a = $a\")\n",
    "end\n",
    "f(a)\n",
    "println(\"global a = $a\")\n",
    "\n",
    "function f()\n",
    "    global a += 2\n",
    "    println(\"local a = $a\")\n",
    "end\n",
    "f()\n",
    "println(\"global a = $a\")  "
   ]
  },
  {
   "cell_type": "markdown",
   "metadata": {
    "autoscroll": false,
    "ein.hycell": false,
    "ein.tags": "worksheet-0",
    "slideshow": {
     "slide_type": "-"
    }
   },
   "source": [
    "## Multiple dispatch"
   ]
  },
  {
   "cell_type": "code",
   "execution_count": 71,
   "metadata": {
    "autoscroll": false,
    "ein.hycell": false,
    "ein.tags": "worksheet-0",
    "slideshow": {
     "slide_type": "-"
    }
   },
   "outputs": [
    {
     "name": "stdout",
     "output_type": "stream",
     "text": [
      "5 * 3 = 15\n",
      "5 * 3 = 15\n"
     ]
    }
   ],
   "source": [
    "function getMult(a::Number, b::Number)  # a and b are of the abstract type Number\n",
    "    return a * b\n",
    "end\n",
    "\n",
    "function getMult(a::String, b::String)\n",
    "    return parse(Int8, a) * parse(Int8, b)\n",
    "end\n",
    "println(\"5 * 3 = \", getMult(5, 3))\n",
    "println(\"5 * 3 = \", getMult(\"5\", \"3\"))"
   ]
  },
  {
   "cell_type": "markdown",
   "metadata": {
    "autoscroll": false,
    "ein.hycell": false,
    "ein.tags": "worksheet-0",
    "slideshow": {
     "slide_type": "-"
    }
   },
   "source": [
    "## Anonymous functions"
   ]
  },
  {
   "cell_type": "code",
   "execution_count": 72,
   "metadata": {
    "autoscroll": false,
    "ein.hycell": false,
    "ein.tags": "worksheet-0",
    "slideshow": {
     "slide_type": "-"
    }
   },
   "outputs": [
    {
     "name": "stdout",
     "output_type": "stream",
     "text": [
      "[9, 12, 15]\n",
      "[4, 7]\n",
      "The longest word in Obi Wan Kenobi is \n",
      "Kenobi"
     ]
    },
    {
     "name": "stdout",
     "output_type": "stream",
     "text": [
      "\n"
     ]
    }
   ],
   "source": [
    "println(map(x -> 3x, [3,4,5]))\n",
    "println(map((x, y) -> x + y, [1,1], [3,6]))\n",
    "\n",
    "sentence = \"Obi Wan Kenobi\"\n",
    "println(\"The longest word in $sentence is \")\n",
    "println(reduce((x, y) -> length(x) > length(y) ? x : y, split(sentence)))"
   ]
  },
  {
   "cell_type": "markdown",
   "metadata": {},
   "source": [
    "## Mapping and Broadcasting"
   ]
  },
  {
   "cell_type": "code",
   "execution_count": 73,
   "metadata": {},
   "outputs": [
    {
     "name": "stdout",
     "output_type": "stream",
     "text": [
      "map and broadcast do the same for a single array\n",
      "[2, 3, 4][2, 3, 4]\n",
      "\n",
      "But they are different when applied to arrays of different sizes\n",
      "map gives [2], so it only applies the function to one element\n",
      "broadcast gives [2, 3, 4]. The smaller input is 'broadcasted' to have the same shape as the other one!\n"
     ]
    }
   ],
   "source": [
    "a = [1,2,3]\n",
    "rmap = map(x -> x + 1, a)\n",
    "rbro = broadcast(x -> x + 1, a)\n",
    "println(\"map and broadcast do the same for a single array\")\n",
    "println(rmap, rbro, \"\\n\")\n",
    "\n",
    "\n",
    "println(\"But they are different when applied to arrays of different sizes\")\n",
    "rmap = map(+, 1, [1,2,3])\n",
    "println(\"map gives $rmap, so it only applies the function to one element\")\n",
    "rbro = broadcast(+, 1, [1,2,3])\n",
    "println(\"broadcast gives $rbro. The smaller input is 'broadcasted' to have the same shape as the other one!\")"
   ]
  },
  {
   "cell_type": "code",
   "execution_count": 74,
   "metadata": {},
   "outputs": [
    {
     "data": {
      "text/plain": [
       "3-element Vector{Int64}:\n",
       " 2\n",
       " 3\n",
       " 4"
      ]
     },
     "metadata": {},
     "output_type": "display_data"
    }
   ],
   "source": [
    "rbro = 1 .+ [1,2,3]  # Using a dot . is the same as broadcasting!"
   ]
  },
  {
   "cell_type": "code",
   "execution_count": 75,
   "metadata": {},
   "outputs": [
    {
     "data": {
      "text/plain": [
       "3-element Vector{Int64}:\n",
       " 1\n",
       " 4\n",
       " 9"
      ]
     },
     "metadata": {},
     "output_type": "display_data"
    }
   ],
   "source": [
    "f(x) = x^2\n",
    "f.([1,2,3])"
   ]
  },
  {
   "cell_type": "markdown",
   "metadata": {
    "autoscroll": false,
    "ein.hycell": false,
    "ein.tags": "worksheet-0",
    "slideshow": {
     "slide_type": "-"
    }
   },
   "source": [
    "# Symbols\n",
    "(usually used as dictionary keys)"
   ]
  },
  {
   "cell_type": "code",
   "execution_count": 76,
   "metadata": {
    "autoscroll": false,
    "ein.hycell": false,
    "ein.tags": "worksheet-0",
    "slideshow": {
     "slide_type": "-"
    }
   },
   "outputs": [
    {
     "name": "stdout",
     "output_type": "stream",
     "text": [
      "2.718\n"
     ]
    }
   ],
   "source": [
    "d = Dict(:pi=>3.14, :e=>2.718)\n",
    "println(d[:e])"
   ]
  },
  {
   "cell_type": "markdown",
   "metadata": {
    "autoscroll": false,
    "ein.hycell": false,
    "ein.tags": "worksheet-0",
    "slideshow": {
     "slide_type": "-"
    }
   },
   "source": [
    "# Structs"
   ]
  },
  {
   "cell_type": "code",
   "execution_count": 77,
   "metadata": {
    "autoscroll": false,
    "ein.hycell": false,
    "ein.tags": "worksheet-0",
    "slideshow": {
     "slide_type": "-"
    }
   },
   "outputs": [
    {
     "name": "stdout",
     "output_type": "stream",
     "text": [
      "The name of this animal is good boy\n",
      "Now let's try to rename the dog\n"
     ]
    },
    {
     "ename": "ErrorException",
     "evalue": "setfield!: immutable struct of type Animal cannot be changed",
     "output_type": "error",
     "traceback": [
      "setfield!: immutable struct of type Animal cannot be changed\n",
      "\n",
      "Stacktrace:\n",
      " [1] setproperty!(x::Animal, f::Symbol, v::String)\n",
      "   @ Base ./Base.jl:38\n",
      " [2] top-level scope\n",
      "   @ ~/Desktop/ICP/julia_introduction.ipynb:14"
     ]
    }
   ],
   "source": [
    "struct Animal\n",
    "    name::String\n",
    "    weight::Float64\n",
    "end\n",
    "\n",
    "function print_name(animal::Animal)\n",
    "    println(\"The name of this animal is $(animal.name)\")\n",
    "end\n",
    "\n",
    "dog = Animal(\"good boy\", 35)\n",
    "print_name(dog)\n",
    "\n",
    "println(\"Now let's try to rename the dog\")\n",
    "dog.name = \"new name\"  # error because structs are immutable!"
   ]
  },
  {
   "cell_type": "markdown",
   "metadata": {},
   "source": [
    "## Mutable structs"
   ]
  },
  {
   "cell_type": "code",
   "execution_count": 78,
   "metadata": {
    "autoscroll": false,
    "ein.hycell": false,
    "ein.tags": "worksheet-0",
    "slideshow": {
     "slide_type": "-"
    }
   },
   "outputs": [
    {
     "name": "stdout",
     "output_type": "stream",
     "text": [
      "good boy\n",
      "new name\n"
     ]
    }
   ],
   "source": [
    "mutable struct Animal2\n",
    "    name::String\n",
    "    weight::Float64\n",
    "end\n",
    "\n",
    "function print_name(animal::Animal2)\n",
    "    println(\"The name of this animal is $(animal.name)\")\n",
    "end\n",
    "\n",
    "dog = Animal2(\"good boy\", 35)\n",
    "println(dog.name)\n",
    "dog.name = \"new name\"  # now we made struct mutable so we can change its variables\n",
    "println(dog.name)"
   ]
  },
  {
   "cell_type": "markdown",
   "metadata": {
    "autoscroll": false,
    "ein.hycell": false,
    "ein.tags": "worksheet-0",
    "slideshow": {
     "slide_type": "-"
    }
   },
   "source": [
    "# Abstract types\n",
    "(Like \"pure virtual\" structs from C++, since they can't be instantiated, but they can have subtypes)"
   ]
  },
  {
   "cell_type": "code",
   "execution_count": 79,
   "metadata": {
    "autoscroll": false,
    "ein.hycell": false,
    "ein.tags": "worksheet-0",
    "slideshow": {
     "slide_type": "-"
    }
   },
   "outputs": [
    {
     "name": "stdout",
     "output_type": "stream",
     "text": [
      "car has 4 wheels, and is a Citroen\n",
      "bike has 2 wheels, and is red\n"
     ]
    }
   ],
   "source": [
    "abstract type Vehicle end\n",
    "    \n",
    "struct Car <: Vehicle\n",
    "    brand::String\n",
    "    wheels::Int8\n",
    "end\n",
    "\n",
    "struct Bike <: Vehicle\n",
    "    color::String\n",
    "    wheels::Int8\n",
    "end\n",
    "\n",
    "function nWheels(v::Vehicle)\n",
    "    return v.wheels\n",
    "end\n",
    "    \n",
    "function otherInfo(v::Car)\n",
    "     return v.brand\n",
    "end\n",
    "function otherInfo(v::Bike)\n",
    "     return v.color\n",
    "end\n",
    "    \n",
    "myBike = Bike(\"red\", 2)\n",
    "myCar = Car(\"Citroen\", 4)\n",
    "n = nWheels(myCar)\n",
    "b = otherInfo(myCar)\n",
    "println(\"car has $n wheels, and is a $b\")\n",
    "n = nWheels(myBike)\n",
    "b = otherInfo(myBike)    \n",
    "println(\"bike has $n wheels, and is $b\")\n",
    "    "
   ]
  },
  {
   "cell_type": "markdown",
   "metadata": {},
   "source": [
    "## Example abstract type Number"
   ]
  },
  {
   "cell_type": "code",
   "execution_count": 80,
   "metadata": {},
   "outputs": [
    {
     "name": "stdout",
     "output_type": "stream",
     "text": [
      "For x = 1.0471975511965976, sin(x) = 0.8660254037844386, and its derivative is cos(x)=0.5000000000000001 \n",
      "\n",
      "Instead of calculating the derivative of sin(x), we can do it with our new type D\n",
      "d now contains x and its derivative x' = 1, d = D((1.0471975511965976, 1.0)) \n",
      "\n",
      "If we apply the Taylor expansion of sin(x) to d, we will get sin(x) and its derivative, simply because we defined the algebra rules for derivarives: \n"
     ]
    },
    {
     "name": "stdout",
     "output_type": "stream",
     "text": [
      "TaylorExpSin(d) = D((0.866, 0.5)). It worked! :)\n"
     ]
    }
   ],
   "source": [
    "# Number is an abstract type too, that already exists in Julia.\n",
    "\n",
    "# We can create a new struct that is a sub-type number\n",
    "# We define D as a function-derivative pair: D has 2 numbers, a f(x) and f'(x) for a given x\n",
    "struct D <: Number  \n",
    "    f::Tuple{Float64,Float64}\n",
    "end\n",
    "\n",
    "# And we can overload operators to correctly behave with this new type\n",
    "# f'(x) should multiply and divide using the product and quotient rules\n",
    "import Base: +, -, *, /, convert, promote_rule, round\n",
    "+(x::D, y::D) = D(x.f .+ y.f)\n",
    "-(x::D, y::D) = D(x.f .- y.f)\n",
    "*(x::D, y::D) = D((x.f[1] * y.f[1], \n",
    "        x.f[1] * y.f[2] + x.f[2] * y.f[1]))\n",
    "/(x::D, y::D) = D((x.f[1] / y.f[1], (\n",
    "            y.f[1] * x.f[2] - x.f[1] * y.f[2]) / y.f[1]^2))\n",
    "convert(::Type{D}, x::Real) = D((x,zero(x)))\n",
    "promote_rule(::Type{D}, ::Type{<:Number}) = D\n",
    "round(x::D, d::Integer) = D((round(x.f[1], digits = d), round(x.f[2], digits = d)))\n",
    "\n",
    "# As an example, let us compute the derivative of sin from these simple rules that we defined\n",
    "function TaylorExpSin(x)\n",
    "    # 7th order expansion on sin(x)\n",
    "    return round(x - x^3 / factorial(3) + x^5 / factorial(5) - x^7 / factorial(7), 4)\n",
    "end\n",
    "\n",
    "x = pi / 3\n",
    "println(\"For x = $x, sin(x) = $(sin(x)), and its derivative is cos(x)=$(cos(x)) \\n\")\n",
    "println(\"Instead of calculating the derivative of sin(x), we can do it with our new type D\")\n",
    "d = D((x,1))\n",
    "println(\"d now contains x and its derivative x' = 1, d = $d \\n\")\n",
    "println(\"If we apply the Taylor expansion of sin(x) to d, we will get sin(x) and its derivative, simply because we defined the algebra rules for derivarives: \")\n",
    "println(\"TaylorExpSin(d) = $(TaylorExpSin(d)). It worked! :)\")"
   ]
  },
  {
   "cell_type": "markdown",
   "metadata": {
    "autoscroll": false,
    "ein.hycell": false,
    "ein.tags": "worksheet-0",
    "slideshow": {
     "slide_type": "-"
    }
   },
   "source": [
    "# File input/output\n",
    "    "
   ]
  },
  {
   "cell_type": "code",
   "execution_count": 81,
   "metadata": {
    "autoscroll": false,
    "ein.hycell": false,
    "ein.tags": "worksheet-0",
    "slideshow": {
     "slide_type": "-"
    }
   },
   "outputs": [
    {
     "name": "stdout",
     "output_type": "stream",
     "text": [
      "hello\n",
      "goodbye\n"
     ]
    }
   ],
   "source": [
    "open(\"test.txt\", \"w\") do file\n",
    "    write(file, \"hello\\ngoodbye\")\n",
    "end\n",
    "\n",
    "open(\"test.txt\") do file\n",
    "    for line in eachline(file)\n",
    "        println(line)\n",
    "    end\n",
    "end"
   ]
  },
  {
   "cell_type": "markdown",
   "metadata": {},
   "source": [
    "# Plotting"
   ]
  },
  {
   "cell_type": "code",
   "execution_count": 87,
   "metadata": {},
   "outputs": [
    {
     "name": "stderr",
     "output_type": "stream",
     "text": [
      "\u001b[32m\u001b[1m   Resolving\u001b[22m\u001b[39m package versions...\n"
     ]
    },
    {
     "name": "stderr",
     "output_type": "stream",
     "text": [
      "\u001b[32m\u001b[1m  No Changes\u001b[22m\u001b[39m to `~/.julia/environments/v1.9/Project.toml`\n",
      "\u001b[32m\u001b[1m  No Changes\u001b[22m\u001b[39m to `~/.julia/environments/v1.9/Manifest.toml`\n"
     ]
    },
    {
     "name": "stderr",
     "output_type": "stream",
     "text": [
      "\u001b[32m\u001b[1m   Resolving\u001b[22m\u001b[39m package versions...\n"
     ]
    },
    {
     "name": "stderr",
     "output_type": "stream",
     "text": [
      "\u001b[32m\u001b[1m  No Changes\u001b[22m\u001b[39m to `~/.julia/environments/v1.9/Project.toml`\n",
      "\u001b[32m\u001b[1m  No Changes\u001b[22m\u001b[39m to `~/.julia/environments/v1.9/Manifest.toml`\n"
     ]
    },
    {
     "name": "stderr",
     "output_type": "stream",
     "text": [
      "\u001b[32m\u001b[1m   Resolving\u001b[22m\u001b[39m package versions...\n"
     ]
    },
    {
     "name": "stderr",
     "output_type": "stream",
     "text": [
      "\u001b[32m\u001b[1m  No Changes\u001b[22m\u001b[39m to `~/.julia/environments/v1.9/Project.toml`\n",
      "\u001b[32m\u001b[1m  No Changes\u001b[22m\u001b[39m to `~/.julia/environments/v1.9/Manifest.toml`\n"
     ]
    },
    {
     "name": "stderr",
     "output_type": "stream",
     "text": [
      "\u001b[32m\u001b[1m   Resolving\u001b[22m\u001b[39m package versions...\n"
     ]
    },
    {
     "name": "stderr",
     "output_type": "stream",
     "text": [
      "\u001b[32m\u001b[1m  No Changes\u001b[22m\u001b[39m to `~/.julia/environments/v1.9/Project.toml`\n",
      "\u001b[32m\u001b[1m  No Changes\u001b[22m\u001b[39m to `~/.julia/environments/v1.9/Manifest.toml`\n"
     ]
    },
    {
     "name": "stderr",
     "output_type": "stream",
     "text": [
      "\u001b[32m\u001b[1m   Resolving\u001b[22m\u001b[39m package versions...\n"
     ]
    },
    {
     "name": "stderr",
     "output_type": "stream",
     "text": [
      "\u001b[32m\u001b[1m  No Changes\u001b[22m\u001b[39m to `~/.julia/environments/v1.9/Project.toml`\n",
      "\u001b[32m\u001b[1m  No Changes\u001b[22m\u001b[39m to `~/.julia/environments/v1.9/Manifest.toml`\n"
     ]
    },
    {
     "data": {
      "image/png": "[encoded data removed]",
      "image/svg+xml": [
       "<?xml version=\"1.0\" encoding=\"utf-8\"?>\n",
       "<svg xmlns=\"http://www.w3.org/2000/svg\" xmlns:xlink=\"http://www.w3.org/1999/xlink\" width=\"600\" height=\"400\" viewBox=\"0 0 2400 1600\">\n",
       "<defs>\n",
       "  <clipPath id=\"clip360\">\n",
       "    <rect x=\"0\" y=\"0\" width=\"2400\" height=\"1600\"/>\n",
       "  </clipPath>\n",
       "</defs>\n",
       "<path clip-path=\"url(#clip360)\" d=\"M0 1600 L2400 1600 L2400 0 L0 0  Z\" fill=\"#ffffff\" fill-rule=\"evenodd\" fill-opacity=\"1\"/>\n",
       "<defs>\n",
       "  <clipPath id=\"clip361\">\n",
       "    <rect x=\"480\" y=\"0\" width=\"1681\" height=\"1600\"/>\n",
       "  </clipPath>\n",
       "</defs>\n",
       "<path clip-path=\"url(#clip360)\" d=\"M170.857 1423.18 L2352.76 1423.18 L2352.76 123.472 L170.857 123.472  Z\" fill=\"#ffffff\" fill-rule=\"evenodd\" fill-opacity=\"1\"/>\n",
       "<defs>\n",
       "  <clipPath id=\"clip362\">\n",
       "    <rect x=\"170\" y=\"123\" width=\"2183\" height=\"1301\"/>\n",
       "  </clipPath>\n",
       "</defs>\n",
       "<polyline clip-path=\"url(#clip362)\" style=\"stroke:#000000; stroke-linecap:round; stroke-linejoin:round; stroke-width:2; stroke-opacity:0.1; fill:none\" points=\"232.609,1423.18 232.609,123.472 \"/>\n",
       "<polyline clip-path=\"url(#clip362)\" style=\"stroke:#000000; stroke-linecap:round; stroke-linejoin:round; stroke-width:2; stroke-opacity:0.1; fill:none\" points=\"747.208,1423.18 747.208,123.472 \"/>\n",
       "<polyline clip-path=\"url(#clip362)\" style=\"stroke:#000000; stroke-linecap:round; stroke-linejoin:round; stroke-width:2; stroke-opacity:0.1; fill:none\" points=\"1261.81,1423.18 1261.81,123.472 \"/>\n",
       "<polyline clip-path=\"url(#clip362)\" style=\"stroke:#000000; stroke-linecap:round; stroke-linejoin:round; stroke-width:2; stroke-opacity:0.1; fill:none\" points=\"1776.41,1423.18 1776.41,123.472 \"/>\n",
       "<polyline clip-path=\"url(#clip362)\" style=\"stroke:#000000; stroke-linecap:round; stroke-linejoin:round; stroke-width:2; stroke-opacity:0.1; fill:none\" points=\"2291,1423.18 2291,123.472 \"/>\n",
       "<polyline clip-path=\"url(#clip360)\" style=\"stroke:#000000; stroke-linecap:round; stroke-linejoin:round; stroke-width:4; stroke-opacity:1; fill:none\" points=\"170.857,1423.18 2352.76,1423.18 \"/>\n",
       "<polyline clip-path=\"url(#clip360)\" style=\"stroke:#000000; stroke-linecap:round; stroke-linejoin:round; stroke-width:4; stroke-opacity:1; fill:none\" points=\"232.609,1423.18 232.609,1404.28 \"/>\n",
       "<polyline clip-path=\"url(#clip360)\" style=\"stroke:#000000; stroke-linecap:round; stroke-linejoin:round; stroke-width:4; stroke-opacity:1; fill:none\" points=\"747.208,1423.18 747.208,1404.28 \"/>\n",
       "<polyline clip-path=\"url(#clip360)\" style=\"stroke:#000000; stroke-linecap:round; stroke-linejoin:round; stroke-width:4; stroke-opacity:1; fill:none\" points=\"1261.81,1423.18 1261.81,1404.28 \"/>\n",
       "<polyline clip-path=\"url(#clip360)\" style=\"stroke:#000000; stroke-linecap:round; stroke-linejoin:round; stroke-width:4; stroke-opacity:1; fill:none\" points=\"1776.41,1423.18 1776.41,1404.28 \"/>\n",
       "<polyline clip-path=\"url(#clip360)\" style=\"stroke:#000000; stroke-linecap:round; stroke-linejoin:round; stroke-width:4; stroke-opacity:1; fill:none\" points=\"2291,1423.18 2291,1404.28 \"/>\n",
       "<path clip-path=\"url(#clip360)\" d=\"M209.994 1454.1 Q206.383 1454.1 204.554 1457.66 Q202.748 1461.2 202.748 1468.33 Q202.748 1475.44 204.554 1479.01 Q206.383 1482.55 209.994 1482.55 Q213.628 1482.55 215.433 1479.01 Q217.262 1475.44 217.262 1468.33 Q217.262 1461.2 215.433 1457.66 Q213.628 1454.1 209.994 1454.1 M209.994 1450.39 Q215.804 1450.39 218.859 1455 Q221.938 1459.58 221.938 1468.33 Q221.938 1477.06 218.859 1481.67 Q215.804 1486.25 209.994 1486.25 Q204.183 1486.25 201.105 1481.67 Q198.049 1477.06 198.049 1468.33 Q198.049 1459.58 201.105 1455 Q204.183 1450.39 209.994 1450.39 Z\" fill=\"#000000\" fill-rule=\"nonzero\" fill-opacity=\"1\" /><path clip-path=\"url(#clip360)\" d=\"M230.156 1479.7 L235.04 1479.7 L235.04 1485.58 L230.156 1485.58 L230.156 1479.7 Z\" fill=\"#000000\" fill-rule=\"nonzero\" fill-opacity=\"1\" /><path clip-path=\"url(#clip360)\" d=\"M255.225 1454.1 Q251.614 1454.1 249.785 1457.66 Q247.98 1461.2 247.98 1468.33 Q247.98 1475.44 249.785 1479.01 Q251.614 1482.55 255.225 1482.55 Q258.859 1482.55 260.665 1479.01 Q262.493 1475.44 262.493 1468.33 Q262.493 1461.2 260.665 1457.66 Q258.859 1454.1 255.225 1454.1 M255.225 1450.39 Q261.035 1450.39 264.091 1455 Q267.169 1459.58 267.169 1468.33 Q267.169 1477.06 264.091 1481.67 Q261.035 1486.25 255.225 1486.25 Q249.415 1486.25 246.336 1481.67 Q243.281 1477.06 243.281 1468.33 Q243.281 1459.58 246.336 1455 Q249.415 1450.39 255.225 1450.39 Z\" fill=\"#000000\" fill-rule=\"nonzero\" fill-opacity=\"1\" /><path clip-path=\"url(#clip360)\" d=\"M718.944 1481.64 L735.264 1481.64 L735.264 1485.58 L713.319 1485.58 L713.319 1481.64 Q715.981 1478.89 720.565 1474.26 Q725.171 1469.61 726.352 1468.27 Q728.597 1465.74 729.477 1464.01 Q730.379 1462.25 730.379 1460.56 Q730.379 1457.8 728.435 1456.07 Q726.514 1454.33 723.412 1454.33 Q721.213 1454.33 718.759 1455.09 Q716.328 1455.86 713.551 1457.41 L713.551 1452.69 Q716.375 1451.55 718.828 1450.97 Q721.282 1450.39 723.319 1450.39 Q728.69 1450.39 731.884 1453.08 Q735.078 1455.77 735.078 1460.26 Q735.078 1462.39 734.268 1464.31 Q733.481 1466.2 731.375 1468.8 Q730.796 1469.47 727.694 1472.69 Q724.592 1475.88 718.944 1481.64 Z\" fill=\"#000000\" fill-rule=\"nonzero\" fill-opacity=\"1\" /><path clip-path=\"url(#clip360)\" d=\"M745.078 1479.7 L749.963 1479.7 L749.963 1485.58 L745.078 1485.58 L745.078 1479.7 Z\" fill=\"#000000\" fill-rule=\"nonzero\" fill-opacity=\"1\" /><path clip-path=\"url(#clip360)\" d=\"M760.194 1451.02 L778.55 1451.02 L778.55 1454.96 L764.476 1454.96 L764.476 1463.43 Q765.495 1463.08 766.513 1462.92 Q767.532 1462.73 768.55 1462.73 Q774.337 1462.73 777.717 1465.9 Q781.097 1469.08 781.097 1474.49 Q781.097 1480.07 777.624 1483.17 Q774.152 1486.25 767.833 1486.25 Q765.657 1486.25 763.388 1485.88 Q761.143 1485.51 758.736 1484.77 L758.736 1480.07 Q760.819 1481.2 763.041 1481.76 Q765.263 1482.32 767.74 1482.32 Q771.745 1482.32 774.083 1480.21 Q776.421 1478.1 776.421 1474.49 Q776.421 1470.88 774.083 1468.77 Q771.745 1466.67 767.74 1466.67 Q765.865 1466.67 763.99 1467.08 Q762.138 1467.5 760.194 1468.38 L760.194 1451.02 Z\" fill=\"#000000\" fill-rule=\"nonzero\" fill-opacity=\"1\" /><path clip-path=\"url(#clip360)\" d=\"M1228.97 1451.02 L1247.33 1451.02 L1247.33 1454.96 L1233.25 1454.96 L1233.25 1463.43 Q1234.27 1463.08 1235.29 1462.92 Q1236.31 1462.73 1237.33 1462.73 Q1243.11 1462.73 1246.49 1465.9 Q1249.87 1469.08 1249.87 1474.49 Q1249.87 1480.07 1246.4 1483.17 Q1242.93 1486.25 1236.61 1486.25 Q1234.43 1486.25 1232.17 1485.88 Q1229.92 1485.51 1227.51 1484.77 L1227.51 1480.07 Q1229.6 1481.2 1231.82 1481.76 Q1234.04 1482.32 1236.52 1482.32 Q1240.52 1482.32 1242.86 1480.21 Q1245.2 1478.1 1245.2 1474.49 Q1245.2 1470.88 1242.86 1468.77 Q1240.52 1466.67 1236.52 1466.67 Q1234.64 1466.67 1232.77 1467.08 Q1230.92 1467.5 1228.97 1468.38 L1228.97 1451.02 Z\" fill=\"#000000\" fill-rule=\"nonzero\" fill-opacity=\"1\" /><path clip-path=\"url(#clip360)\" d=\"M1259.09 1479.7 L1263.97 1479.7 L1263.97 1485.58 L1259.09 1485.58 L1259.09 1479.7 Z\" fill=\"#000000\" fill-rule=\"nonzero\" fill-opacity=\"1\" /><path clip-path=\"url(#clip360)\" d=\"M1284.16 1454.1 Q1280.54 1454.1 1278.72 1457.66 Q1276.91 1461.2 1276.91 1468.33 Q1276.91 1475.44 1278.72 1479.01 Q1280.54 1482.55 1284.16 1482.55 Q1287.79 1482.55 1289.6 1479.01 Q1291.42 1475.44 1291.42 1468.33 Q1291.42 1461.2 1289.6 1457.66 Q1287.79 1454.1 1284.16 1454.1 M1284.16 1450.39 Q1289.97 1450.39 1293.02 1455 Q1296.1 1459.58 1296.1 1468.33 Q1296.1 1477.06 1293.02 1481.67 Q1289.97 1486.25 1284.16 1486.25 Q1278.35 1486.25 1275.27 1481.67 Q1272.21 1477.06 1272.21 1468.33 Q1272.21 1459.58 1275.27 1455 Q1278.35 1450.39 1284.16 1450.39 Z\" fill=\"#000000\" fill-rule=\"nonzero\" fill-opacity=\"1\" /><path clip-path=\"url(#clip360)\" d=\"M1742.72 1451.02 L1764.95 1451.02 L1764.95 1453.01 L1752.4 1485.58 L1747.52 1485.58 L1759.32 1454.96 L1742.72 1454.96 L1742.72 1451.02 Z\" fill=\"#000000\" fill-rule=\"nonzero\" fill-opacity=\"1\" /><path clip-path=\"url(#clip360)\" d=\"M1774.07 1479.7 L1778.95 1479.7 L1778.95 1485.58 L1774.07 1485.58 L1774.07 1479.7 Z\" fill=\"#000000\" fill-rule=\"nonzero\" fill-opacity=\"1\" /><path clip-path=\"url(#clip360)\" d=\"M1789.18 1451.02 L1807.54 1451.02 L1807.54 1454.96 L1793.47 1454.96 L1793.47 1463.43 Q1794.48 1463.08 1795.5 1462.92 Q1796.52 1462.73 1797.54 1462.73 Q1803.33 1462.73 1806.71 1465.9 Q1810.09 1469.08 1810.09 1474.49 Q1810.09 1480.07 1806.61 1483.17 Q1803.14 1486.25 1796.82 1486.25 Q1794.65 1486.25 1792.38 1485.88 Q1790.13 1485.51 1787.72 1484.77 L1787.72 1480.07 Q1789.81 1481.2 1792.03 1481.76 Q1794.25 1482.32 1796.73 1482.32 Q1800.73 1482.32 1803.07 1480.21 Q1805.41 1478.1 1805.41 1474.49 Q1805.41 1470.88 1803.07 1468.77 Q1800.73 1466.67 1796.73 1466.67 Q1794.85 1466.67 1792.98 1467.08 Q1791.13 1467.5 1789.18 1468.38 L1789.18 1451.02 Z\" fill=\"#000000\" fill-rule=\"nonzero\" fill-opacity=\"1\" /><path clip-path=\"url(#clip360)\" d=\"M2243.08 1481.64 L2250.71 1481.64 L2250.71 1455.28 L2242.4 1456.95 L2242.4 1452.69 L2250.67 1451.02 L2255.34 1451.02 L2255.34 1481.64 L2262.98 1481.64 L2262.98 1485.58 L2243.08 1485.58 L2243.08 1481.64 Z\" fill=\"#000000\" fill-rule=\"nonzero\" fill-opacity=\"1\" /><path clip-path=\"url(#clip360)\" d=\"M2282.43 1454.1 Q2278.82 1454.1 2276.99 1457.66 Q2275.18 1461.2 2275.18 1468.33 Q2275.18 1475.44 2276.99 1479.01 Q2278.82 1482.55 2282.43 1482.55 Q2286.06 1482.55 2287.87 1479.01 Q2289.7 1475.44 2289.7 1468.33 Q2289.7 1461.2 2287.87 1457.66 Q2286.06 1454.1 2282.43 1454.1 M2282.43 1450.39 Q2288.24 1450.39 2291.29 1455 Q2294.37 1459.58 2294.37 1468.33 Q2294.37 1477.06 2291.29 1481.67 Q2288.24 1486.25 2282.43 1486.25 Q2276.62 1486.25 2273.54 1481.67 Q2270.48 1477.06 2270.48 1468.33 Q2270.48 1459.58 2273.54 1455 Q2276.62 1450.39 2282.43 1450.39 Z\" fill=\"#000000\" fill-rule=\"nonzero\" fill-opacity=\"1\" /><path clip-path=\"url(#clip360)\" d=\"M2302.59 1479.7 L2307.47 1479.7 L2307.47 1485.58 L2302.59 1485.58 L2302.59 1479.7 Z\" fill=\"#000000\" fill-rule=\"nonzero\" fill-opacity=\"1\" /><path clip-path=\"url(#clip360)\" d=\"M2327.66 1454.1 Q2324.05 1454.1 2322.22 1457.66 Q2320.41 1461.2 2320.41 1468.33 Q2320.41 1475.44 2322.22 1479.01 Q2324.05 1482.55 2327.66 1482.55 Q2331.29 1482.55 2333.1 1479.01 Q2334.93 1475.44 2334.93 1468.33 Q2334.93 1461.2 2333.1 1457.66 Q2331.29 1454.1 2327.66 1454.1 M2327.66 1450.39 Q2333.47 1450.39 2336.52 1455 Q2339.6 1459.58 2339.6 1468.33 Q2339.6 1477.06 2336.52 1481.67 Q2333.47 1486.25 2327.66 1486.25 Q2321.85 1486.25 2318.77 1481.67 Q2315.71 1477.06 2315.71 1468.33 Q2315.71 1459.58 2318.77 1455 Q2321.85 1450.39 2327.66 1450.39 Z\" fill=\"#000000\" fill-rule=\"nonzero\" fill-opacity=\"1\" /><path clip-path=\"url(#clip360)\" d=\"M1278.42 1532.4 L1265.53 1549.74 L1279.09 1568.04 L1272.18 1568.04 L1261.81 1554.04 L1251.43 1568.04 L1244.52 1568.04 L1258.37 1549.39 L1245.7 1532.4 L1252.61 1532.4 L1262.06 1545.1 L1271.51 1532.4 L1278.42 1532.4 Z\" fill=\"#000000\" fill-rule=\"nonzero\" fill-opacity=\"1\" /><polyline clip-path=\"url(#clip362)\" style=\"stroke:#000000; stroke-linecap:round; stroke-linejoin:round; stroke-width:2; stroke-opacity:0.1; fill:none\" points=\"170.857,1386.4 2352.76,1386.4 \"/>\n",
       "<polyline clip-path=\"url(#clip362)\" style=\"stroke:#000000; stroke-linecap:round; stroke-linejoin:round; stroke-width:2; stroke-opacity:0.1; fill:none\" points=\"170.857,998.656 2352.76,998.656 \"/>\n",
       "<polyline clip-path=\"url(#clip362)\" style=\"stroke:#000000; stroke-linecap:round; stroke-linejoin:round; stroke-width:2; stroke-opacity:0.1; fill:none\" points=\"170.857,610.917 2352.76,610.917 \"/>\n",
       "<polyline clip-path=\"url(#clip362)\" style=\"stroke:#000000; stroke-linecap:round; stroke-linejoin:round; stroke-width:2; stroke-opacity:0.1; fill:none\" points=\"170.857,223.178 2352.76,223.178 \"/>\n",
       "<polyline clip-path=\"url(#clip360)\" style=\"stroke:#000000; stroke-linecap:round; stroke-linejoin:round; stroke-width:4; stroke-opacity:1; fill:none\" points=\"170.857,1423.18 170.857,123.472 \"/>\n",
       "<polyline clip-path=\"url(#clip360)\" style=\"stroke:#000000; stroke-linecap:round; stroke-linejoin:round; stroke-width:4; stroke-opacity:1; fill:none\" points=\"170.857,1386.4 189.755,1386.4 \"/>\n",
       "<polyline clip-path=\"url(#clip360)\" style=\"stroke:#000000; stroke-linecap:round; stroke-linejoin:round; stroke-width:4; stroke-opacity:1; fill:none\" points=\"170.857,998.656 189.755,998.656 \"/>\n",
       "<polyline clip-path=\"url(#clip360)\" style=\"stroke:#000000; stroke-linecap:round; stroke-linejoin:round; stroke-width:4; stroke-opacity:1; fill:none\" points=\"170.857,610.917 189.755,610.917 \"/>\n",
       "<polyline clip-path=\"url(#clip360)\" style=\"stroke:#000000; stroke-linecap:round; stroke-linejoin:round; stroke-width:4; stroke-opacity:1; fill:none\" points=\"170.857,223.178 189.755,223.178 \"/>\n",
       "<path clip-path=\"url(#clip360)\" d=\"M122.913 1372.19 Q119.302 1372.19 117.473 1375.76 Q115.668 1379.3 115.668 1386.43 Q115.668 1393.54 117.473 1397.1 Q119.302 1400.64 122.913 1400.64 Q126.547 1400.64 128.353 1397.1 Q130.182 1393.54 130.182 1386.43 Q130.182 1379.3 128.353 1375.76 Q126.547 1372.19 122.913 1372.19 M122.913 1368.49 Q128.723 1368.49 131.779 1373.1 Q134.857 1377.68 134.857 1386.43 Q134.857 1395.16 131.779 1399.76 Q128.723 1404.35 122.913 1404.35 Q117.103 1404.35 114.024 1399.76 Q110.969 1395.16 110.969 1386.43 Q110.969 1377.68 114.024 1373.1 Q117.103 1368.49 122.913 1368.49 Z\" fill=\"#000000\" fill-rule=\"nonzero\" fill-opacity=\"1\" /><path clip-path=\"url(#clip360)\" d=\"M53.3995 1012 L61.0384 1012 L61.0384 985.636 L52.7282 987.302 L52.7282 983.043 L60.9921 981.376 L65.668 981.376 L65.668 1012 L73.3068 1012 L73.3068 1015.94 L53.3995 1015.94 L53.3995 1012 Z\" fill=\"#000000\" fill-rule=\"nonzero\" fill-opacity=\"1\" /><path clip-path=\"url(#clip360)\" d=\"M92.7512 984.455 Q89.1401 984.455 87.3114 988.02 Q85.5058 991.561 85.5058 998.691 Q85.5058 1005.8 87.3114 1009.36 Q89.1401 1012.9 92.7512 1012.9 Q96.3854 1012.9 98.1909 1009.36 Q100.02 1005.8 100.02 998.691 Q100.02 991.561 98.1909 988.02 Q96.3854 984.455 92.7512 984.455 M92.7512 980.751 Q98.5613 980.751 101.617 985.358 Q104.696 989.941 104.696 998.691 Q104.696 1007.42 101.617 1012.02 Q98.5613 1016.61 92.7512 1016.61 Q86.941 1016.61 83.8623 1012.02 Q80.8068 1007.42 80.8068 998.691 Q80.8068 989.941 83.8623 985.358 Q86.941 980.751 92.7512 980.751 Z\" fill=\"#000000\" fill-rule=\"nonzero\" fill-opacity=\"1\" /><path clip-path=\"url(#clip360)\" d=\"M122.913 984.455 Q119.302 984.455 117.473 988.02 Q115.668 991.561 115.668 998.691 Q115.668 1005.8 117.473 1009.36 Q119.302 1012.9 122.913 1012.9 Q126.547 1012.9 128.353 1009.36 Q130.182 1005.8 130.182 998.691 Q130.182 991.561 128.353 988.02 Q126.547 984.455 122.913 984.455 M122.913 980.751 Q128.723 980.751 131.779 985.358 Q134.857 989.941 134.857 998.691 Q134.857 1007.42 131.779 1012.02 Q128.723 1016.61 122.913 1016.61 Q117.103 1016.61 114.024 1012.02 Q110.969 1007.42 110.969 998.691 Q110.969 989.941 114.024 985.358 Q117.103 980.751 122.913 980.751 Z\" fill=\"#000000\" fill-rule=\"nonzero\" fill-opacity=\"1\" /><path clip-path=\"url(#clip360)\" d=\"M56.6171 624.262 L72.9365 624.262 L72.9365 628.197 L50.9921 628.197 L50.9921 624.262 Q53.6541 621.507 58.2375 616.878 Q62.8439 612.225 64.0245 610.882 Q66.2698 608.359 67.1494 606.623 Q68.0522 604.864 68.0522 603.174 Q68.0522 600.419 66.1078 598.683 Q64.1865 596.947 61.0847 596.947 Q58.8856 596.947 56.4319 597.711 Q54.0014 598.475 51.2236 600.026 L51.2236 595.304 Q54.0477 594.169 56.5014 593.591 Q58.955 593.012 60.9921 593.012 Q66.3624 593.012 69.5568 595.697 Q72.7513 598.382 72.7513 602.873 Q72.7513 605.003 71.9411 606.924 Q71.1541 608.822 69.0476 611.415 Q68.4689 612.086 65.367 615.304 Q62.2652 618.498 56.6171 624.262 Z\" fill=\"#000000\" fill-rule=\"nonzero\" fill-opacity=\"1\" /><path clip-path=\"url(#clip360)\" d=\"M92.7512 596.716 Q89.1401 596.716 87.3114 600.281 Q85.5058 603.822 85.5058 610.952 Q85.5058 618.058 87.3114 621.623 Q89.1401 625.165 92.7512 625.165 Q96.3854 625.165 98.1909 621.623 Q100.02 618.058 100.02 610.952 Q100.02 603.822 98.1909 600.281 Q96.3854 596.716 92.7512 596.716 M92.7512 593.012 Q98.5613 593.012 101.617 597.619 Q104.696 602.202 104.696 610.952 Q104.696 619.679 101.617 624.285 Q98.5613 628.868 92.7512 628.868 Q86.941 628.868 83.8623 624.285 Q80.8068 619.679 80.8068 610.952 Q80.8068 602.202 83.8623 597.619 Q86.941 593.012 92.7512 593.012 Z\" fill=\"#000000\" fill-rule=\"nonzero\" fill-opacity=\"1\" /><path clip-path=\"url(#clip360)\" d=\"M122.913 596.716 Q119.302 596.716 117.473 600.281 Q115.668 603.822 115.668 610.952 Q115.668 618.058 117.473 621.623 Q119.302 625.165 122.913 625.165 Q126.547 625.165 128.353 621.623 Q130.182 618.058 130.182 610.952 Q130.182 603.822 128.353 600.281 Q126.547 596.716 122.913 596.716 M122.913 593.012 Q128.723 593.012 131.779 597.619 Q134.857 602.202 134.857 610.952 Q134.857 619.679 131.779 624.285 Q128.723 628.868 122.913 628.868 Q117.103 628.868 114.024 624.285 Q110.969 619.679 110.969 610.952 Q110.969 602.202 114.024 597.619 Q117.103 593.012 122.913 593.012 Z\" fill=\"#000000\" fill-rule=\"nonzero\" fill-opacity=\"1\" /><path clip-path=\"url(#clip360)\" d=\"M66.7559 221.824 Q70.1124 222.541 71.9874 224.81 Q73.8855 227.078 73.8855 230.411 Q73.8855 235.527 70.367 238.328 Q66.8485 241.129 60.3671 241.129 Q58.1912 241.129 55.8764 240.689 Q53.5847 240.273 51.131 239.416 L51.131 234.902 Q53.0754 236.036 55.3903 236.615 Q57.7051 237.194 60.2282 237.194 Q64.6263 237.194 66.918 235.458 Q69.2328 233.722 69.2328 230.411 Q69.2328 227.356 67.08 225.643 Q64.9504 223.907 61.131 223.907 L57.1032 223.907 L57.1032 220.064 L61.3161 220.064 Q64.7652 220.064 66.5939 218.699 Q68.4226 217.31 68.4226 214.717 Q68.4226 212.055 66.5245 210.643 Q64.6495 209.208 61.131 209.208 Q59.2097 209.208 57.0106 209.625 Q54.8115 210.041 52.1727 210.921 L52.1727 206.754 Q54.8347 206.013 57.1495 205.643 Q59.4875 205.273 61.5476 205.273 Q66.8717 205.273 69.9735 207.703 Q73.0753 210.111 73.0753 214.231 Q73.0753 217.101 71.4318 219.092 Q69.7883 221.06 66.7559 221.824 Z\" fill=\"#000000\" fill-rule=\"nonzero\" fill-opacity=\"1\" /><path clip-path=\"url(#clip360)\" d=\"M92.7512 208.976 Q89.1401 208.976 87.3114 212.541 Q85.5058 216.083 85.5058 223.212 Q85.5058 230.319 87.3114 233.884 Q89.1401 237.425 92.7512 237.425 Q96.3854 237.425 98.1909 233.884 Q100.02 230.319 100.02 223.212 Q100.02 216.083 98.1909 212.541 Q96.3854 208.976 92.7512 208.976 M92.7512 205.273 Q98.5613 205.273 101.617 209.879 Q104.696 214.463 104.696 223.212 Q104.696 231.939 101.617 236.546 Q98.5613 241.129 92.7512 241.129 Q86.941 241.129 83.8623 236.546 Q80.8068 231.939 80.8068 223.212 Q80.8068 214.463 83.8623 209.879 Q86.941 205.273 92.7512 205.273 Z\" fill=\"#000000\" fill-rule=\"nonzero\" fill-opacity=\"1\" /><path clip-path=\"url(#clip360)\" d=\"M122.913 208.976 Q119.302 208.976 117.473 212.541 Q115.668 216.083 115.668 223.212 Q115.668 230.319 117.473 233.884 Q119.302 237.425 122.913 237.425 Q126.547 237.425 128.353 233.884 Q130.182 230.319 130.182 223.212 Q130.182 216.083 128.353 212.541 Q126.547 208.976 122.913 208.976 M122.913 205.273 Q128.723 205.273 131.779 209.879 Q134.857 214.463 134.857 223.212 Q134.857 231.939 131.779 236.546 Q128.723 241.129 122.913 241.129 Q117.103 241.129 114.024 236.546 Q110.969 231.939 110.969 223.212 Q110.969 214.463 114.024 209.879 Q117.103 205.273 122.913 205.273 Z\" fill=\"#000000\" fill-rule=\"nonzero\" fill-opacity=\"1\" /><path clip-path=\"url(#clip360)\" d=\"M1169.39 20.1573 L1158.29 50.2555 L1180.53 50.2555 L1169.39 20.1573 M1164.77 12.096 L1174.04 12.096 L1197.09 72.576 L1188.59 72.576 L1183.08 57.061 L1155.81 57.061 L1150.31 72.576 L1141.68 72.576 L1164.77 12.096 Z\" fill=\"#000000\" fill-rule=\"nonzero\" fill-opacity=\"1\" /><path clip-path=\"url(#clip360)\" d=\"M1239.34 14.324 L1239.34 27.2059 L1254.7 27.2059 L1254.7 32.9987 L1239.34 32.9987 L1239.34 57.6282 Q1239.34 63.1779 1240.84 64.7578 Q1242.38 66.3376 1247.04 66.3376 L1254.7 66.3376 L1254.7 72.576 L1247.04 72.576 Q1238.41 72.576 1235.13 69.3758 Q1231.85 66.1351 1231.85 57.6282 L1231.85 32.9987 L1226.38 32.9987 L1226.38 27.2059 L1231.85 27.2059 L1231.85 14.324 L1239.34 14.324 Z\" fill=\"#000000\" fill-rule=\"nonzero\" fill-opacity=\"1\" /><path clip-path=\"url(#clip360)\" d=\"M1264.5 27.2059 L1271.95 27.2059 L1271.95 72.576 L1264.5 72.576 L1264.5 27.2059 M1264.5 9.54393 L1271.95 9.54393 L1271.95 18.9825 L1264.5 18.9825 L1264.5 9.54393 Z\" fill=\"#000000\" fill-rule=\"nonzero\" fill-opacity=\"1\" /><path clip-path=\"url(#clip360)\" d=\"M1294.92 14.324 L1294.92 27.2059 L1310.28 27.2059 L1310.28 32.9987 L1294.92 32.9987 L1294.92 57.6282 Q1294.92 63.1779 1296.42 64.7578 Q1297.96 66.3376 1302.62 66.3376 L1310.28 66.3376 L1310.28 72.576 L1302.62 72.576 Q1293.99 72.576 1290.71 69.3758 Q1287.43 66.1351 1287.43 57.6282 L1287.43 32.9987 L1281.96 32.9987 L1281.96 27.2059 L1287.43 27.2059 L1287.43 14.324 L1294.92 14.324 Z\" fill=\"#000000\" fill-rule=\"nonzero\" fill-opacity=\"1\" /><path clip-path=\"url(#clip360)\" d=\"M1320.08 9.54393 L1327.53 9.54393 L1327.53 72.576 L1320.08 72.576 L1320.08 9.54393 Z\" fill=\"#000000\" fill-rule=\"nonzero\" fill-opacity=\"1\" /><path clip-path=\"url(#clip360)\" d=\"M1381.94 48.0275 L1381.94 51.6733 L1347.67 51.6733 Q1348.15 59.3701 1352.28 63.421 Q1356.46 67.4314 1363.87 67.4314 Q1368.16 67.4314 1372.17 66.3781 Q1376.22 65.3249 1380.19 63.2184 L1380.19 70.267 Q1376.18 71.9684 1371.97 72.8596 Q1367.76 73.7508 1363.42 73.7508 Q1352.57 73.7508 1346.21 67.4314 Q1339.89 61.1119 1339.89 50.3365 Q1339.89 39.1965 1345.88 32.6746 Q1351.92 26.1121 1362.13 26.1121 Q1371.28 26.1121 1376.59 32.0264 Q1381.94 37.9003 1381.94 48.0275 M1374.48 45.84 Q1374.4 39.7232 1371.04 36.0774 Q1367.72 32.4315 1362.21 32.4315 Q1355.97 32.4315 1352.2 35.9558 Q1348.48 39.4801 1347.91 45.8805 L1374.48 45.84 Z\" fill=\"#000000\" fill-rule=\"nonzero\" fill-opacity=\"1\" /><polyline clip-path=\"url(#clip362)\" style=\"stroke:#009af9; stroke-linecap:round; stroke-linejoin:round; stroke-width:12; stroke-opacity:1; fill:none\" points=\"232.609,1386.4 253.401,1386.38 274.193,1386.32 294.985,1386.2 315.777,1385.99 336.569,1385.69 357.36,1385.29 378.152,1384.77 398.944,1384.12 419.736,1383.34 440.528,1382.42 461.32,1381.35 482.112,1380.12 502.904,1378.73 523.695,1377.17 544.487,1375.44 565.279,1373.52 586.071,1371.41 606.863,1369.11 627.655,1366.61 648.447,1363.9 669.238,1360.99 690.03,1357.85 710.822,1354.5 731.614,1350.92 752.406,1347.1 773.198,1343.06 793.99,1338.77 814.782,1334.23 835.573,1329.45 856.365,1324.42 877.157,1319.12 897.949,1313.56 918.741,1307.74 939.533,1301.64 960.325,1295.27 981.116,1288.63 1001.91,1281.69 1022.7,1274.47 1043.49,1266.97 1064.28,1259.16 1085.08,1251.06 1105.87,1242.66 1126.66,1233.95 1147.45,1224.93 1168.24,1215.6 1189.04,1205.95 1209.83,1195.98 1230.62,1185.69 1251.41,1175.07 1272.2,1164.13 1292.99,1152.85 1313.79,1141.23 1334.58,1129.27 1355.37,1116.97 1376.16,1104.32 1396.95,1091.33 1417.75,1077.98 1438.54,1064.27 1459.33,1050.21 1480.12,1035.78 1500.91,1020.99 1521.7,1005.83 1542.5,990.297 1563.29,974.391 1584.08,958.108 1604.87,941.445 1625.66,924.399 1646.46,906.967 1667.25,889.146 1688.04,870.933 1708.83,852.326 1729.62,833.322 1750.42,813.917 1771.21,794.11 1792,773.897 1812.79,753.276 1833.58,732.244 1854.37,710.798 1875.17,688.935 1895.96,666.654 1916.75,643.95 1937.54,620.823 1958.33,597.268 1979.13,573.284 1999.92,548.868 2020.71,524.017 2041.5,498.729 2062.29,473.001 2083.09,446.831 2103.88,420.215 2124.67,393.153 2145.46,365.641 2166.25,337.676 2187.04,309.257 2207.84,280.381 2228.63,251.045 2249.42,221.247 2270.21,190.985 2291,160.256 \"/>\n",
       "<polyline clip-path=\"url(#clip362)\" style=\"stroke:#e26f46; stroke-linecap:round; stroke-linejoin:round; stroke-width:12; stroke-opacity:1; fill:none\" points=\"232.609,1386.4 253.401,1386.36 274.193,1386.24 294.985,1386.04 315.777,1385.76 336.569,1385.41 357.36,1384.97 378.152,1384.46 398.944,1383.86 419.736,1383.19 440.528,1382.44 461.32,1381.61 482.112,1380.7 502.904,1379.71 523.695,1378.64 544.487,1377.49 565.279,1376.27 586.071,1374.96 606.863,1373.58 627.655,1372.11 648.447,1370.57 669.238,1368.95 690.03,1367.25 710.822,1365.47 731.614,1363.61 752.406,1361.67 773.198,1359.65 793.99,1357.56 814.782,1355.38 835.573,1353.12 856.365,1350.79 877.157,1348.38 897.949,1345.88 918.741,1343.31 939.533,1340.66 960.325,1337.93 981.116,1335.12 1001.91,1332.24 1022.7,1329.27 1043.49,1326.22 1064.28,1323.1 1085.08,1319.89 1105.87,1316.61 1126.66,1313.25 1147.45,1309.81 1168.24,1306.28 1189.04,1302.68 1209.83,1299 1230.62,1295.25 1251.41,1291.41 1272.2,1287.49 1292.99,1283.5 1313.79,1279.42 1334.58,1275.27 1355.37,1271.04 1376.16,1266.72 1396.95,1262.33 1417.75,1257.86 1438.54,1253.31 1459.33,1248.68 1480.12,1243.98 1500.91,1239.19 1521.7,1234.32 1542.5,1229.38 1563.29,1224.35 1584.08,1219.25 1604.87,1214.07 1625.66,1208.81 1646.46,1203.46 1667.25,1198.04 1688.04,1192.55 1708.83,1186.97 1729.62,1181.31 1750.42,1175.57 1771.21,1169.76 1792,1163.86 1812.79,1157.89 1833.58,1151.84 1854.37,1145.71 1875.17,1139.49 1895.96,1133.2 1916.75,1126.83 1937.54,1120.39 1958.33,1113.86 1979.13,1107.25 1999.92,1100.57 2020.71,1093.8 2041.5,1086.96 2062.29,1080.03 2083.09,1073.03 2103.88,1065.95 2124.67,1058.79 2145.46,1051.55 2166.25,1044.23 2187.04,1036.83 2207.84,1029.36 2228.63,1021.8 2249.42,1014.16 2270.21,1006.45 2291,998.656 \"/>\n",
       "<path clip-path=\"url(#clip360)\" d=\"M243.587 322.316 L599.439 322.316 L599.439 166.796 L243.587 166.796  Z\" fill=\"#ffffff\" fill-rule=\"evenodd\" fill-opacity=\"1\"/>\n",
       "<polyline clip-path=\"url(#clip360)\" style=\"stroke:#000000; stroke-linecap:round; stroke-linejoin:round; stroke-width:4; stroke-opacity:1; fill:none\" points=\"243.587,322.316 599.439,322.316 599.439,166.796 243.587,166.796 243.587,322.316 \"/>\n",
       "<polyline clip-path=\"url(#clip360)\" style=\"stroke:#009af9; stroke-linecap:round; stroke-linejoin:round; stroke-width:12; stroke-opacity:1; fill:none\" points=\"267.831,218.636 413.291,218.636 \"/>\n",
       "<path clip-path=\"url(#clip360)\" d=\"M462.187 209.99 L452.812 222.606 L462.673 235.916 L457.65 235.916 L450.103 225.731 L442.557 235.916 L437.534 235.916 L447.603 222.351 L438.39 209.99 L443.413 209.99 L450.288 219.226 L457.163 209.99 L462.187 209.99 Z\" fill=\"#000000\" fill-rule=\"nonzero\" fill-opacity=\"1\" /><path clip-path=\"url(#clip360)\" d=\"M486.353 201.356 L498.922 214.249 L494.27 214.249 L484.085 205.106 L473.899 214.249 L469.247 214.249 L481.816 201.356 L486.353 201.356 Z\" fill=\"#000000\" fill-rule=\"nonzero\" fill-opacity=\"1\" /><path clip-path=\"url(#clip360)\" d=\"M513.043 231.981 L529.362 231.981 L529.362 235.916 L507.418 235.916 L507.418 231.981 Q510.08 229.226 514.663 224.596 Q519.27 219.944 520.45 218.601 Q522.695 216.078 523.575 214.342 Q524.478 212.583 524.478 210.893 Q524.478 208.138 522.533 206.402 Q520.612 204.666 517.51 204.666 Q515.311 204.666 512.858 205.43 Q510.427 206.194 507.649 207.745 L507.649 203.022 Q510.473 201.888 512.927 201.309 Q515.381 200.731 517.418 200.731 Q522.788 200.731 525.982 203.416 Q529.177 206.101 529.177 210.592 Q529.177 212.721 528.367 214.643 Q527.58 216.541 525.473 219.133 Q524.895 219.805 521.793 223.022 Q518.691 226.217 513.043 231.981 Z\" fill=\"#000000\" fill-rule=\"nonzero\" fill-opacity=\"1\" /><path clip-path=\"url(#clip360)\" d=\"M539.177 230.036 L544.061 230.036 L544.061 235.916 L539.177 235.916 L539.177 230.036 Z\" fill=\"#000000\" fill-rule=\"nonzero\" fill-opacity=\"1\" /><path clip-path=\"url(#clip360)\" d=\"M554.293 201.356 L572.649 201.356 L572.649 205.291 L558.575 205.291 L558.575 213.763 Q559.593 213.416 560.612 213.254 Q561.63 213.069 562.649 213.069 Q568.436 213.069 571.816 216.24 Q575.195 219.411 575.195 224.828 Q575.195 230.406 571.723 233.508 Q568.251 236.587 561.931 236.587 Q559.755 236.587 557.487 236.217 Q555.242 235.846 552.834 235.106 L552.834 230.406 Q554.918 231.541 557.14 232.096 Q559.362 232.652 561.839 232.652 Q565.843 232.652 568.181 230.545 Q570.519 228.439 570.519 224.828 Q570.519 221.217 568.181 219.11 Q565.843 217.004 561.839 217.004 Q559.964 217.004 558.089 217.42 Q556.237 217.837 554.293 218.717 L554.293 201.356 Z\" fill=\"#000000\" fill-rule=\"nonzero\" fill-opacity=\"1\" /><polyline clip-path=\"url(#clip360)\" style=\"stroke:#e26f46; stroke-linecap:round; stroke-linejoin:round; stroke-width:12; stroke-opacity:1; fill:none\" points=\"267.831,270.476 413.291,270.476 \"/>\n",
       "<path clip-path=\"url(#clip360)\" d=\"M462.187 261.83 L452.812 274.446 L462.673 287.756 L457.65 287.756 L450.103 277.571 L442.557 287.756 L437.534 287.756 L447.603 274.191 L438.39 261.83 L443.413 261.83 L450.288 271.066 L457.163 261.83 L462.187 261.83 Z\" fill=\"#000000\" fill-rule=\"nonzero\" fill-opacity=\"1\" /><path clip-path=\"url(#clip360)\" d=\"M486.353 253.196 L498.922 266.089 L494.27 266.089 L484.085 256.946 L473.899 266.089 L469.247 266.089 L481.816 253.196 L486.353 253.196 Z\" fill=\"#000000\" fill-rule=\"nonzero\" fill-opacity=\"1\" /><path clip-path=\"url(#clip360)\" d=\"M513.043 283.821 L529.362 283.821 L529.362 287.756 L507.418 287.756 L507.418 283.821 Q510.08 281.066 514.663 276.436 Q519.27 271.784 520.45 270.441 Q522.695 267.918 523.575 266.182 Q524.478 264.423 524.478 262.733 Q524.478 259.978 522.533 258.242 Q520.612 256.506 517.51 256.506 Q515.311 256.506 512.858 257.27 Q510.427 258.034 507.649 259.585 L507.649 254.862 Q510.473 253.728 512.927 253.149 Q515.381 252.571 517.418 252.571 Q522.788 252.571 525.982 255.256 Q529.177 257.941 529.177 262.432 Q529.177 264.561 528.367 266.483 Q527.58 268.381 525.473 270.973 Q524.895 271.645 521.793 274.862 Q518.691 278.057 513.043 283.821 Z\" fill=\"#000000\" fill-rule=\"nonzero\" fill-opacity=\"1\" /></svg>\n"
      ],
      "text/html": [
       "<?xml version=\"1.0\" encoding=\"utf-8\"?>\n",
       "<svg xmlns=\"http://www.w3.org/2000/svg\" xmlns:xlink=\"http://www.w3.org/1999/xlink\" width=\"600\" height=\"400\" viewBox=\"0 0 2400 1600\">\n",
       "<defs>\n",
       "  <clipPath id=\"clip410\">\n",
       "    <rect x=\"0\" y=\"0\" width=\"2400\" height=\"1600\"/>\n",
       "  </clipPath>\n",
       "</defs>\n",
       "<path clip-path=\"url(#clip410)\" d=\"M0 1600 L2400 1600 L2400 0 L0 0  Z\" fill=\"#ffffff\" fill-rule=\"evenodd\" fill-opacity=\"1\"/>\n",
       "<defs>\n",
       "  <clipPath id=\"clip411\">\n",
       "    <rect x=\"480\" y=\"0\" width=\"1681\" height=\"1600\"/>\n",
       "  </clipPath>\n",
       "</defs>\n",
       "<path clip-path=\"url(#clip410)\" d=\"M170.857 1423.18 L2352.76 1423.18 L2352.76 123.472 L170.857 123.472  Z\" fill=\"#ffffff\" fill-rule=\"evenodd\" fill-opacity=\"1\"/>\n",
       "<defs>\n",
       "  <clipPath id=\"clip412\">\n",
       "    <rect x=\"170\" y=\"123\" width=\"2183\" height=\"1301\"/>\n",
       "  </clipPath>\n",
       "</defs>\n",
       "<polyline clip-path=\"url(#clip412)\" style=\"stroke:#000000; stroke-linecap:round; stroke-linejoin:round; stroke-width:2; stroke-opacity:0.1; fill:none\" points=\"232.609,1423.18 232.609,123.472 \"/>\n",
       "<polyline clip-path=\"url(#clip412)\" style=\"stroke:#000000; stroke-linecap:round; stroke-linejoin:round; stroke-width:2; stroke-opacity:0.1; fill:none\" points=\"747.208,1423.18 747.208,123.472 \"/>\n",
       "<polyline clip-path=\"url(#clip412)\" style=\"stroke:#000000; stroke-linecap:round; stroke-linejoin:round; stroke-width:2; stroke-opacity:0.1; fill:none\" points=\"1261.81,1423.18 1261.81,123.472 \"/>\n",
       "<polyline clip-path=\"url(#clip412)\" style=\"stroke:#000000; stroke-linecap:round; stroke-linejoin:round; stroke-width:2; stroke-opacity:0.1; fill:none\" points=\"1776.41,1423.18 1776.41,123.472 \"/>\n",
       "<polyline clip-path=\"url(#clip412)\" style=\"stroke:#000000; stroke-linecap:round; stroke-linejoin:round; stroke-width:2; stroke-opacity:0.1; fill:none\" points=\"2291,1423.18 2291,123.472 \"/>\n",
       "<polyline clip-path=\"url(#clip410)\" style=\"stroke:#000000; stroke-linecap:round; stroke-linejoin:round; stroke-width:4; stroke-opacity:1; fill:none\" points=\"170.857,1423.18 2352.76,1423.18 \"/>\n",
       "<polyline clip-path=\"url(#clip410)\" style=\"stroke:#000000; stroke-linecap:round; stroke-linejoin:round; stroke-width:4; stroke-opacity:1; fill:none\" points=\"232.609,1423.18 232.609,1404.28 \"/>\n",
       "<polyline clip-path=\"url(#clip410)\" style=\"stroke:#000000; stroke-linecap:round; stroke-linejoin:round; stroke-width:4; stroke-opacity:1; fill:none\" points=\"747.208,1423.18 747.208,1404.28 \"/>\n",
       "<polyline clip-path=\"url(#clip410)\" style=\"stroke:#000000; stroke-linecap:round; stroke-linejoin:round; stroke-width:4; stroke-opacity:1; fill:none\" points=\"1261.81,1423.18 1261.81,1404.28 \"/>\n",
       "<polyline clip-path=\"url(#clip410)\" style=\"stroke:#000000; stroke-linecap:round; stroke-linejoin:round; stroke-width:4; stroke-opacity:1; fill:none\" points=\"1776.41,1423.18 1776.41,1404.28 \"/>\n",
       "<polyline clip-path=\"url(#clip410)\" style=\"stroke:#000000; stroke-linecap:round; stroke-linejoin:round; stroke-width:4; stroke-opacity:1; fill:none\" points=\"2291,1423.18 2291,1404.28 \"/>\n",
       "<path clip-path=\"url(#clip410)\" d=\"M209.994 1454.1 Q206.383 1454.1 204.554 1457.66 Q202.748 1461.2 202.748 1468.33 Q202.748 1475.44 204.554 1479.01 Q206.383 1482.55 209.994 1482.55 Q213.628 1482.55 215.433 1479.01 Q217.262 1475.44 217.262 1468.33 Q217.262 1461.2 215.433 1457.66 Q213.628 1454.1 209.994 1454.1 M209.994 1450.39 Q215.804 1450.39 218.859 1455 Q221.938 1459.58 221.938 1468.33 Q221.938 1477.06 218.859 1481.67 Q215.804 1486.25 209.994 1486.25 Q204.183 1486.25 201.105 1481.67 Q198.049 1477.06 198.049 1468.33 Q198.049 1459.58 201.105 1455 Q204.183 1450.39 209.994 1450.39 Z\" fill=\"#000000\" fill-rule=\"nonzero\" fill-opacity=\"1\" /><path clip-path=\"url(#clip410)\" d=\"M230.156 1479.7 L235.04 1479.7 L235.04 1485.58 L230.156 1485.58 L230.156 1479.7 Z\" fill=\"#000000\" fill-rule=\"nonzero\" fill-opacity=\"1\" /><path clip-path=\"url(#clip410)\" d=\"M255.225 1454.1 Q251.614 1454.1 249.785 1457.66 Q247.98 1461.2 247.98 1468.33 Q247.98 1475.44 249.785 1479.01 Q251.614 1482.55 255.225 1482.55 Q258.859 1482.55 260.665 1479.01 Q262.493 1475.44 262.493 1468.33 Q262.493 1461.2 260.665 1457.66 Q258.859 1454.1 255.225 1454.1 M255.225 1450.39 Q261.035 1450.39 264.091 1455 Q267.169 1459.58 267.169 1468.33 Q267.169 1477.06 264.091 1481.67 Q261.035 1486.25 255.225 1486.25 Q249.415 1486.25 246.336 1481.67 Q243.281 1477.06 243.281 1468.33 Q243.281 1459.58 246.336 1455 Q249.415 1450.39 255.225 1450.39 Z\" fill=\"#000000\" fill-rule=\"nonzero\" fill-opacity=\"1\" /><path clip-path=\"url(#clip410)\" d=\"M718.944 1481.64 L735.264 1481.64 L735.264 1485.58 L713.319 1485.58 L713.319 1481.64 Q715.981 1478.89 720.565 1474.26 Q725.171 1469.61 726.352 1468.27 Q728.597 1465.74 729.477 1464.01 Q730.379 1462.25 730.379 1460.56 Q730.379 1457.8 728.435 1456.07 Q726.514 1454.33 723.412 1454.33 Q721.213 1454.33 718.759 1455.09 Q716.328 1455.86 713.551 1457.41 L713.551 1452.69 Q716.375 1451.55 718.828 1450.97 Q721.282 1450.39 723.319 1450.39 Q728.69 1450.39 731.884 1453.08 Q735.078 1455.77 735.078 1460.26 Q735.078 1462.39 734.268 1464.31 Q733.481 1466.2 731.375 1468.8 Q730.796 1469.47 727.694 1472.69 Q724.592 1475.88 718.944 1481.64 Z\" fill=\"#000000\" fill-rule=\"nonzero\" fill-opacity=\"1\" /><path clip-path=\"url(#clip410)\" d=\"M745.078 1479.7 L749.963 1479.7 L749.963 1485.58 L745.078 1485.58 L745.078 1479.7 Z\" fill=\"#000000\" fill-rule=\"nonzero\" fill-opacity=\"1\" /><path clip-path=\"url(#clip410)\" d=\"M760.194 1451.02 L778.55 1451.02 L778.55 1454.96 L764.476 1454.96 L764.476 1463.43 Q765.495 1463.08 766.513 1462.92 Q767.532 1462.73 768.55 1462.73 Q774.337 1462.73 777.717 1465.9 Q781.097 1469.08 781.097 1474.49 Q781.097 1480.07 777.624 1483.17 Q774.152 1486.25 767.833 1486.25 Q765.657 1486.25 763.388 1485.88 Q761.143 1485.51 758.736 1484.77 L758.736 1480.07 Q760.819 1481.2 763.041 1481.76 Q765.263 1482.32 767.74 1482.32 Q771.745 1482.32 774.083 1480.21 Q776.421 1478.1 776.421 1474.49 Q776.421 1470.88 774.083 1468.77 Q771.745 1466.67 767.74 1466.67 Q765.865 1466.67 763.99 1467.08 Q762.138 1467.5 760.194 1468.38 L760.194 1451.02 Z\" fill=\"#000000\" fill-rule=\"nonzero\" fill-opacity=\"1\" /><path clip-path=\"url(#clip410)\" d=\"M1228.97 1451.02 L1247.33 1451.02 L1247.33 1454.96 L1233.25 1454.96 L1233.25 1463.43 Q1234.27 1463.08 1235.29 1462.92 Q1236.31 1462.73 1237.33 1462.73 Q1243.11 1462.73 1246.49 1465.9 Q1249.87 1469.08 1249.87 1474.49 Q1249.87 1480.07 1246.4 1483.17 Q1242.93 1486.25 1236.61 1486.25 Q1234.43 1486.25 1232.17 1485.88 Q1229.92 1485.51 1227.51 1484.77 L1227.51 1480.07 Q1229.6 1481.2 1231.82 1481.76 Q1234.04 1482.32 1236.52 1482.32 Q1240.52 1482.32 1242.86 1480.21 Q1245.2 1478.1 1245.2 1474.49 Q1245.2 1470.88 1242.86 1468.77 Q1240.52 1466.67 1236.52 1466.67 Q1234.64 1466.67 1232.77 1467.08 Q1230.92 1467.5 1228.97 1468.38 L1228.97 1451.02 Z\" fill=\"#000000\" fill-rule=\"nonzero\" fill-opacity=\"1\" /><path clip-path=\"url(#clip410)\" d=\"M1259.09 1479.7 L1263.97 1479.7 L1263.97 1485.58 L1259.09 1485.58 L1259.09 1479.7 Z\" fill=\"#000000\" fill-rule=\"nonzero\" fill-opacity=\"1\" /><path clip-path=\"url(#clip410)\" d=\"M1284.16 1454.1 Q1280.54 1454.1 1278.72 1457.66 Q1276.91 1461.2 1276.91 1468.33 Q1276.91 1475.44 1278.72 1479.01 Q1280.54 1482.55 1284.16 1482.55 Q1287.79 1482.55 1289.6 1479.01 Q1291.42 1475.44 1291.42 1468.33 Q1291.42 1461.2 1289.6 1457.66 Q1287.79 1454.1 1284.16 1454.1 M1284.16 1450.39 Q1289.97 1450.39 1293.02 1455 Q1296.1 1459.58 1296.1 1468.33 Q1296.1 1477.06 1293.02 1481.67 Q1289.97 1486.25 1284.16 1486.25 Q1278.35 1486.25 1275.27 1481.67 Q1272.21 1477.06 1272.21 1468.33 Q1272.21 1459.58 1275.27 1455 Q1278.35 1450.39 1284.16 1450.39 Z\" fill=\"#000000\" fill-rule=\"nonzero\" fill-opacity=\"1\" /><path clip-path=\"url(#clip410)\" d=\"M1742.72 1451.02 L1764.95 1451.02 L1764.95 1453.01 L1752.4 1485.58 L1747.52 1485.58 L1759.32 1454.96 L1742.72 1454.96 L1742.72 1451.02 Z\" fill=\"#000000\" fill-rule=\"nonzero\" fill-opacity=\"1\" /><path clip-path=\"url(#clip410)\" d=\"M1774.07 1479.7 L1778.95 1479.7 L1778.95 1485.58 L1774.07 1485.58 L1774.07 1479.7 Z\" fill=\"#000000\" fill-rule=\"nonzero\" fill-opacity=\"1\" /><path clip-path=\"url(#clip410)\" d=\"M1789.18 1451.02 L1807.54 1451.02 L1807.54 1454.96 L1793.47 1454.96 L1793.47 1463.43 Q1794.48 1463.08 1795.5 1462.92 Q1796.52 1462.73 1797.54 1462.73 Q1803.33 1462.73 1806.71 1465.9 Q1810.09 1469.08 1810.09 1474.49 Q1810.09 1480.07 1806.61 1483.17 Q1803.14 1486.25 1796.82 1486.25 Q1794.65 1486.25 1792.38 1485.88 Q1790.13 1485.51 1787.72 1484.77 L1787.72 1480.07 Q1789.81 1481.2 1792.03 1481.76 Q1794.25 1482.32 1796.73 1482.32 Q1800.73 1482.32 1803.07 1480.21 Q1805.41 1478.1 1805.41 1474.49 Q1805.41 1470.88 1803.07 1468.77 Q1800.73 1466.67 1796.73 1466.67 Q1794.85 1466.67 1792.98 1467.08 Q1791.13 1467.5 1789.18 1468.38 L1789.18 1451.02 Z\" fill=\"#000000\" fill-rule=\"nonzero\" fill-opacity=\"1\" /><path clip-path=\"url(#clip410)\" d=\"M2243.08 1481.64 L2250.71 1481.64 L2250.71 1455.28 L2242.4 1456.95 L2242.4 1452.69 L2250.67 1451.02 L2255.34 1451.02 L2255.34 1481.64 L2262.98 1481.64 L2262.98 1485.58 L2243.08 1485.58 L2243.08 1481.64 Z\" fill=\"#000000\" fill-rule=\"nonzero\" fill-opacity=\"1\" /><path clip-path=\"url(#clip410)\" d=\"M2282.43 1454.1 Q2278.82 1454.1 2276.99 1457.66 Q2275.18 1461.2 2275.18 1468.33 Q2275.18 1475.44 2276.99 1479.01 Q2278.82 1482.55 2282.43 1482.55 Q2286.06 1482.55 2287.87 1479.01 Q2289.7 1475.44 2289.7 1468.33 Q2289.7 1461.2 2287.87 1457.66 Q2286.06 1454.1 2282.43 1454.1 M2282.43 1450.39 Q2288.24 1450.39 2291.29 1455 Q2294.37 1459.58 2294.37 1468.33 Q2294.37 1477.06 2291.29 1481.67 Q2288.24 1486.25 2282.43 1486.25 Q2276.62 1486.25 2273.54 1481.67 Q2270.48 1477.06 2270.48 1468.33 Q2270.48 1459.58 2273.54 1455 Q2276.62 1450.39 2282.43 1450.39 Z\" fill=\"#000000\" fill-rule=\"nonzero\" fill-opacity=\"1\" /><path clip-path=\"url(#clip410)\" d=\"M2302.59 1479.7 L2307.47 1479.7 L2307.47 1485.58 L2302.59 1485.58 L2302.59 1479.7 Z\" fill=\"#000000\" fill-rule=\"nonzero\" fill-opacity=\"1\" /><path clip-path=\"url(#clip410)\" d=\"M2327.66 1454.1 Q2324.05 1454.1 2322.22 1457.66 Q2320.41 1461.2 2320.41 1468.33 Q2320.41 1475.44 2322.22 1479.01 Q2324.05 1482.55 2327.66 1482.55 Q2331.29 1482.55 2333.1 1479.01 Q2334.93 1475.44 2334.93 1468.33 Q2334.93 1461.2 2333.1 1457.66 Q2331.29 1454.1 2327.66 1454.1 M2327.66 1450.39 Q2333.47 1450.39 2336.52 1455 Q2339.6 1459.58 2339.6 1468.33 Q2339.6 1477.06 2336.52 1481.67 Q2333.47 1486.25 2327.66 1486.25 Q2321.85 1486.25 2318.77 1481.67 Q2315.71 1477.06 2315.71 1468.33 Q2315.71 1459.58 2318.77 1455 Q2321.85 1450.39 2327.66 1450.39 Z\" fill=\"#000000\" fill-rule=\"nonzero\" fill-opacity=\"1\" /><path clip-path=\"url(#clip410)\" d=\"M1278.42 1532.4 L1265.53 1549.74 L1279.09 1568.04 L1272.18 1568.04 L1261.81 1554.04 L1251.43 1568.04 L1244.52 1568.04 L1258.37 1549.39 L1245.7 1532.4 L1252.61 1532.4 L1262.06 1545.1 L1271.51 1532.4 L1278.42 1532.4 Z\" fill=\"#000000\" fill-rule=\"nonzero\" fill-opacity=\"1\" /><polyline clip-path=\"url(#clip412)\" style=\"stroke:#000000; stroke-linecap:round; stroke-linejoin:round; stroke-width:2; stroke-opacity:0.1; fill:none\" points=\"170.857,1386.4 2352.76,1386.4 \"/>\n",
       "<polyline clip-path=\"url(#clip412)\" style=\"stroke:#000000; stroke-linecap:round; stroke-linejoin:round; stroke-width:2; stroke-opacity:0.1; fill:none\" points=\"170.857,998.656 2352.76,998.656 \"/>\n",
       "<polyline clip-path=\"url(#clip412)\" style=\"stroke:#000000; stroke-linecap:round; stroke-linejoin:round; stroke-width:2; stroke-opacity:0.1; fill:none\" points=\"170.857,610.917 2352.76,610.917 \"/>\n",
       "<polyline clip-path=\"url(#clip412)\" style=\"stroke:#000000; stroke-linecap:round; stroke-linejoin:round; stroke-width:2; stroke-opacity:0.1; fill:none\" points=\"170.857,223.178 2352.76,223.178 \"/>\n",
       "<polyline clip-path=\"url(#clip410)\" style=\"stroke:#000000; stroke-linecap:round; stroke-linejoin:round; stroke-width:4; stroke-opacity:1; fill:none\" points=\"170.857,1423.18 170.857,123.472 \"/>\n",
       "<polyline clip-path=\"url(#clip410)\" style=\"stroke:#000000; stroke-linecap:round; stroke-linejoin:round; stroke-width:4; stroke-opacity:1; fill:none\" points=\"170.857,1386.4 189.755,1386.4 \"/>\n",
       "<polyline clip-path=\"url(#clip410)\" style=\"stroke:#000000; stroke-linecap:round; stroke-linejoin:round; stroke-width:4; stroke-opacity:1; fill:none\" points=\"170.857,998.656 189.755,998.656 \"/>\n",
       "<polyline clip-path=\"url(#clip410)\" style=\"stroke:#000000; stroke-linecap:round; stroke-linejoin:round; stroke-width:4; stroke-opacity:1; fill:none\" points=\"170.857,610.917 189.755,610.917 \"/>\n",
       "<polyline clip-path=\"url(#clip410)\" style=\"stroke:#000000; stroke-linecap:round; stroke-linejoin:round; stroke-width:4; stroke-opacity:1; fill:none\" points=\"170.857,223.178 189.755,223.178 \"/>\n",
       "<path clip-path=\"url(#clip410)\" d=\"M122.913 1372.19 Q119.302 1372.19 117.473 1375.76 Q115.668 1379.3 115.668 1386.43 Q115.668 1393.54 117.473 1397.1 Q119.302 1400.64 122.913 1400.64 Q126.547 1400.64 128.353 1397.1 Q130.182 1393.54 130.182 1386.43 Q130.182 1379.3 128.353 1375.76 Q126.547 1372.19 122.913 1372.19 M122.913 1368.49 Q128.723 1368.49 131.779 1373.1 Q134.857 1377.68 134.857 1386.43 Q134.857 1395.16 131.779 1399.76 Q128.723 1404.35 122.913 1404.35 Q117.103 1404.35 114.024 1399.76 Q110.969 1395.16 110.969 1386.43 Q110.969 1377.68 114.024 1373.1 Q117.103 1368.49 122.913 1368.49 Z\" fill=\"#000000\" fill-rule=\"nonzero\" fill-opacity=\"1\" /><path clip-path=\"url(#clip410)\" d=\"M53.3995 1012 L61.0384 1012 L61.0384 985.636 L52.7282 987.302 L52.7282 983.043 L60.9921 981.376 L65.668 981.376 L65.668 1012 L73.3068 1012 L73.3068 1015.94 L53.3995 1015.94 L53.3995 1012 Z\" fill=\"#000000\" fill-rule=\"nonzero\" fill-opacity=\"1\" /><path clip-path=\"url(#clip410)\" d=\"M92.7512 984.455 Q89.1401 984.455 87.3114 988.02 Q85.5058 991.561 85.5058 998.691 Q85.5058 1005.8 87.3114 1009.36 Q89.1401 1012.9 92.7512 1012.9 Q96.3854 1012.9 98.1909 1009.36 Q100.02 1005.8 100.02 998.691 Q100.02 991.561 98.1909 988.02 Q96.3854 984.455 92.7512 984.455 M92.7512 980.751 Q98.5613 980.751 101.617 985.358 Q104.696 989.941 104.696 998.691 Q104.696 1007.42 101.617 1012.02 Q98.5613 1016.61 92.7512 1016.61 Q86.941 1016.61 83.8623 1012.02 Q80.8068 1007.42 80.8068 998.691 Q80.8068 989.941 83.8623 985.358 Q86.941 980.751 92.7512 980.751 Z\" fill=\"#000000\" fill-rule=\"nonzero\" fill-opacity=\"1\" /><path clip-path=\"url(#clip410)\" d=\"M122.913 984.455 Q119.302 984.455 117.473 988.02 Q115.668 991.561 115.668 998.691 Q115.668 1005.8 117.473 1009.36 Q119.302 1012.9 122.913 1012.9 Q126.547 1012.9 128.353 1009.36 Q130.182 1005.8 130.182 998.691 Q130.182 991.561 128.353 988.02 Q126.547 984.455 122.913 984.455 M122.913 980.751 Q128.723 980.751 131.779 985.358 Q134.857 989.941 134.857 998.691 Q134.857 1007.42 131.779 1012.02 Q128.723 1016.61 122.913 1016.61 Q117.103 1016.61 114.024 1012.02 Q110.969 1007.42 110.969 998.691 Q110.969 989.941 114.024 985.358 Q117.103 980.751 122.913 980.751 Z\" fill=\"#000000\" fill-rule=\"nonzero\" fill-opacity=\"1\" /><path clip-path=\"url(#clip410)\" d=\"M56.6171 624.262 L72.9365 624.262 L72.9365 628.197 L50.9921 628.197 L50.9921 624.262 Q53.6541 621.507 58.2375 616.878 Q62.8439 612.225 64.0245 610.882 Q66.2698 608.359 67.1494 606.623 Q68.0522 604.864 68.0522 603.174 Q68.0522 600.419 66.1078 598.683 Q64.1865 596.947 61.0847 596.947 Q58.8856 596.947 56.4319 597.711 Q54.0014 598.475 51.2236 600.026 L51.2236 595.304 Q54.0477 594.169 56.5014 593.591 Q58.955 593.012 60.9921 593.012 Q66.3624 593.012 69.5568 595.697 Q72.7513 598.382 72.7513 602.873 Q72.7513 605.003 71.9411 606.924 Q71.1541 608.822 69.0476 611.415 Q68.4689 612.086 65.367 615.304 Q62.2652 618.498 56.6171 624.262 Z\" fill=\"#000000\" fill-rule=\"nonzero\" fill-opacity=\"1\" /><path clip-path=\"url(#clip410)\" d=\"M92.7512 596.716 Q89.1401 596.716 87.3114 600.281 Q85.5058 603.822 85.5058 610.952 Q85.5058 618.058 87.3114 621.623 Q89.1401 625.165 92.7512 625.165 Q96.3854 625.165 98.1909 621.623 Q100.02 618.058 100.02 610.952 Q100.02 603.822 98.1909 600.281 Q96.3854 596.716 92.7512 596.716 M92.7512 593.012 Q98.5613 593.012 101.617 597.619 Q104.696 602.202 104.696 610.952 Q104.696 619.679 101.617 624.285 Q98.5613 628.868 92.7512 628.868 Q86.941 628.868 83.8623 624.285 Q80.8068 619.679 80.8068 610.952 Q80.8068 602.202 83.8623 597.619 Q86.941 593.012 92.7512 593.012 Z\" fill=\"#000000\" fill-rule=\"nonzero\" fill-opacity=\"1\" /><path clip-path=\"url(#clip410)\" d=\"M122.913 596.716 Q119.302 596.716 117.473 600.281 Q115.668 603.822 115.668 610.952 Q115.668 618.058 117.473 621.623 Q119.302 625.165 122.913 625.165 Q126.547 625.165 128.353 621.623 Q130.182 618.058 130.182 610.952 Q130.182 603.822 128.353 600.281 Q126.547 596.716 122.913 596.716 M122.913 593.012 Q128.723 593.012 131.779 597.619 Q134.857 602.202 134.857 610.952 Q134.857 619.679 131.779 624.285 Q128.723 628.868 122.913 628.868 Q117.103 628.868 114.024 624.285 Q110.969 619.679 110.969 610.952 Q110.969 602.202 114.024 597.619 Q117.103 593.012 122.913 593.012 Z\" fill=\"#000000\" fill-rule=\"nonzero\" fill-opacity=\"1\" /><path clip-path=\"url(#clip410)\" d=\"M66.7559 221.824 Q70.1124 222.541 71.9874 224.81 Q73.8855 227.078 73.8855 230.411 Q73.8855 235.527 70.367 238.328 Q66.8485 241.129 60.3671 241.129 Q58.1912 241.129 55.8764 240.689 Q53.5847 240.273 51.131 239.416 L51.131 234.902 Q53.0754 236.036 55.3903 236.615 Q57.7051 237.194 60.2282 237.194 Q64.6263 237.194 66.918 235.458 Q69.2328 233.722 69.2328 230.411 Q69.2328 227.356 67.08 225.643 Q64.9504 223.907 61.131 223.907 L57.1032 223.907 L57.1032 220.064 L61.3161 220.064 Q64.7652 220.064 66.5939 218.699 Q68.4226 217.31 68.4226 214.717 Q68.4226 212.055 66.5245 210.643 Q64.6495 209.208 61.131 209.208 Q59.2097 209.208 57.0106 209.625 Q54.8115 210.041 52.1727 210.921 L52.1727 206.754 Q54.8347 206.013 57.1495 205.643 Q59.4875 205.273 61.5476 205.273 Q66.8717 205.273 69.9735 207.703 Q73.0753 210.111 73.0753 214.231 Q73.0753 217.101 71.4318 219.092 Q69.7883 221.06 66.7559 221.824 Z\" fill=\"#000000\" fill-rule=\"nonzero\" fill-opacity=\"1\" /><path clip-path=\"url(#clip410)\" d=\"M92.7512 208.976 Q89.1401 208.976 87.3114 212.541 Q85.5058 216.083 85.5058 223.212 Q85.5058 230.319 87.3114 233.884 Q89.1401 237.425 92.7512 237.425 Q96.3854 237.425 98.1909 233.884 Q100.02 230.319 100.02 223.212 Q100.02 216.083 98.1909 212.541 Q96.3854 208.976 92.7512 208.976 M92.7512 205.273 Q98.5613 205.273 101.617 209.879 Q104.696 214.463 104.696 223.212 Q104.696 231.939 101.617 236.546 Q98.5613 241.129 92.7512 241.129 Q86.941 241.129 83.8623 236.546 Q80.8068 231.939 80.8068 223.212 Q80.8068 214.463 83.8623 209.879 Q86.941 205.273 92.7512 205.273 Z\" fill=\"#000000\" fill-rule=\"nonzero\" fill-opacity=\"1\" /><path clip-path=\"url(#clip410)\" d=\"M122.913 208.976 Q119.302 208.976 117.473 212.541 Q115.668 216.083 115.668 223.212 Q115.668 230.319 117.473 233.884 Q119.302 237.425 122.913 237.425 Q126.547 237.425 128.353 233.884 Q130.182 230.319 130.182 223.212 Q130.182 216.083 128.353 212.541 Q126.547 208.976 122.913 208.976 M122.913 205.273 Q128.723 205.273 131.779 209.879 Q134.857 214.463 134.857 223.212 Q134.857 231.939 131.779 236.546 Q128.723 241.129 122.913 241.129 Q117.103 241.129 114.024 236.546 Q110.969 231.939 110.969 223.212 Q110.969 214.463 114.024 209.879 Q117.103 205.273 122.913 205.273 Z\" fill=\"#000000\" fill-rule=\"nonzero\" fill-opacity=\"1\" /><path clip-path=\"url(#clip410)\" d=\"M1169.39 20.1573 L1158.29 50.2555 L1180.53 50.2555 L1169.39 20.1573 M1164.77 12.096 L1174.04 12.096 L1197.09 72.576 L1188.59 72.576 L1183.08 57.061 L1155.81 57.061 L1150.31 72.576 L1141.68 72.576 L1164.77 12.096 Z\" fill=\"#000000\" fill-rule=\"nonzero\" fill-opacity=\"1\" /><path clip-path=\"url(#clip410)\" d=\"M1239.34 14.324 L1239.34 27.2059 L1254.7 27.2059 L1254.7 32.9987 L1239.34 32.9987 L1239.34 57.6282 Q1239.34 63.1779 1240.84 64.7578 Q1242.38 66.3376 1247.04 66.3376 L1254.7 66.3376 L1254.7 72.576 L1247.04 72.576 Q1238.41 72.576 1235.13 69.3758 Q1231.85 66.1351 1231.85 57.6282 L1231.85 32.9987 L1226.38 32.9987 L1226.38 27.2059 L1231.85 27.2059 L1231.85 14.324 L1239.34 14.324 Z\" fill=\"#000000\" fill-rule=\"nonzero\" fill-opacity=\"1\" /><path clip-path=\"url(#clip410)\" d=\"M1264.5 27.2059 L1271.95 27.2059 L1271.95 72.576 L1264.5 72.576 L1264.5 27.2059 M1264.5 9.54393 L1271.95 9.54393 L1271.95 18.9825 L1264.5 18.9825 L1264.5 9.54393 Z\" fill=\"#000000\" fill-rule=\"nonzero\" fill-opacity=\"1\" /><path clip-path=\"url(#clip410)\" d=\"M1294.92 14.324 L1294.92 27.2059 L1310.28 27.2059 L1310.28 32.9987 L1294.92 32.9987 L1294.92 57.6282 Q1294.92 63.1779 1296.42 64.7578 Q1297.96 66.3376 1302.62 66.3376 L1310.28 66.3376 L1310.28 72.576 L1302.62 72.576 Q1293.99 72.576 1290.71 69.3758 Q1287.43 66.1351 1287.43 57.6282 L1287.43 32.9987 L1281.96 32.9987 L1281.96 27.2059 L1287.43 27.2059 L1287.43 14.324 L1294.92 14.324 Z\" fill=\"#000000\" fill-rule=\"nonzero\" fill-opacity=\"1\" /><path clip-path=\"url(#clip410)\" d=\"M1320.08 9.54393 L1327.53 9.54393 L1327.53 72.576 L1320.08 72.576 L1320.08 9.54393 Z\" fill=\"#000000\" fill-rule=\"nonzero\" fill-opacity=\"1\" /><path clip-path=\"url(#clip410)\" d=\"M1381.94 48.0275 L1381.94 51.6733 L1347.67 51.6733 Q1348.15 59.3701 1352.28 63.421 Q1356.46 67.4314 1363.87 67.4314 Q1368.16 67.4314 1372.17 66.3781 Q1376.22 65.3249 1380.19 63.2184 L1380.19 70.267 Q1376.18 71.9684 1371.97 72.8596 Q1367.76 73.7508 1363.42 73.7508 Q1352.57 73.7508 1346.21 67.4314 Q1339.89 61.1119 1339.89 50.3365 Q1339.89 39.1965 1345.88 32.6746 Q1351.92 26.1121 1362.13 26.1121 Q1371.28 26.1121 1376.59 32.0264 Q1381.94 37.9003 1381.94 48.0275 M1374.48 45.84 Q1374.4 39.7232 1371.04 36.0774 Q1367.72 32.4315 1362.21 32.4315 Q1355.97 32.4315 1352.2 35.9558 Q1348.48 39.4801 1347.91 45.8805 L1374.48 45.84 Z\" fill=\"#000000\" fill-rule=\"nonzero\" fill-opacity=\"1\" /><polyline clip-path=\"url(#clip412)\" style=\"stroke:#009af9; stroke-linecap:round; stroke-linejoin:round; stroke-width:12; stroke-opacity:1; fill:none\" points=\"232.609,1386.4 253.401,1386.38 274.193,1386.32 294.985,1386.2 315.777,1385.99 336.569,1385.69 357.36,1385.29 378.152,1384.77 398.944,1384.12 419.736,1383.34 440.528,1382.42 461.32,1381.35 482.112,1380.12 502.904,1378.73 523.695,1377.17 544.487,1375.44 565.279,1373.52 586.071,1371.41 606.863,1369.11 627.655,1366.61 648.447,1363.9 669.238,1360.99 690.03,1357.85 710.822,1354.5 731.614,1350.92 752.406,1347.1 773.198,1343.06 793.99,1338.77 814.782,1334.23 835.573,1329.45 856.365,1324.42 877.157,1319.12 897.949,1313.56 918.741,1307.74 939.533,1301.64 960.325,1295.27 981.116,1288.63 1001.91,1281.69 1022.7,1274.47 1043.49,1266.97 1064.28,1259.16 1085.08,1251.06 1105.87,1242.66 1126.66,1233.95 1147.45,1224.93 1168.24,1215.6 1189.04,1205.95 1209.83,1195.98 1230.62,1185.69 1251.41,1175.07 1272.2,1164.13 1292.99,1152.85 1313.79,1141.23 1334.58,1129.27 1355.37,1116.97 1376.16,1104.32 1396.95,1091.33 1417.75,1077.98 1438.54,1064.27 1459.33,1050.21 1480.12,1035.78 1500.91,1020.99 1521.7,1005.83 1542.5,990.297 1563.29,974.391 1584.08,958.108 1604.87,941.445 1625.66,924.399 1646.46,906.967 1667.25,889.146 1688.04,870.933 1708.83,852.326 1729.62,833.322 1750.42,813.917 1771.21,794.11 1792,773.897 1812.79,753.276 1833.58,732.244 1854.37,710.798 1875.17,688.935 1895.96,666.654 1916.75,643.95 1937.54,620.823 1958.33,597.268 1979.13,573.284 1999.92,548.868 2020.71,524.017 2041.5,498.729 2062.29,473.001 2083.09,446.831 2103.88,420.215 2124.67,393.153 2145.46,365.641 2166.25,337.676 2187.04,309.257 2207.84,280.381 2228.63,251.045 2249.42,221.247 2270.21,190.985 2291,160.256 \"/>\n",
       "<polyline clip-path=\"url(#clip412)\" style=\"stroke:#e26f46; stroke-linecap:round; stroke-linejoin:round; stroke-width:12; stroke-opacity:1; fill:none\" points=\"232.609,1386.4 253.401,1386.36 274.193,1386.24 294.985,1386.04 315.777,1385.76 336.569,1385.41 357.36,1384.97 378.152,1384.46 398.944,1383.86 419.736,1383.19 440.528,1382.44 461.32,1381.61 482.112,1380.7 502.904,1379.71 523.695,1378.64 544.487,1377.49 565.279,1376.27 586.071,1374.96 606.863,1373.58 627.655,1372.11 648.447,1370.57 669.238,1368.95 690.03,1367.25 710.822,1365.47 731.614,1363.61 752.406,1361.67 773.198,1359.65 793.99,1357.56 814.782,1355.38 835.573,1353.12 856.365,1350.79 877.157,1348.38 897.949,1345.88 918.741,1343.31 939.533,1340.66 960.325,1337.93 981.116,1335.12 1001.91,1332.24 1022.7,1329.27 1043.49,1326.22 1064.28,1323.1 1085.08,1319.89 1105.87,1316.61 1126.66,1313.25 1147.45,1309.81 1168.24,1306.28 1189.04,1302.68 1209.83,1299 1230.62,1295.25 1251.41,1291.41 1272.2,1287.49 1292.99,1283.5 1313.79,1279.42 1334.58,1275.27 1355.37,1271.04 1376.16,1266.72 1396.95,1262.33 1417.75,1257.86 1438.54,1253.31 1459.33,1248.68 1480.12,1243.98 1500.91,1239.19 1521.7,1234.32 1542.5,1229.38 1563.29,1224.35 1584.08,1219.25 1604.87,1214.07 1625.66,1208.81 1646.46,1203.46 1667.25,1198.04 1688.04,1192.55 1708.83,1186.97 1729.62,1181.31 1750.42,1175.57 1771.21,1169.76 1792,1163.86 1812.79,1157.89 1833.58,1151.84 1854.37,1145.71 1875.17,1139.49 1895.96,1133.2 1916.75,1126.83 1937.54,1120.39 1958.33,1113.86 1979.13,1107.25 1999.92,1100.57 2020.71,1093.8 2041.5,1086.96 2062.29,1080.03 2083.09,1073.03 2103.88,1065.95 2124.67,1058.79 2145.46,1051.55 2166.25,1044.23 2187.04,1036.83 2207.84,1029.36 2228.63,1021.8 2249.42,1014.16 2270.21,1006.45 2291,998.656 \"/>\n",
       "<path clip-path=\"url(#clip410)\" d=\"M243.587 322.316 L599.439 322.316 L599.439 166.796 L243.587 166.796  Z\" fill=\"#ffffff\" fill-rule=\"evenodd\" fill-opacity=\"1\"/>\n",
       "<polyline clip-path=\"url(#clip410)\" style=\"stroke:#000000; stroke-linecap:round; stroke-linejoin:round; stroke-width:4; stroke-opacity:1; fill:none\" points=\"243.587,322.316 599.439,322.316 599.439,166.796 243.587,166.796 243.587,322.316 \"/>\n",
       "<polyline clip-path=\"url(#clip410)\" style=\"stroke:#009af9; stroke-linecap:round; stroke-linejoin:round; stroke-width:12; stroke-opacity:1; fill:none\" points=\"267.831,218.636 413.291,218.636 \"/>\n",
       "<path clip-path=\"url(#clip410)\" d=\"M462.187 209.99 L452.812 222.606 L462.673 235.916 L457.65 235.916 L450.103 225.731 L442.557 235.916 L437.534 235.916 L447.603 222.351 L438.39 209.99 L443.413 209.99 L450.288 219.226 L457.163 209.99 L462.187 209.99 Z\" fill=\"#000000\" fill-rule=\"nonzero\" fill-opacity=\"1\" /><path clip-path=\"url(#clip410)\" d=\"M486.353 201.356 L498.922 214.249 L494.27 214.249 L484.085 205.106 L473.899 214.249 L469.247 214.249 L481.816 201.356 L486.353 201.356 Z\" fill=\"#000000\" fill-rule=\"nonzero\" fill-opacity=\"1\" /><path clip-path=\"url(#clip410)\" d=\"M513.043 231.981 L529.362 231.981 L529.362 235.916 L507.418 235.916 L507.418 231.981 Q510.08 229.226 514.663 224.596 Q519.27 219.944 520.45 218.601 Q522.695 216.078 523.575 214.342 Q524.478 212.583 524.478 210.893 Q524.478 208.138 522.533 206.402 Q520.612 204.666 517.51 204.666 Q515.311 204.666 512.858 205.43 Q510.427 206.194 507.649 207.745 L507.649 203.022 Q510.473 201.888 512.927 201.309 Q515.381 200.731 517.418 200.731 Q522.788 200.731 525.982 203.416 Q529.177 206.101 529.177 210.592 Q529.177 212.721 528.367 214.643 Q527.58 216.541 525.473 219.133 Q524.895 219.805 521.793 223.022 Q518.691 226.217 513.043 231.981 Z\" fill=\"#000000\" fill-rule=\"nonzero\" fill-opacity=\"1\" /><path clip-path=\"url(#clip410)\" d=\"M539.177 230.036 L544.061 230.036 L544.061 235.916 L539.177 235.916 L539.177 230.036 Z\" fill=\"#000000\" fill-rule=\"nonzero\" fill-opacity=\"1\" /><path clip-path=\"url(#clip410)\" d=\"M554.293 201.356 L572.649 201.356 L572.649 205.291 L558.575 205.291 L558.575 213.763 Q559.593 213.416 560.612 213.254 Q561.63 213.069 562.649 213.069 Q568.436 213.069 571.816 216.24 Q575.195 219.411 575.195 224.828 Q575.195 230.406 571.723 233.508 Q568.251 236.587 561.931 236.587 Q559.755 236.587 557.487 236.217 Q555.242 235.846 552.834 235.106 L552.834 230.406 Q554.918 231.541 557.14 232.096 Q559.362 232.652 561.839 232.652 Q565.843 232.652 568.181 230.545 Q570.519 228.439 570.519 224.828 Q570.519 221.217 568.181 219.11 Q565.843 217.004 561.839 217.004 Q559.964 217.004 558.089 217.42 Q556.237 217.837 554.293 218.717 L554.293 201.356 Z\" fill=\"#000000\" fill-rule=\"nonzero\" fill-opacity=\"1\" /><polyline clip-path=\"url(#clip410)\" style=\"stroke:#e26f46; stroke-linecap:round; stroke-linejoin:round; stroke-width:12; stroke-opacity:1; fill:none\" points=\"267.831,270.476 413.291,270.476 \"/>\n",
       "<path clip-path=\"url(#clip410)\" d=\"M462.187 261.83 L452.812 274.446 L462.673 287.756 L457.65 287.756 L450.103 277.571 L442.557 287.756 L437.534 287.756 L447.603 274.191 L438.39 261.83 L443.413 261.83 L450.288 271.066 L457.163 261.83 L462.187 261.83 Z\" fill=\"#000000\" fill-rule=\"nonzero\" fill-opacity=\"1\" /><path clip-path=\"url(#clip410)\" d=\"M486.353 253.196 L498.922 266.089 L494.27 266.089 L484.085 256.946 L473.899 266.089 L469.247 266.089 L481.816 253.196 L486.353 253.196 Z\" fill=\"#000000\" fill-rule=\"nonzero\" fill-opacity=\"1\" /><path clip-path=\"url(#clip410)\" d=\"M513.043 283.821 L529.362 283.821 L529.362 287.756 L507.418 287.756 L507.418 283.821 Q510.08 281.066 514.663 276.436 Q519.27 271.784 520.45 270.441 Q522.695 267.918 523.575 266.182 Q524.478 264.423 524.478 262.733 Q524.478 259.978 522.533 258.242 Q520.612 256.506 517.51 256.506 Q515.311 256.506 512.858 257.27 Q510.427 258.034 507.649 259.585 L507.649 254.862 Q510.473 253.728 512.927 253.149 Q515.381 252.571 517.418 252.571 Q522.788 252.571 525.982 255.256 Q529.177 257.941 529.177 262.432 Q529.177 264.561 528.367 266.483 Q527.58 268.381 525.473 270.973 Q524.895 271.645 521.793 274.862 Q518.691 278.057 513.043 283.821 Z\" fill=\"#000000\" fill-rule=\"nonzero\" fill-opacity=\"1\" /></svg>\n"
      ]
     },
     "metadata": {},
     "output_type": "display_data"
    }
   ],
   "source": [
    "# We can plot using different backends, including some python libraries like Plotly and PyPlot!\n",
    "\n",
    "using Pkg; Pkg.add(\"Plots\"); Pkg.add(\"Plotly\"); Pkg.add(\"PyPlot\"); Pkg.add(\"GR\"); Pkg.add(\"UnicodePlots\")\n",
    "using Plots\n",
    "gr()  # With this line we specify that we want to plot with the \"GR\" backend\n",
    "\n",
    "x = LinRange(0, 10, 100) \n",
    "plot(x,map(x->x^2.5,x), label = \"x^2.5\", width = 3)\n",
    "plot!(x,map(x->x^2,x), label = \"x^2\", width = 3)\n",
    "plot!(title = \"A title\", xlabel = \"x\")\n"
   ]
  },
  {
   "cell_type": "code",
   "execution_count": 88,
   "metadata": {},
   "outputs": [
    {
     "data": {
      "image/png": "[encoded data removed]",
      "image/svg+xml": [
       "<?xml version=\"1.0\" encoding=\"utf-8\" standalone=\"no\"?>\n",
       "<!DOCTYPE svg PUBLIC \"-//W3C//DTD SVG 1.1//EN\"\n",
       "  \"http://www.w3.org/Graphics/SVG/1.1/DTD/svg11.dtd\">\n",
       "<svg xmlns:xlink=\"http://www.w3.org/1999/xlink\" width=\"432pt\" height=\"288pt\" viewBox=\"0 0 432 288\" xmlns=\"http://www.w3.org/2000/svg\" version=\"1.1\">\n",
       " <metadata>\n",
       "  <rdf:RDF xmlns:dc=\"http://purl.org/dc/elements/1.1/\" xmlns:cc=\"http://creativecommons.org/ns#\" xmlns:rdf=\"http://www.w3.org/1999/02/22-rdf-syntax-ns#\">\n",
       "   <cc:Work>\n",
       "    <dc:type rdf:resource=\"http://purl.org/dc/dcmitype/StillImage\"/>\n",
       "    <dc:date>2023-09-26T14:13:57.640881</dc:date>\n",
       "    <dc:format>image/svg+xml</dc:format>\n",
       "    <dc:creator>\n",
       "     <cc:Agent>\n",
       "      <dc:title>Matplotlib v3.7.1, https://matplotlib.org/</dc:title>\n",
       "     </cc:Agent>\n",
       "    </dc:creator>\n",
       "   </cc:Work>\n",
       "  </rdf:RDF>\n",
       " </metadata>\n",
       " <defs>\n",
       "  <style type=\"text/css\">*{stroke-linejoin: round; stroke-linecap: butt}</style>\n",
       " </defs>\n",
       " <g id=\"figure_1\">\n",
       "  <g id=\"patch_1\">\n",
       "   <path d=\"M 0 288 \n",
       "L 432 288 \n",
       "L 432 0 \n",
       "L 0 0 \n",
       "z\n",
       "\" style=\"fill: #ffffff\"/>\n",
       "  </g>\n",
       "  <g id=\"axes_1\">\n",
       "   <g id=\"patch_2\">\n",
       "    <path d=\"M 22.488283 258.225354 \n",
       "L 429.165354 258.225354 \n",
       "L 429.165354 19.634646 \n",
       "L 22.488283 19.634646 \n",
       "z\n",
       "\" style=\"fill: #ffffff\"/>\n",
       "   </g>\n",
       "   <g id=\"matplotlib.axis_1\">\n",
       "    <g id=\"xtick_1\">\n",
       "     <g id=\"line2d_1\">\n",
       "      <path d=\"M 33.998012 258.225354 \n",
       "L 33.998012 19.634646 \n",
       "\" clip-path=\"url(#p3a07aad9fb)\" style=\"fill: none; stroke: #000000; stroke-opacity: 0.1; stroke-width: 0.5; stroke-linecap: square\"/>\n",
       "     </g>\n",
       "     <g id=\"line2d_2\">\n",
       "      <defs>\n",
       "       <path id=\"md410ed3d68\" d=\"M 0 0 \n",
       "L 0 -2.5 \n",
       "\" style=\"stroke: #000000; stroke-width: 0.5\"/>\n",
       "      </defs>\n",
       "      <g>\n",
       "       <use xlink:href=\"#md410ed3d68\" x=\"33.998012\" y=\"258.225354\" style=\"stroke: #000000; stroke-width: 0.5\"/>\n",
       "      </g>\n",
       "     </g>\n",
       "     <g id=\"text_1\">\n",
       "      <!-- $0.0$ -->\n",
       "      <g transform=\"translate(27.598012 267.804104) scale(0.08 -0.08)\">\n",
       "       <defs>\n",
       "        <path id=\"DejaVuSans-30\" d=\"M 2034 4250 \n",
       "Q 1547 4250 1301 3770 \n",
       "Q 1056 3291 1056 2328 \n",
       "Q 1056 1369 1301 889 \n",
       "Q 1547 409 2034 409 \n",
       "Q 2525 409 2770 889 \n",
       "Q 3016 1369 3016 2328 \n",
       "Q 3016 3291 2770 3770 \n",
       "Q 2525 4250 2034 4250 \n",
       "z\n",
       "M 2034 4750 \n",
       "Q 2819 4750 3233 4129 \n",
       "Q 3647 3509 3647 2328 \n",
       "Q 3647 1150 3233 529 \n",
       "Q 2819 -91 2034 -91 \n",
       "Q 1250 -91 836 529 \n",
       "Q 422 1150 422 2328 \n",
       "Q 422 3509 836 4129 \n",
       "Q 1250 4750 2034 4750 \n",
       "z\n",
       "\" transform=\"scale(0.015625)\"/>\n",
       "        <path id=\"DejaVuSans-2e\" d=\"M 684 794 \n",
       "L 1344 794 \n",
       "L 1344 0 \n",
       "L 684 0 \n",
       "L 684 794 \n",
       "z\n",
       "\" transform=\"scale(0.015625)\"/>\n",
       "       </defs>\n",
       "       <use xlink:href=\"#DejaVuSans-30\" transform=\"translate(0 0.78125)\"/>\n",
       "       <use xlink:href=\"#DejaVuSans-2e\" transform=\"translate(63.623047 0.78125)\"/>\n",
       "       <use xlink:href=\"#DejaVuSans-30\" transform=\"translate(95.410156 0.78125)\"/>\n",
       "      </g>\n",
       "     </g>\n",
       "    </g>\n",
       "    <g id=\"xtick_2\">\n",
       "     <g id=\"line2d_3\">\n",
       "      <path d=\"M 129.912415 258.225354 \n",
       "L 129.912415 19.634646 \n",
       "\" clip-path=\"url(#p3a07aad9fb)\" style=\"fill: none; stroke: #000000; stroke-opacity: 0.1; stroke-width: 0.5; stroke-linecap: square\"/>\n",
       "     </g>\n",
       "     <g id=\"line2d_4\">\n",
       "      <g>\n",
       "       <use xlink:href=\"#md410ed3d68\" x=\"129.912415\" y=\"258.225354\" style=\"stroke: #000000; stroke-width: 0.5\"/>\n",
       "      </g>\n",
       "     </g>\n",
       "     <g id=\"text_2\">\n",
       "      <!-- $2.5$ -->\n",
       "      <g transform=\"translate(123.512415 267.804104) scale(0.08 -0.08)\">\n",
       "       <defs>\n",
       "        <path id=\"DejaVuSans-32\" d=\"M 1228 531 \n",
       "L 3431 531 \n",
       "L 3431 0 \n",
       "L 469 0 \n",
       "L 469 531 \n",
       "Q 828 903 1448 1529 \n",
       "Q 2069 2156 2228 2338 \n",
       "Q 2531 2678 2651 2914 \n",
       "Q 2772 3150 2772 3378 \n",
       "Q 2772 3750 2511 3984 \n",
       "Q 2250 4219 1831 4219 \n",
       "Q 1534 4219 1204 4116 \n",
       "Q 875 4013 500 3803 \n",
       "L 500 4441 \n",
       "Q 881 4594 1212 4672 \n",
       "Q 1544 4750 1819 4750 \n",
       "Q 2544 4750 2975 4387 \n",
       "Q 3406 4025 3406 3419 \n",
       "Q 3406 3131 3298 2873 \n",
       "Q 3191 2616 2906 2266 \n",
       "Q 2828 2175 2409 1742 \n",
       "Q 1991 1309 1228 531 \n",
       "z\n",
       "\" transform=\"scale(0.015625)\"/>\n",
       "        <path id=\"DejaVuSans-35\" d=\"M 691 4666 \n",
       "L 3169 4666 \n",
       "L 3169 4134 \n",
       "L 1269 4134 \n",
       "L 1269 2991 \n",
       "Q 1406 3038 1543 3061 \n",
       "Q 1681 3084 1819 3084 \n",
       "Q 2600 3084 3056 2656 \n",
       "Q 3513 2228 3513 1497 \n",
       "Q 3513 744 3044 326 \n",
       "Q 2575 -91 1722 -91 \n",
       "Q 1428 -91 1123 -41 \n",
       "Q 819 9 494 109 \n",
       "L 494 744 \n",
       "Q 775 591 1075 516 \n",
       "Q 1375 441 1709 441 \n",
       "Q 2250 441 2565 725 \n",
       "Q 2881 1009 2881 1497 \n",
       "Q 2881 1984 2565 2268 \n",
       "Q 2250 2553 1709 2553 \n",
       "Q 1456 2553 1204 2497 \n",
       "Q 953 2441 691 2322 \n",
       "L 691 4666 \n",
       "z\n",
       "\" transform=\"scale(0.015625)\"/>\n",
       "       </defs>\n",
       "       <use xlink:href=\"#DejaVuSans-32\" transform=\"translate(0 0.78125)\"/>\n",
       "       <use xlink:href=\"#DejaVuSans-2e\" transform=\"translate(63.623047 0.78125)\"/>\n",
       "       <use xlink:href=\"#DejaVuSans-35\" transform=\"translate(95.410156 0.78125)\"/>\n",
       "      </g>\n",
       "     </g>\n",
       "    </g>\n",
       "    <g id=\"xtick_3\">\n",
       "     <g id=\"line2d_5\">\n",
       "      <path d=\"M 225.826819 258.225354 \n",
       "L 225.826819 19.634646 \n",
       "\" clip-path=\"url(#p3a07aad9fb)\" style=\"fill: none; stroke: #000000; stroke-opacity: 0.1; stroke-width: 0.5; stroke-linecap: square\"/>\n",
       "     </g>\n",
       "     <g id=\"line2d_6\">\n",
       "      <g>\n",
       "       <use xlink:href=\"#md410ed3d68\" x=\"225.826819\" y=\"258.225354\" style=\"stroke: #000000; stroke-width: 0.5\"/>\n",
       "      </g>\n",
       "     </g>\n",
       "     <g id=\"text_3\">\n",
       "      <!-- $5.0$ -->\n",
       "      <g transform=\"translate(219.426819 267.804104) scale(0.08 -0.08)\">\n",
       "       <use xlink:href=\"#DejaVuSans-35\" transform=\"translate(0 0.78125)\"/>\n",
       "       <use xlink:href=\"#DejaVuSans-2e\" transform=\"translate(63.623047 0.78125)\"/>\n",
       "       <use xlink:href=\"#DejaVuSans-30\" transform=\"translate(95.410156 0.78125)\"/>\n",
       "      </g>\n",
       "     </g>\n",
       "    </g>\n",
       "    <g id=\"xtick_4\">\n",
       "     <g id=\"line2d_7\">\n",
       "      <path d=\"M 321.741222 258.225354 \n",
       "L 321.741222 19.634646 \n",
       "\" clip-path=\"url(#p3a07aad9fb)\" style=\"fill: none; stroke: #000000; stroke-opacity: 0.1; stroke-width: 0.5; stroke-linecap: square\"/>\n",
       "     </g>\n",
       "     <g id=\"line2d_8\">\n",
       "      <g>\n",
       "       <use xlink:href=\"#md410ed3d68\" x=\"321.741222\" y=\"258.225354\" style=\"stroke: #000000; stroke-width: 0.5\"/>\n",
       "      </g>\n",
       "     </g>\n",
       "     <g id=\"text_4\">\n",
       "      <!-- $7.5$ -->\n",
       "      <g transform=\"translate(315.341222 267.804104) scale(0.08 -0.08)\">\n",
       "       <defs>\n",
       "        <path id=\"DejaVuSans-37\" d=\"M 525 4666 \n",
       "L 3525 4666 \n",
       "L 3525 4397 \n",
       "L 1831 0 \n",
       "L 1172 0 \n",
       "L 2766 4134 \n",
       "L 525 4134 \n",
       "L 525 4666 \n",
       "z\n",
       "\" transform=\"scale(0.015625)\"/>\n",
       "       </defs>\n",
       "       <use xlink:href=\"#DejaVuSans-37\" transform=\"translate(0 0.09375)\"/>\n",
       "       <use xlink:href=\"#DejaVuSans-2e\" transform=\"translate(63.623047 0.09375)\"/>\n",
       "       <use xlink:href=\"#DejaVuSans-35\" transform=\"translate(95.410156 0.09375)\"/>\n",
       "      </g>\n",
       "     </g>\n",
       "    </g>\n",
       "    <g id=\"xtick_5\">\n",
       "     <g id=\"line2d_9\">\n",
       "      <path d=\"M 417.655626 258.225354 \n",
       "L 417.655626 19.634646 \n",
       "\" clip-path=\"url(#p3a07aad9fb)\" style=\"fill: none; stroke: #000000; stroke-opacity: 0.1; stroke-width: 0.5; stroke-linecap: square\"/>\n",
       "     </g>\n",
       "     <g id=\"line2d_10\">\n",
       "      <g>\n",
       "       <use xlink:href=\"#md410ed3d68\" x=\"417.655626\" y=\"258.225354\" style=\"stroke: #000000; stroke-width: 0.5\"/>\n",
       "      </g>\n",
       "     </g>\n",
       "     <g id=\"text_5\">\n",
       "      <!-- $10.0$ -->\n",
       "      <g transform=\"translate(408.735626 267.804104) scale(0.08 -0.08)\">\n",
       "       <defs>\n",
       "        <path id=\"DejaVuSans-31\" d=\"M 794 531 \n",
       "L 1825 531 \n",
       "L 1825 4091 \n",
       "L 703 3866 \n",
       "L 703 4441 \n",
       "L 1819 4666 \n",
       "L 2450 4666 \n",
       "L 2450 531 \n",
       "L 3481 531 \n",
       "L 3481 0 \n",
       "L 794 0 \n",
       "L 794 531 \n",
       "z\n",
       "\" transform=\"scale(0.015625)\"/>\n",
       "       </defs>\n",
       "       <use xlink:href=\"#DejaVuSans-31\" transform=\"translate(0 0.78125)\"/>\n",
       "       <use xlink:href=\"#DejaVuSans-30\" transform=\"translate(63.623047 0.78125)\"/>\n",
       "       <use xlink:href=\"#DejaVuSans-2e\" transform=\"translate(127.246094 0.78125)\"/>\n",
       "       <use xlink:href=\"#DejaVuSans-30\" transform=\"translate(159.033203 0.78125)\"/>\n",
       "      </g>\n",
       "     </g>\n",
       "    </g>\n",
       "    <g id=\"text_6\">\n",
       "     <!-- x -->\n",
       "     <g transform=\"translate(222.571506 281.826136) scale(0.11 -0.11)\">\n",
       "      <defs>\n",
       "       <path id=\"DejaVuSans-78\" d=\"M 3513 3500 \n",
       "L 2247 1797 \n",
       "L 3578 0 \n",
       "L 2900 0 \n",
       "L 1881 1375 \n",
       "L 863 0 \n",
       "L 184 0 \n",
       "L 1544 1831 \n",
       "L 300 3500 \n",
       "L 978 3500 \n",
       "L 1906 2253 \n",
       "L 2834 3500 \n",
       "L 3513 3500 \n",
       "z\n",
       "\" transform=\"scale(0.015625)\"/>\n",
       "      </defs>\n",
       "      <use xlink:href=\"#DejaVuSans-78\"/>\n",
       "     </g>\n",
       "    </g>\n",
       "   </g>\n",
       "   <g id=\"matplotlib.axis_2\">\n",
       "    <g id=\"ytick_1\">\n",
       "     <g id=\"line2d_11\">\n",
       "      <path d=\"M 22.488283 251.472787 \n",
       "L 429.165354 251.472787 \n",
       "\" clip-path=\"url(#p3a07aad9fb)\" style=\"fill: none; stroke: #000000; stroke-opacity: 0.1; stroke-width: 0.5; stroke-linecap: square\"/>\n",
       "     </g>\n",
       "     <g id=\"line2d_12\">\n",
       "      <defs>\n",
       "       <path id=\"m614903fccc\" d=\"M 0 0 \n",
       "L 2.5 0 \n",
       "\" style=\"stroke: #000000; stroke-width: 0.5\"/>\n",
       "      </defs>\n",
       "      <g>\n",
       "       <use xlink:href=\"#m614903fccc\" x=\"22.488283\" y=\"251.472787\" style=\"stroke: #000000; stroke-width: 0.5\"/>\n",
       "      </g>\n",
       "     </g>\n",
       "     <g id=\"text_7\">\n",
       "      <!-- $0$ -->\n",
       "      <g transform=\"translate(13.868283 254.512162) scale(0.08 -0.08)\">\n",
       "       <use xlink:href=\"#DejaVuSans-30\" transform=\"translate(0 0.78125)\"/>\n",
       "      </g>\n",
       "     </g>\n",
       "    </g>\n",
       "    <g id=\"ytick_2\">\n",
       "     <g id=\"line2d_13\">\n",
       "      <path d=\"M 22.488283 180.294479 \n",
       "L 429.165354 180.294479 \n",
       "\" clip-path=\"url(#p3a07aad9fb)\" style=\"fill: none; stroke: #000000; stroke-opacity: 0.1; stroke-width: 0.5; stroke-linecap: square\"/>\n",
       "     </g>\n",
       "     <g id=\"line2d_14\">\n",
       "      <g>\n",
       "       <use xlink:href=\"#m614903fccc\" x=\"22.488283\" y=\"180.294479\" style=\"stroke: #000000; stroke-width: 0.5\"/>\n",
       "      </g>\n",
       "     </g>\n",
       "     <g id=\"text_8\">\n",
       "      <!-- $100$ -->\n",
       "      <g transform=\"translate(3.708283 183.333854) scale(0.08 -0.08)\">\n",
       "       <use xlink:href=\"#DejaVuSans-31\" transform=\"translate(0 0.78125)\"/>\n",
       "       <use xlink:href=\"#DejaVuSans-30\" transform=\"translate(63.623047 0.78125)\"/>\n",
       "       <use xlink:href=\"#DejaVuSans-30\" transform=\"translate(127.246094 0.78125)\"/>\n",
       "      </g>\n",
       "     </g>\n",
       "    </g>\n",
       "    <g id=\"ytick_3\">\n",
       "     <g id=\"line2d_15\">\n",
       "      <path d=\"M 22.488283 109.116171 \n",
       "L 429.165354 109.116171 \n",
       "\" clip-path=\"url(#p3a07aad9fb)\" style=\"fill: none; stroke: #000000; stroke-opacity: 0.1; stroke-width: 0.5; stroke-linecap: square\"/>\n",
       "     </g>\n",
       "     <g id=\"line2d_16\">\n",
       "      <g>\n",
       "       <use xlink:href=\"#m614903fccc\" x=\"22.488283\" y=\"109.116171\" style=\"stroke: #000000; stroke-width: 0.5\"/>\n",
       "      </g>\n",
       "     </g>\n",
       "     <g id=\"text_9\">\n",
       "      <!-- $200$ -->\n",
       "      <g transform=\"translate(3.708283 112.155546) scale(0.08 -0.08)\">\n",
       "       <use xlink:href=\"#DejaVuSans-32\" transform=\"translate(0 0.78125)\"/>\n",
       "       <use xlink:href=\"#DejaVuSans-30\" transform=\"translate(63.623047 0.78125)\"/>\n",
       "       <use xlink:href=\"#DejaVuSans-30\" transform=\"translate(127.246094 0.78125)\"/>\n",
       "      </g>\n",
       "     </g>\n",
       "    </g>\n",
       "    <g id=\"ytick_4\">\n",
       "     <g id=\"line2d_17\">\n",
       "      <path d=\"M 22.488283 37.937862 \n",
       "L 429.165354 37.937862 \n",
       "\" clip-path=\"url(#p3a07aad9fb)\" style=\"fill: none; stroke: #000000; stroke-opacity: 0.1; stroke-width: 0.5; stroke-linecap: square\"/>\n",
       "     </g>\n",
       "     <g id=\"line2d_18\">\n",
       "      <g>\n",
       "       <use xlink:href=\"#m614903fccc\" x=\"22.488283\" y=\"37.937862\" style=\"stroke: #000000; stroke-width: 0.5\"/>\n",
       "      </g>\n",
       "     </g>\n",
       "     <g id=\"text_10\">\n",
       "      <!-- $300$ -->\n",
       "      <g transform=\"translate(3.708283 40.977237) scale(0.08 -0.08)\">\n",
       "       <defs>\n",
       "        <path id=\"DejaVuSans-33\" d=\"M 2597 2516 \n",
       "Q 3050 2419 3304 2112 \n",
       "Q 3559 1806 3559 1356 \n",
       "Q 3559 666 3084 287 \n",
       "Q 2609 -91 1734 -91 \n",
       "Q 1441 -91 1130 -33 \n",
       "Q 819 25 488 141 \n",
       "L 488 750 \n",
       "Q 750 597 1062 519 \n",
       "Q 1375 441 1716 441 \n",
       "Q 2309 441 2620 675 \n",
       "Q 2931 909 2931 1356 \n",
       "Q 2931 1769 2642 2001 \n",
       "Q 2353 2234 1838 2234 \n",
       "L 1294 2234 \n",
       "L 1294 2753 \n",
       "L 1863 2753 \n",
       "Q 2328 2753 2575 2939 \n",
       "Q 2822 3125 2822 3475 \n",
       "Q 2822 3834 2567 4026 \n",
       "Q 2313 4219 1838 4219 \n",
       "Q 1578 4219 1281 4162 \n",
       "Q 984 4106 628 3988 \n",
       "L 628 4550 \n",
       "Q 988 4650 1302 4700 \n",
       "Q 1616 4750 1894 4750 \n",
       "Q 2613 4750 3031 4423 \n",
       "Q 3450 4097 3450 3541 \n",
       "Q 3450 3153 3228 2886 \n",
       "Q 3006 2619 2597 2516 \n",
       "z\n",
       "\" transform=\"scale(0.015625)\"/>\n",
       "       </defs>\n",
       "       <use xlink:href=\"#DejaVuSans-33\" transform=\"translate(0 0.78125)\"/>\n",
       "       <use xlink:href=\"#DejaVuSans-30\" transform=\"translate(63.623047 0.78125)\"/>\n",
       "       <use xlink:href=\"#DejaVuSans-30\" transform=\"translate(127.246094 0.78125)\"/>\n",
       "      </g>\n",
       "     </g>\n",
       "    </g>\n",
       "   </g>\n",
       "   <g id=\"line2d_19\">\n",
       "    <path d=\"M 33.998012 251.472787 \n",
       "L 37.873341 251.470479 \n",
       "L 41.748671 251.45973 \n",
       "L 45.624 251.436807 \n",
       "L 49.49933 251.398927 \n",
       "L 53.374659 251.343759 \n",
       "L 57.249988 251.269253 \n",
       "L 61.125318 251.173557 \n",
       "L 65.000647 251.054972 \n",
       "L 68.875977 250.911912 \n",
       "L 72.751306 250.742893 \n",
       "L 76.626636 250.546509 \n",
       "L 80.501965 250.321423 \n",
       "L 84.377294 250.066357 \n",
       "L 88.252624 249.780088 \n",
       "L 92.127953 249.461436 \n",
       "L 96.003283 249.109265 \n",
       "L 99.878612 248.722475 \n",
       "L 103.753942 248.3 \n",
       "L 107.629271 247.840805 \n",
       "L 111.5046 247.343884 \n",
       "L 115.37993 246.808257 \n",
       "L 119.255259 246.232967 \n",
       "L 123.130589 245.617081 \n",
       "L 127.005918 244.959687 \n",
       "L 130.881248 244.259891 \n",
       "L 134.756577 243.516819 \n",
       "L 138.631907 242.729614 \n",
       "L 142.507236 241.897435 \n",
       "L 146.382565 241.019457 \n",
       "L 150.257895 240.094869 \n",
       "L 154.133224 239.122874 \n",
       "L 158.008554 238.102688 \n",
       "L 161.883883 237.033541 \n",
       "L 165.759213 235.914672 \n",
       "L 169.634542 234.745335 \n",
       "L 173.509871 233.524793 \n",
       "L 177.385201 232.252318 \n",
       "L 181.26053 230.927195 \n",
       "L 185.13586 229.548716 \n",
       "L 189.011189 228.116185 \n",
       "L 192.886519 226.628913 \n",
       "L 196.761848 225.086219 \n",
       "L 200.637178 223.487432 \n",
       "L 204.512507 221.831888 \n",
       "L 208.387836 220.118931 \n",
       "L 212.263166 218.347912 \n",
       "L 216.138495 216.518188 \n",
       "L 220.013825 214.629127 \n",
       "L 223.889154 212.680099 \n",
       "L 227.764484 210.670483 \n",
       "L 231.639813 208.599665 \n",
       "L 235.515142 206.467034 \n",
       "L 239.390472 204.271988 \n",
       "L 243.265801 202.01393 \n",
       "L 247.141131 199.692268 \n",
       "L 251.01646 197.306416 \n",
       "L 254.89179 194.855792 \n",
       "L 258.767119 192.339822 \n",
       "L 262.642448 189.757933 \n",
       "L 266.517778 187.109561 \n",
       "L 270.393107 184.394145 \n",
       "L 274.268437 181.611127 \n",
       "L 278.143766 178.759957 \n",
       "L 282.019096 175.840086 \n",
       "L 285.894425 172.850972 \n",
       "L 289.769755 169.792075 \n",
       "L 293.645084 166.662862 \n",
       "L 297.520413 163.4628 \n",
       "L 301.395743 160.191364 \n",
       "L 305.271072 156.848031 \n",
       "L 309.146402 153.43228 \n",
       "L 313.021731 149.943598 \n",
       "L 316.897061 146.381472 \n",
       "L 320.77239 142.745394 \n",
       "L 324.647719 139.034859 \n",
       "L 328.523049 135.249366 \n",
       "L 332.398378 131.388416 \n",
       "L 336.273708 127.451515 \n",
       "L 340.149037 123.438171 \n",
       "L 344.024367 119.347896 \n",
       "L 347.899696 115.180204 \n",
       "L 351.775026 110.934613 \n",
       "L 355.650355 106.610644 \n",
       "L 359.525684 102.20782 \n",
       "L 363.401014 97.725667 \n",
       "L 367.276343 93.163715 \n",
       "L 371.151673 88.521496 \n",
       "L 375.027002 83.798544 \n",
       "L 378.902332 78.994396 \n",
       "L 382.777661 74.108593 \n",
       "L 386.65299 69.140678 \n",
       "L 390.52832 64.090194 \n",
       "L 394.403649 58.956691 \n",
       "L 398.278979 53.739717 \n",
       "L 402.154308 48.438826 \n",
       "L 406.029638 43.053571 \n",
       "L 409.904967 37.583511 \n",
       "L 413.780296 32.028204 \n",
       "L 417.655626 26.387213 \n",
       "\" clip-path=\"url(#p3a07aad9fb)\" style=\"fill: none; stroke: #009afa; stroke-width: 3\"/>\n",
       "   </g>\n",
       "   <g id=\"line2d_20\">\n",
       "    <path d=\"M 33.998012 251.472787 \n",
       "L 37.873341 251.465525 \n",
       "L 41.748671 251.443738 \n",
       "L 45.624 251.407426 \n",
       "L 49.49933 251.356589 \n",
       "L 53.374659 251.291228 \n",
       "L 57.249988 251.211342 \n",
       "L 61.125318 251.116932 \n",
       "L 65.000647 251.007997 \n",
       "L 68.875977 250.884537 \n",
       "L 72.751306 250.746552 \n",
       "L 76.626636 250.594043 \n",
       "L 80.501965 250.427008 \n",
       "L 84.377294 250.24545 \n",
       "L 88.252624 250.049366 \n",
       "L 92.127953 249.838758 \n",
       "L 96.003283 249.613625 \n",
       "L 99.878612 249.373967 \n",
       "L 103.753942 249.119785 \n",
       "L 107.629271 248.851078 \n",
       "L 111.5046 248.567846 \n",
       "L 115.37993 248.27009 \n",
       "L 119.255259 247.957809 \n",
       "L 123.130589 247.631003 \n",
       "L 127.005918 247.289673 \n",
       "L 130.881248 246.933817 \n",
       "L 134.756577 246.563437 \n",
       "L 138.631907 246.178533 \n",
       "L 142.507236 245.779103 \n",
       "L 146.382565 245.365149 \n",
       "L 150.257895 244.936671 \n",
       "L 154.133224 244.493667 \n",
       "L 158.008554 244.036139 \n",
       "L 161.883883 243.564086 \n",
       "L 165.759213 243.077509 \n",
       "L 169.634542 242.576406 \n",
       "L 173.509871 242.060779 \n",
       "L 177.385201 241.530628 \n",
       "L 181.26053 240.985951 \n",
       "L 185.13586 240.42675 \n",
       "L 189.011189 239.853025 \n",
       "L 192.886519 239.264774 \n",
       "L 196.761848 238.661999 \n",
       "L 200.637178 238.044699 \n",
       "L 204.512507 237.412874 \n",
       "L 208.387836 236.766525 \n",
       "L 212.263166 236.105651 \n",
       "L 216.138495 235.430252 \n",
       "L 220.013825 234.740329 \n",
       "L 223.889154 234.035881 \n",
       "L 227.764484 233.316908 \n",
       "L 231.639813 232.583411 \n",
       "L 235.515142 231.835388 \n",
       "L 239.390472 231.072841 \n",
       "L 243.265801 230.29577 \n",
       "L 247.141131 229.504173 \n",
       "L 251.01646 228.698052 \n",
       "L 254.89179 227.877407 \n",
       "L 258.767119 227.042236 \n",
       "L 262.642448 226.192541 \n",
       "L 266.517778 225.328321 \n",
       "L 270.393107 224.449577 \n",
       "L 274.268437 223.556307 \n",
       "L 278.143766 222.648513 \n",
       "L 282.019096 221.726195 \n",
       "L 285.894425 220.789351 \n",
       "L 289.769755 219.837983 \n",
       "L 293.645084 218.872091 \n",
       "L 297.520413 217.891673 \n",
       "L 301.395743 216.896731 \n",
       "L 305.271072 215.887264 \n",
       "L 309.146402 214.863273 \n",
       "L 313.021731 213.824756 \n",
       "L 316.897061 212.771715 \n",
       "L 320.77239 211.70415 \n",
       "L 324.647719 210.622059 \n",
       "L 328.523049 209.525444 \n",
       "L 332.398378 208.414304 \n",
       "L 336.273708 207.28864 \n",
       "L 340.149037 206.148451 \n",
       "L 344.024367 204.993737 \n",
       "L 347.899696 203.824498 \n",
       "L 351.775026 202.640735 \n",
       "L 355.650355 201.442447 \n",
       "L 359.525684 200.229634 \n",
       "L 363.401014 199.002297 \n",
       "L 367.276343 197.760434 \n",
       "L 371.151673 196.504048 \n",
       "L 375.027002 195.233136 \n",
       "L 378.902332 193.9477 \n",
       "L 382.777661 192.647739 \n",
       "L 386.65299 191.333253 \n",
       "L 390.52832 190.004243 \n",
       "L 394.403649 188.660708 \n",
       "L 398.278979 187.302648 \n",
       "L 402.154308 185.930064 \n",
       "L 406.029638 184.542955 \n",
       "L 409.904967 183.141321 \n",
       "L 413.780296 181.725162 \n",
       "L 417.655626 180.294479 \n",
       "\" clip-path=\"url(#p3a07aad9fb)\" style=\"fill: none; stroke: #e36f47; stroke-width: 3\"/>\n",
       "   </g>\n",
       "   <g id=\"patch_3\">\n",
       "    <path d=\"M 22.488283 258.225354 \n",
       "L 22.488283 19.634646 \n",
       "\" style=\"fill: none; stroke: #000000; stroke-linejoin: miter; stroke-linecap: square\"/>\n",
       "   </g>\n",
       "   <g id=\"patch_4\">\n",
       "    <path d=\"M 22.488283 258.225354 \n",
       "L 429.165354 258.225354 \n",
       "\" style=\"fill: none; stroke: #000000; stroke-linejoin: miter; stroke-linecap: square\"/>\n",
       "   </g>\n",
       "   <g id=\"text_11\">\n",
       "    <!-- A title -->\n",
       "    <g transform=\"translate(205.128694 13.634646) scale(0.14 -0.14)\">\n",
       "     <defs>\n",
       "      <path id=\"DejaVuSans-41\" d=\"M 2188 4044 \n",
       "L 1331 1722 \n",
       "L 3047 1722 \n",
       "L 2188 4044 \n",
       "z\n",
       "M 1831 4666 \n",
       "L 2547 4666 \n",
       "L 4325 0 \n",
       "L 3669 0 \n",
       "L 3244 1197 \n",
       "L 1141 1197 \n",
       "L 716 0 \n",
       "L 50 0 \n",
       "L 1831 4666 \n",
       "z\n",
       "\" transform=\"scale(0.015625)\"/>\n",
       "      <path id=\"DejaVuSans-20\" transform=\"scale(0.015625)\"/>\n",
       "      <path id=\"DejaVuSans-74\" d=\"M 1172 4494 \n",
       "L 1172 3500 \n",
       "L 2356 3500 \n",
       "L 2356 3053 \n",
       "L 1172 3053 \n",
       "L 1172 1153 \n",
       "Q 1172 725 1289 603 \n",
       "Q 1406 481 1766 481 \n",
       "L 2356 481 \n",
       "L 2356 0 \n",
       "L 1766 0 \n",
       "Q 1100 0 847 248 \n",
       "Q 594 497 594 1153 \n",
       "L 594 3053 \n",
       "L 172 3053 \n",
       "L 172 3500 \n",
       "L 594 3500 \n",
       "L 594 4494 \n",
       "L 1172 4494 \n",
       "z\n",
       "\" transform=\"scale(0.015625)\"/>\n",
       "      <path id=\"DejaVuSans-69\" d=\"M 603 3500 \n",
       "L 1178 3500 \n",
       "L 1178 0 \n",
       "L 603 0 \n",
       "L 603 3500 \n",
       "z\n",
       "M 603 4863 \n",
       "L 1178 4863 \n",
       "L 1178 4134 \n",
       "L 603 4134 \n",
       "L 603 4863 \n",
       "z\n",
       "\" transform=\"scale(0.015625)\"/>\n",
       "      <path id=\"DejaVuSans-6c\" d=\"M 603 4863 \n",
       "L 1178 4863 \n",
       "L 1178 0 \n",
       "L 603 0 \n",
       "L 603 4863 \n",
       "z\n",
       "\" transform=\"scale(0.015625)\"/>\n",
       "      <path id=\"DejaVuSans-65\" d=\"M 3597 1894 \n",
       "L 3597 1613 \n",
       "L 953 1613 \n",
       "Q 991 1019 1311 708 \n",
       "Q 1631 397 2203 397 \n",
       "Q 2534 397 2845 478 \n",
       "Q 3156 559 3463 722 \n",
       "L 3463 178 \n",
       "Q 3153 47 2828 -22 \n",
       "Q 2503 -91 2169 -91 \n",
       "Q 1331 -91 842 396 \n",
       "Q 353 884 353 1716 \n",
       "Q 353 2575 817 3079 \n",
       "Q 1281 3584 2069 3584 \n",
       "Q 2775 3584 3186 3129 \n",
       "Q 3597 2675 3597 1894 \n",
       "z\n",
       "M 3022 2063 \n",
       "Q 3016 2534 2758 2815 \n",
       "Q 2500 3097 2075 3097 \n",
       "Q 1594 3097 1305 2825 \n",
       "Q 1016 2553 972 2059 \n",
       "L 3022 2063 \n",
       "z\n",
       "\" transform=\"scale(0.015625)\"/>\n",
       "     </defs>\n",
       "     <use xlink:href=\"#DejaVuSans-41\"/>\n",
       "     <use xlink:href=\"#DejaVuSans-20\" x=\"68.408203\"/>\n",
       "     <use xlink:href=\"#DejaVuSans-74\" x=\"100.195312\"/>\n",
       "     <use xlink:href=\"#DejaVuSans-69\" x=\"139.404297\"/>\n",
       "     <use xlink:href=\"#DejaVuSans-74\" x=\"167.1875\"/>\n",
       "     <use xlink:href=\"#DejaVuSans-6c\" x=\"206.396484\"/>\n",
       "     <use xlink:href=\"#DejaVuSans-65\" x=\"234.179688\"/>\n",
       "    </g>\n",
       "   </g>\n",
       "   <g id=\"legend_1\">\n",
       "    <g id=\"patch_5\">\n",
       "     <path d=\"M 365.804104 55.919646 \n",
       "L 425.165354 55.919646 \n",
       "L 425.165354 23.634646 \n",
       "L 365.804104 23.634646 \n",
       "z\n",
       "\" style=\"fill: #ffffff; stroke: #000000; stroke-linejoin: miter\"/>\n",
       "    </g>\n",
       "    <g id=\"line2d_21\">\n",
       "     <path d=\"M 372.204104 33.313396 \n",
       "L 380.204104 33.313396 \n",
       "L 388.204104 33.313396 \n",
       "\" style=\"fill: none; stroke: #009afa; stroke-linejoin: miter\"/>\n",
       "    </g>\n",
       "    <g id=\"text_12\">\n",
       "     <!-- x^2.5 -->\n",
       "     <g transform=\"translate(394.604104 36.113396) scale(0.08 -0.08)\">\n",
       "      <defs>\n",
       "       <path id=\"DejaVuSans-5e\" d=\"M 2988 4666 \n",
       "L 4684 2925 \n",
       "L 4056 2925 \n",
       "L 2681 4159 \n",
       "L 1306 2925 \n",
       "L 678 2925 \n",
       "L 2375 4666 \n",
       "L 2988 4666 \n",
       "z\n",
       "\" transform=\"scale(0.015625)\"/>\n",
       "      </defs>\n",
       "      <use xlink:href=\"#DejaVuSans-78\"/>\n",
       "      <use xlink:href=\"#DejaVuSans-5e\" x=\"59.179688\"/>\n",
       "      <use xlink:href=\"#DejaVuSans-32\" x=\"142.96875\"/>\n",
       "      <use xlink:href=\"#DejaVuSans-2e\" x=\"206.591797\"/>\n",
       "      <use xlink:href=\"#DejaVuSans-35\" x=\"238.378906\"/>\n",
       "     </g>\n",
       "    </g>\n",
       "    <g id=\"line2d_22\">\n",
       "     <path d=\"M 372.204104 45.055896 \n",
       "L 380.204104 45.055896 \n",
       "L 388.204104 45.055896 \n",
       "\" style=\"fill: none; stroke: #e36f47; stroke-linejoin: miter\"/>\n",
       "    </g>\n",
       "    <g id=\"text_13\">\n",
       "     <!-- x^2 -->\n",
       "     <g transform=\"translate(394.604104 47.855896) scale(0.08 -0.08)\">\n",
       "      <use xlink:href=\"#DejaVuSans-78\"/>\n",
       "      <use xlink:href=\"#DejaVuSans-5e\" x=\"59.179688\"/>\n",
       "      <use xlink:href=\"#DejaVuSans-32\" x=\"142.96875\"/>\n",
       "     </g>\n",
       "    </g>\n",
       "   </g>\n",
       "  </g>\n",
       " </g>\n",
       " <defs>\n",
       "  <clipPath id=\"p3a07aad9fb\">\n",
       "   <rect x=\"22.488283\" y=\"19.634646\" width=\"406.677071\" height=\"238.590709\"/>\n",
       "  </clipPath>\n",
       " </defs>\n",
       "</svg>\n"
      ],
      "text/html": [
       "<img src=\"data:image/png;base64,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\" />"
      ]
     },
     "metadata": {},
     "output_type": "display_data"
    }
   ],
   "source": [
    "pyplot()  # Now we're using the pyplot backend\n",
    "\n",
    "plot(x,map(x->x^2.5,x), label = \"x^2.5\", width = 3)\n",
    "plot!(x,map(x->x^2,x), label = \"x^2\", width = 3)\n",
    "plot!(title = \"A title\", xlabel = \"x\")"
   ]
  },
  {
   "cell_type": "code",
   "execution_count": 89,
   "metadata": {},
   "outputs": [
    {
     "data": {
      "text/plain": [
       "            \u001b[38;5;8m┌────────────────────────────────────────┐\u001b[0m   \n",
       "    \u001b[38;5;8m13.5611\u001b[0m \u001b[38;5;8m│\u001b[0m⡇⠀⠀⠀⠀⠀⠀⠀⠀⠀⠀⠀⠀⠀\u001b[38;2;227;111;71m⢰\u001b[0m\u001b[38;2;227;111;71m⡄\u001b[0m⠀⠀⠀⠀⠀⠀⠀⠀⠀⠀⠀⠀⠀⠀⠀⠀⠀⠀⠀⠀⠀⠀⠀⠀\u001b[38;5;8m│\u001b[0m \u001b[38;2;0;154;250my1\u001b[0m\n",
       "           \u001b[38;5;8m\u001b[0m \u001b[38;5;8m│\u001b[0m⡇⠀⠀⠀⠀⠀⠀⠀⠀⠀⠀⠀⠀⠀\u001b[38;2;227;111;71m⡸\u001b[0m\u001b[38;2;227;111;71m⢣\u001b[0m⠀⠀⠀⠀⠀⠀⠀⠀⠀⠀⠀⠀⠀⠀⠀⠀⠀⠀⠀⠀⠀⠀⠀⠀\u001b[38;5;8m│\u001b[0m \u001b[38;2;227;111;71my2\u001b[0m\n",
       "           \u001b[38;5;8m\u001b[0m \u001b[38;5;8m│\u001b[0m⡇⠀⠀⠀⠀⠀⠀⠀⠀⠀⠀⠀⠀\u001b[38;2;227;111;71m⢠\u001b[0m\u001b[38;2;227;111;71m⠃\u001b[0m\u001b[38;2;227;111;71m⠈\u001b[0m\u001b[38;2;227;111;71m⡆\u001b[0m\u001b[38;2;227;111;71m⡀\u001b[0m⠀⠀⠀⠀⠀⠀⠀⠀⠀⠀⠀⠀⠀⠀⠀⠀⠀⠀⠀⠀⠀⠀\u001b[38;5;8m│\u001b[0m \u001b[38;2;62;164;78my3\u001b[0m\n",
       "           \u001b[38;5;8m\u001b[0m \u001b[38;5;8m│\u001b[0m⡇⠀⠀⠀⠀⠀⠀⠀⠀⠀⠀⠀⠀\u001b[38;2;227;111;71m⡇\u001b[0m⠀⠀\u001b[38;2;227;111;71m⠙\u001b[0m\u001b[38;2;227;111;71m⠸\u001b[0m\u001b[38;2;227;111;71m⡄\u001b[0m⠀⠀⠀⠀⠀⠀⠀⠀⠀⠀⠀⠀⠀⠀⠀⠀⠀⠀⠀⠀⠀\u001b[38;5;8m│\u001b[0m \u001b[38;2;195;113;210my4\u001b[0m\n",
       "           \u001b[38;5;8m\u001b[0m \u001b[38;5;8m│\u001b[0m⡇⠀⠀⠀⠀⠀⠀⠀⠀\u001b[38;2;227;111;71m⢀\u001b[0m\u001b[38;2;227;111;71m⠎\u001b[0m\u001b[38;2;227;111;71m⠉\u001b[0m\u001b[38;2;227;111;71m⠚\u001b[0m⠀⠀⠀⠀⠀\u001b[38;2;227;111;71m⡇\u001b[0m⠀⠀⠀⠀⠀⠀⠀⠀⠀⠀⠀⠀⠀⠀⠀⠀⠀⠀⠀⠀⠀\u001b[38;5;8m│\u001b[0m \u001b[38;2;172;142;24my5\u001b[0m\n",
       "           \u001b[38;5;8m\u001b[0m \u001b[38;5;8m│\u001b[0m⡇⠀⠀⠀⠀⠀⠀⠀\u001b[38;2;227;111;71m⢰\u001b[0m\u001b[38;2;227;111;71m⠁\u001b[0m⠀⠀⠀⠀⠀⠀⠀⠀\u001b[38;2;227;111;71m⢸\u001b[0m⠀⠀⠀⠀⠀⠀⠀⠀\u001b[38;2;227;111;71m⡔\u001b[0m\u001b[38;2;227;111;71m⡇\u001b[0m⠀⠀⠀⠀⠀⠀⠀⠀⠀⠀⠀\u001b[38;5;8m│\u001b[0m \u001b[38;5;8m\u001b[0m  \n",
       "           \u001b[38;5;8m\u001b[0m \u001b[38;5;8m│\u001b[0m⡇⠀⠀⠀⠀⠀⠀⠀\u001b[38;2;227;111;71m⡇\u001b[0m⠀⠀⠀⠀⠀⠀⠀⠀⠀\u001b[38;2;227;111;71m⠈\u001b[0m\u001b[38;2;227;111;71m⠒\u001b[0m\u001b[38;2;227;111;71m⡄\u001b[0m⠀⠀\u001b[38;2;172;142;24m⢠\u001b[0m\u001b[38;2;172;142;24m⢣\u001b[0m⠀\u001b[38;2;227;111;71m⢸\u001b[0m⠀\u001b[38;2;227;111;71m⠸\u001b[0m\u001b[38;2;227;111;71m⡀\u001b[0m⠀⠀⠀⠀⠀⠀⠀⠀⠀⠀\u001b[38;5;8m│\u001b[0m \u001b[38;5;8m\u001b[0m  \n",
       "           \u001b[38;5;8m\u001b[0m \u001b[38;5;8m│\u001b[0m⡇⠀⠀\u001b[38;2;227;111;71m⣄\u001b[0m⠀⠀\u001b[38;2;227;111;71m⢠\u001b[0m\u001b[38;2;227;111;71m⠋\u001b[0m⠀⠀⠀\u001b[38;2;172;142;24m⢀\u001b[0m⠀⠀\u001b[38;2;0;154;250m⢀\u001b[0m\u001b[38;2;0;154;250m⠤\u001b[0m\u001b[38;2;0;154;250m⡀\u001b[0m⠀⠀⠀\u001b[38;2;179;138;32m⣌\u001b[0m\u001b[38;2;227;111;71m⢆\u001b[0m\u001b[38;2;172;142;24m⢰\u001b[0m\u001b[38;2;152;147;43m⡕\u001b[0m\u001b[38;2;62;164;78m⢆\u001b[0m\u001b[38;2;169;142;26m⢇\u001b[0m\u001b[38;2;166;143;34m⣧\u001b[0m⠀\u001b[38;2;62;164;78m⢀\u001b[0m\u001b[38;2;227;111;71m⢣\u001b[0m⠀⠀⠀⠀⠀⠀⠀⠀⠀⠀\u001b[38;5;8m│\u001b[0m \u001b[38;5;8m\u001b[0m  \n",
       "           \u001b[38;5;8m\u001b[0m \u001b[38;5;8m│\u001b[0m⡇⠀\u001b[38;2;227;111;71m⡜\u001b[0m\u001b[38;2;227;111;71m⠈\u001b[0m\u001b[38;2;227;111;71m⠒\u001b[0m\u001b[38;2;227;111;71m⢄\u001b[0m\u001b[38;2;227;111;71m⠞\u001b[0m⠀⠀\u001b[38;2;172;142;24m⡴\u001b[0m\u001b[38;2;172;142;24m⣠\u001b[0m\u001b[38;2;172;142;24m⠊\u001b[0m\u001b[38;2;172;142;24m⢣\u001b[0m\u001b[38;2;0;154;250m⢀\u001b[0m\u001b[38;2;0;154;250m⠎\u001b[0m⠀\u001b[38;2;0;154;250m⠘\u001b[0m\u001b[38;2;0;154;250m⢄\u001b[0m\u001b[38;2;172;142;24m⢀\u001b[0m\u001b[38;2;172;142;24m⠜\u001b[0m\u001b[38;2;152;147;43m⢸\u001b[0m\u001b[38;2;167;143;29m⡽\u001b[0m\u001b[38;2;134;151;57m⢷\u001b[0m\u001b[38;2;125;152;76m⡧\u001b[0m\u001b[38;2;98;158;77m⠼\u001b[0m\u001b[38;2;98;158;77m⠿\u001b[0m\u001b[38;2;172;142;24m⠈\u001b[0m\u001b[38;2;167;143;29m⣗\u001b[0m\u001b[38;2;62;164;78m⠎\u001b[0m\u001b[38;2;72;162;77m⣏\u001b[0m\u001b[38;2;98;158;77m⣆\u001b[0m\u001b[38;2;62;164;78m⡜\u001b[0m\u001b[38;2;62;164;78m⡆\u001b[0m\u001b[38;2;62;164;78m⡀\u001b[0m⠀⠀⠀⠀⠀⠀\u001b[38;5;8m│\u001b[0m \u001b[38;5;8m\u001b[0m  \n",
       "           \u001b[38;5;8m\u001b[0m \u001b[38;5;8m│\u001b[0m⡇\u001b[38;2;227;111;71m⢠\u001b[0m\u001b[38;2;201;127;52m⢃\u001b[0m⠀\u001b[38;2;195;113;210m⢀\u001b[0m⠀\u001b[38;2;195;113;210m⣤\u001b[0m⠀\u001b[38;2;172;142;24m⡰\u001b[0m\u001b[38;2;172;142;24m⠁\u001b[0m\u001b[38;2;172;142;24m⠁\u001b[0m\u001b[38;2;0;154;250m⣀\u001b[0m\u001b[38;2;121;148;177m⠞\u001b[0m\u001b[38;2;166;142;65m⡾\u001b[0m⠀⠀\u001b[38;2;172;142;24m⡴\u001b[0m\u001b[38;2;148;145;126m⠙\u001b[0m\u001b[38;2;148;145;126m⠓\u001b[0m\u001b[38;2;53;161;141m⢤\u001b[0m\u001b[38;2;57;162;113m⢇\u001b[0m⠀⠀⠀⠀⠀⠀⠀\u001b[38;2;172;142;24m⢣\u001b[0m\u001b[38;2;172;142;24m⠶\u001b[0m\u001b[38;2;187;134;40m⡈\u001b[0m\u001b[38;2;227;111;71m⠒\u001b[0m\u001b[38;2;98;158;77m⠺\u001b[0m\u001b[38;2;125;152;76m⡉\u001b[0m\u001b[38;2;62;164;78m⡆\u001b[0m⠀⠀⠀⠀⠀\u001b[38;5;8m│\u001b[0m \u001b[38;5;8m\u001b[0m  \n",
       "           \u001b[38;5;8m\u001b[0m \u001b[38;5;8m│\u001b[0m⡧\u001b[38;2;174;138;74m⢾\u001b[0m\u001b[38;2;171;134;131m⠵\u001b[0m\u001b[38;2;172;140;53m⢯\u001b[0m\u001b[38;2;177;135;106m⢥\u001b[0m\u001b[38;2;188;115;212m⡽\u001b[0m\u001b[38;2;171;140;59m⡼\u001b[0m\u001b[38;2;173;139;78m⣤\u001b[0m\u001b[38;2;148;145;126m⡿\u001b[0m\u001b[38;2;182;118;215m⣶\u001b[0m\u001b[38;2;182;118;215m⠿\u001b[0m\u001b[38;2;195;113;210m⢤\u001b[0m⠤\u001b[38;2;172;142;24m⠬\u001b[0m\u001b[38;2;172;142;24m⢦\u001b[0m\u001b[38;2;172;142;24m⡼\u001b[0m\u001b[38;2;62;164;78m⢤\u001b[0m\u001b[38;2;62;164;78m⠶\u001b[0m\u001b[38;2;62;164;78m⠶\u001b[0m\u001b[38;2;62;164;78m⠮\u001b[0m⠤\u001b[38;2;168;124;220m⢧\u001b[0m\u001b[38;2;195;113;210m⡤\u001b[0m⠤⠤⠤⠤⠤⠤⠤\u001b[38;2;172;142;24m⠼\u001b[0m\u001b[38;2;172;142;24m⠤\u001b[0m\u001b[38;2;121;148;177m⣤\u001b[0m\u001b[38;2;227;111;71m⢧\u001b[0m\u001b[38;2;98;158;77m⡼\u001b[0m\u001b[38;2;72;162;77m⡼\u001b[0m\u001b[38;2;125;152;76m⣶\u001b[0m\u001b[38;2;62;164;78m⡴\u001b[0m\u001b[38;2;82;161;77m⡷\u001b[0m⠤\u001b[38;5;8m│\u001b[0m \u001b[38;5;8m\u001b[0m  \n",
       "           \u001b[38;5;8m\u001b[0m \u001b[38;5;8m│\u001b[0m⡇⠀\u001b[38;2;0;154;250m⠱\u001b[0m\u001b[38;2;0;154;250m⡀\u001b[0m\u001b[38;2;128;152;70m⢧\u001b[0m\u001b[38;2;160;143;90m⠛\u001b[0m⠀\u001b[38;2;163;140;116m⠉\u001b[0m\u001b[38;2;182;118;215m⠋\u001b[0m⠀⠀\u001b[38;2;62;164;78m⡜\u001b[0m\u001b[38;2;189;116;203m⡧\u001b[0m\u001b[38;2;62;164;78m⠔\u001b[0m\u001b[38;2;129;153;57m⢹\u001b[0m\u001b[38;2;62;164;78m⠤\u001b[0m\u001b[38;2;62;164;78m⠃\u001b[0m⠀⠀⠀\u001b[38;2;195;113;210m⡖\u001b[0m\u001b[38;2;168;124;220m⠛\u001b[0m\u001b[38;2;193;113;210m⢧\u001b[0m\u001b[38;2;188;115;212m⣢\u001b[0m\u001b[38;2;0;154;250m⡄\u001b[0m⠀⠀⠀⠀⠀⠀\u001b[38;2;0;154;250m⡜\u001b[0m\u001b[38;2;172;141;43m⢣\u001b[0m\u001b[38;2;172;140;57m⢷\u001b[0m\u001b[38;2;174;138;76m⣄\u001b[0m\u001b[38;2;177;135;106m⢠\u001b[0m\u001b[38;2;152;147;43m⠋\u001b[0m\u001b[38;2;179;138;32m⠟\u001b[0m\u001b[38;2;167;143;29m⢷\u001b[0m⠀\u001b[38;5;8m│\u001b[0m \u001b[38;5;8m\u001b[0m  \n",
       "           \u001b[38;5;8m\u001b[0m \u001b[38;5;8m│\u001b[0m⡇⠀⠀\u001b[38;2;0;154;250m⠈\u001b[0m\u001b[38;2;59;163;97m⠻\u001b[0m\u001b[38;2;62;164;78m⡀\u001b[0m⠀⠀\u001b[38;2;62;164;78m⢀\u001b[0m\u001b[38;2;62;164;78m⢀\u001b[0m\u001b[38;2;62;164;78m⠜\u001b[0m⠀\u001b[38;2;195;113;210m⠈\u001b[0m\u001b[38;2;195;113;210m⠖\u001b[0m\u001b[38;2;195;113;210m⠢\u001b[0m\u001b[38;2;195;113;210m⡀\u001b[0m\u001b[38;2;195;113;210m⢠\u001b[0m\u001b[38;2;195;113;210m⢄\u001b[0m\u001b[38;2;195;113;210m⢀\u001b[0m\u001b[38;2;195;113;210m⠞\u001b[0m⠀⠀⠀⠀\u001b[38;2;188;115;212m⢱\u001b[0m\u001b[38;2;195;113;210m⡀\u001b[0m\u001b[38;2;0;154;250m⡤\u001b[0m\u001b[38;2;182;118;215m⣄\u001b[0m\u001b[38;2;195;113;210m⡀\u001b[0m⠀\u001b[38;2;188;115;212m⡴\u001b[0m\u001b[38;2;182;118;215m⡡\u001b[0m\u001b[38;2;195;113;210m⠃\u001b[0m\u001b[38;2;0;154;250m⠈\u001b[0m\u001b[38;2;188;115;212m⢾\u001b[0m\u001b[38;2;180;129;150m⡯\u001b[0m\u001b[38;2;168;124;220m⡑\u001b[0m\u001b[38;2;182;118;215m⢖\u001b[0m\u001b[38;2;177;130;152m⣎\u001b[0m⠀\u001b[38;5;8m│\u001b[0m \u001b[38;5;8m\u001b[0m  \n",
       "           \u001b[38;5;8m\u001b[0m \u001b[38;5;8m│\u001b[0m⡇⠀⠀⠀⠀\u001b[38;2;62;164;78m⢱\u001b[0m⠀⠀\u001b[38;2;62;164;78m⡸\u001b[0m\u001b[38;2;62;164;78m⠉\u001b[0m⠀⠀⠀⠀⠀\u001b[38;2;195;113;210m⠈\u001b[0m\u001b[38;2;195;113;210m⠁\u001b[0m\u001b[38;2;195;113;210m⠈\u001b[0m\u001b[38;2;195;113;210m⠉\u001b[0m⠀⠀⠀⠀⠀\u001b[38;2;0;154;250m⠈\u001b[0m\u001b[38;2;188;115;212m⠳\u001b[0m\u001b[38;2;182;118;215m⠋\u001b[0m\u001b[38;2;0;154;250m⠈\u001b[0m\u001b[38;2;168;124;220m⢞\u001b[0m\u001b[38;2;188;115;212m⣤\u001b[0m\u001b[38;2;168;124;220m⠃\u001b[0m⠀⠀⠀⠀⠀\u001b[38;2;0;154;250m⠈\u001b[0m\u001b[38;2;0;154;250m⠁\u001b[0m\u001b[38;2;0;154;250m⠱\u001b[0m⠀\u001b[38;5;8m│\u001b[0m \u001b[38;5;8m\u001b[0m  \n",
       "   \u001b[38;5;8m-5.66941\u001b[0m \u001b[38;5;8m│\u001b[0m⡇⠀⠀⠀⠀⠀\u001b[38;2;62;164;78m⠓\u001b[0m\u001b[38;2;62;164;78m⠑\u001b[0m\u001b[38;2;62;164;78m⠇\u001b[0m⠀⠀⠀⠀⠀⠀⠀⠀⠀⠀⠀⠀⠀⠀⠀⠀⠀⠀⠀\u001b[38;2;0;154;250m⠈\u001b[0m\u001b[38;2;188;115;212m⠙\u001b[0m⠀⠀⠀⠀⠀⠀⠀⠀⠀⠀\u001b[38;5;8m│\u001b[0m \u001b[38;5;8m\u001b[0m  \n",
       "            \u001b[38;5;8m└────────────────────────────────────────┘\u001b[0m   \n",
       "            ⠀\u001b[38;5;8m-0.47\u001b[0m⠀⠀⠀⠀⠀⠀⠀⠀⠀⠀⠀⠀⠀⠀\u001b[38;5;8m\u001b[0m⠀⠀⠀⠀⠀⠀⠀⠀⠀⠀⠀⠀⠀⠀⠀⠀\u001b[38;5;8m51.47\u001b[0m⠀   "
      ]
     },
     "metadata": {},
     "output_type": "display_data"
    }
   ],
   "source": [
    "unicodeplots()\n",
    "\n",
    "plot(Plots.fakedata(50, 5), w = 3)\n",
    "# plot(x,map(x->x^2.5,x), label = \"x^2.5\", width = 3)\n",
    "# plot!(x,map(x->x^2,x), label = \"x^2\", width = 3)\n",
    "# plot!(title = \"A title\", xlabel = \"x\")"
   ]
  },
  {
   "cell_type": "markdown",
   "metadata": {
    "autoscroll": false,
    "ein.hycell": false,
    "ein.tags": "worksheet-0",
    "slideshow": {
     "slide_type": "-"
    }
   },
   "source": [
    "# Example of automatic differentiation\n",
    "One important library available in Julia is its automatic differentiation tools, especially useful for ML.\n",
    "Automatic differentiation computes a derivative using the chain-rule on the computer operations. \n",
    "This is more accurate than numerical derivation, and more efficient than symbolic by hand derivation."
   ]
  },
  {
   "cell_type": "code",
   "execution_count": 90,
   "metadata": {
    "autoscroll": false,
    "ein.hycell": false,
    "ein.tags": "worksheet-0",
    "slideshow": {
     "slide_type": "-"
    }
   },
   "outputs": [
    {
     "ename": "ArgumentError",
     "evalue": "ArgumentError: Package ForwardDiff not found in current path.\n- Run `import Pkg; Pkg.add(\"ForwardDiff\")` to install the ForwardDiff package.",
     "output_type": "error",
     "traceback": [
      "ArgumentError: Package ForwardDiff not found in current path.\n",
      "- Run `import Pkg; Pkg.add(\"ForwardDiff\")` to install the ForwardDiff package.\n",
      "\n",
      "Stacktrace:\n",
      "  [1] macro expansion\n",
      "    @ ./loading.jl:1630 [inlined]\n",
      "  [2] macro expansion\n",
      "    @ ./lock.jl:267 [inlined]\n",
      "  [3] require(into::Module, mod::Symbol)\n",
      "    @ Base ./loading.jl:1611\n",
      "  [4] eval\n",
      "    @ ./boot.jl:370 [inlined]\n",
      "  [5] include_string(mapexpr::typeof(REPL.softscope), mod::Module, code::String, filename::String)\n",
      "    @ Base ./loading.jl:1903\n",
      "  [6] #invokelatest#2\n",
      "    @ ./essentials.jl:819 [inlined]\n",
      "  [7] invokelatest\n",
      "    @ ./essentials.jl:816 [inlined]\n",
      "  [8] (::VSCodeServer.var\"#202#203\"{VSCodeServer.NotebookRunCellArguments, String})()\n",
      "    @ VSCodeServer ~/.vscode/extensions/julialang.language-julia-1.52.2/scripts/packages/VSCodeServer/src/serve_notebook.jl:19\n",
      "  [9] withpath(f::VSCodeServer.var\"#202#203\"{VSCodeServer.NotebookRunCellArguments, String}, path::String)\n",
      "    @ VSCodeServer ~/.vscode/extensions/julialang.language-julia-1.52.2/scripts/packages/VSCodeServer/src/repl.jl:274\n",
      " [10] notebook_runcell_request(conn::VSCodeServer.JSONRPC.JSONRPCEndpoint{Base.PipeEndpoint, Base.PipeEndpoint}, params::VSCodeServer.NotebookRunCellArguments)\n",
      "    @ VSCodeServer ~/.vscode/extensions/julialang.language-julia-1.52.2/scripts/packages/VSCodeServer/src/serve_notebook.jl:13\n",
      " [11] dispatch_msg(x::VSCodeServer.JSONRPC.JSONRPCEndpoint{Base.PipeEndpoint, Base.PipeEndpoint}, dispatcher::VSCodeServer.JSONRPC.MsgDispatcher, msg::Dict{String, Any})\n",
      "    @ VSCodeServer.JSONRPC ~/.vscode/extensions/julialang.language-julia-1.52.2/scripts/packages/JSONRPC/src/typed.jl:67\n",
      " [12] serve_notebook(pipename::String, outputchannel_logger::Base.CoreLogging.SimpleLogger; crashreporting_pipename::String)\n",
      "    @ VSCodeServer ~/.vscode/extensions/julialang.language-julia-1.52.2/scripts/packages/VSCodeServer/src/serve_notebook.jl:139\n",
      " [13] top-level scope\n",
      "    @ ~/.vscode/extensions/julialang.language-julia-1.52.2/scripts/notebook/notebook.jl:32"
     ]
    }
   ],
   "source": [
    "# using Pkg; Pkg.add(\"ForwardDiff\")\n",
    "using ForwardDiff\n",
    "\n",
    "\"\"\"\n",
    "    Newton(x::Float64, f, n::Int64, plotPoints::Bool)\n",
    "Newton method to find f(x) = 0\n",
    "\n",
    "x is the starting guess\n",
    "\n",
    "n is the number of iterations\n",
    "\"\"\"\n",
    "function Newton(x::Float64, f, n::Int64 = 10)\n",
    "    xs = zeros(Float64, n+1)\n",
    "    for i=1:n\n",
    "        xs[i] = x\n",
    "        x -= f(x)/ForwardDiff.derivative(f, x)\n",
    "    end\n",
    "    xs[n+1] = x\n",
    "    return x,xs\n",
    "end\n",
    "\n",
    "@doc Newton  # To see the documentation for the function"
   ]
  },
  {
   "cell_type": "code",
   "execution_count": 91,
   "metadata": {
    "autoscroll": false,
    "ein.hycell": false,
    "ein.tags": "worksheet-0",
    "slideshow": {
     "slide_type": "-"
    }
   },
   "outputs": [
    {
     "ename": "UndefVarError",
     "evalue": "UndefVarError: `Newton` not defined",
     "output_type": "error",
     "traceback": [
      "UndefVarError: `Newton` not defined\n",
      "\n",
      "Stacktrace:\n",
      " [1] top-level scope\n",
      "   @ ~/Desktop/ICP/julia_introduction.ipynb:3"
     ]
    }
   ],
   "source": [
    "f(x) = x^2 - 8\n",
    "\n",
    "x0,xs = Newton(1.0,f, 4)\n",
    "\n",
    "println(\"Numerical result is x_0 = \", x0)\n",
    "println(\"Analytical result is sqrt(8) = \",√8)\n",
    "\n",
    "plotly()\n",
    "markersize = [9*i/length(xs) for i = 1:length(xs)]\n",
    "println(markersize)\n",
    "scatter(xs, f.(xs), color = \"red\", label = false, ms = markersize)\n",
    "title!(\"Points get bigger after each iteration\")"
   ]
  },
  {
   "cell_type": "markdown",
   "metadata": {
    "autoscroll": false,
    "ein.hycell": false,
    "ein.tags": "worksheet-0",
    "slideshow": {
     "slide_type": "-"
    }
   },
   "source": [
    "# More..."
   ]
  },
  {
   "cell_type": "markdown",
   "metadata": {},
   "source": [
    "Explore more Julia packages at https://juliahub.com/ui/Home"
   ]
  }
 ],
 "metadata": {
  "kernelspec": {
   "display_name": "Julia 1.9.3",
   "language": "julia",
   "name": "julia-1.9"
  },
  "language_info": {
   "file_extension": ".jl",
   "mimetype": "application/julia",
   "name": "julia",
   "version": "1.9.3"
  },
  "latex_envs": {
   "LaTeX_envs_menu_present": true,
   "autoclose": false,
   "autocomplete": true,
   "bibliofile": "biblio.bib",
   "cite_by": "apalike",
   "current_citInitial": 1,
   "eqLabelWithNumbers": true,
   "eqNumInitial": 1,
   "hotkeys": {
    "equation": "",
    "itemize": "Ctrl-I"
   },
   "labels_anchors": false,
   "latex_user_defs": false,
   "report_style_numbering": false,
   "user_envs_cfg": false
  },
  "name": "Julia_Crash_Course.ipynb",
  "toc": {
   "base_numbering": 1,
   "nav_menu": {},
   "number_sections": true,
   "sideBar": true,
   "skip_h1_title": false,
   "title_cell": "Table of Contents",
   "title_sidebar": "Contents",
   "toc_cell": false,
   "toc_position": {
    "height": "calc(100% - 180px)",
    "left": "10px",
    "top": "150px",
    "width": "273.188px"
   },
   "toc_section_display": true,
   "toc_window_display": true
  },
  "varInspector": {
   "cols": {
    "lenName": 16,
    "lenType": 16,
    "lenVar": 40
   },
   "kernels_config": {
    "python": {
     "delete_cmd_postfix": "",
     "delete_cmd_prefix": "del ",
     "library": "var_list.py",
     "varRefreshCmd": "print(var_dic_list())"
    },
    "r": {
     "delete_cmd_postfix": ") ",
     "delete_cmd_prefix": "rm(",
     "library": "var_list.r",
     "varRefreshCmd": "cat(var_dic_list()) "
    }
   },
   "types_to_exclude": [
    "module",
    "function",
    "builtin_function_or_method",
    "instance",
    "_Feature"
   ],
   "window_display": false
  }
 },
 "nbformat": 4,
 "nbformat_minor": 4
}
