{
 "cells": [
  {
   "cell_type": "code",
   "execution_count": 1,
   "metadata": {},
   "outputs": [
    {
     "data": {
      "text/plain": [
       "4"
      ]
     },
     "execution_count": 1,
     "metadata": {},
     "output_type": "execute_result"
    }
   ],
   "source": [
    "N = Threads.nthreads()"
   ]
  },
  {
   "cell_type": "code",
   "execution_count": 2,
   "metadata": {},
   "outputs": [
    {
     "name": "stdout",
     "output_type": "stream",
     "text": [
      "Hello there, I am thread 1\n",
      "Hello there, I am thread 4\n",
      "Hello there, I am thread 3\n",
      "Hello there, I am thread 2\n"
     ]
    }
   ],
   "source": [
    "Threads.@threads for i in 1:N\n",
    "    println(\"Hello there, I am thread $(Threads.threadid())\")\n",
    "end"
   ]
  },
  {
   "cell_type": "code",
   "execution_count": 3,
   "metadata": {
    "scrolled": false
   },
   "outputs": [
    {
     "data": {
      "text/plain": [
       "8-element Vector{Base.Sys.CPUinfo}:\n",
       " Intel(R) Core(TM) i7-8565U CPU @ 1.80GHz: \n",
       "        speed         user         nice          sys         idle          irq\n",
       "     2000 MHz        370 s          2 s        208 s       9083 s          0 s\n",
       " Intel(R) Core(TM) i7-8565U CPU @ 1.80GHz: \n",
       "        speed         user         nice          sys         idle          irq\n",
       "     2000 MHz        378 s          1 s        144 s       9128 s          0 s\n",
       " Intel(R) Core(TM) i7-8565U CPU @ 1.80GHz: \n",
       "        speed         user         nice          sys         idle          irq\n",
       "     2000 MHz        865 s          2 s        155 s       8671 s          0 s\n",
       " Intel(R) Core(TM) i7-8565U CPU @ 1.80GHz: \n",
       "        speed         user         nice          sys         idle          irq\n",
       "     2000 MHz        505 s          1 s        126 s       9052 s          0 s\n",
       " Intel(R) Core(TM) i7-8565U CPU @ 1.80GHz: \n",
       "        speed         user         nice          sys         idle          irq\n",
       "     2315 MHz        602 s          2 s        126 s       8952 s          0 s\n",
       " Intel(R) Core(TM) i7-8565U CPU @ 1.80GHz: \n",
       "        speed         user         nice          sys         idle          irq\n",
       "     2000 MHz        423 s          2 s        122 s       9143 s          0 s\n",
       " Intel(R) Core(TM) i7-8565U CPU @ 1.80GHz: \n",
       "        speed         user         nice          sys         idle          irq\n",
       "     2000 MHz        515 s          2 s        138 s       9028 s          0 s\n",
       " Intel(R) Core(TM) i7-8565U CPU @ 1.80GHz: \n",
       "        speed         user         nice          sys         idle          irq\n",
       "     2000 MHz        505 s          1 s        140 s       9039 s          0 s"
      ]
     },
     "execution_count": 3,
     "metadata": {},
     "output_type": "execute_result"
    }
   ],
   "source": [
    "Sys.cpu_info()"
   ]
  },
  {
   "cell_type": "code",
   "execution_count": 4,
   "metadata": {},
   "outputs": [
    {
     "ename": "LoadError",
     "evalue": "UndefVarError: `nprocs` not defined",
     "output_type": "error",
     "traceback": [
      "UndefVarError: `nprocs` not defined",
      "",
      "Stacktrace:",
      " [1] top-level scope",
      "   @ In[4]:1"
     ]
    }
   ],
   "source": [
    "nprocs(), nworkers()"
   ]
  },
  {
   "cell_type": "code",
   "execution_count": 5,
   "metadata": {},
   "outputs": [],
   "source": [
    "using Distributed\n",
    "using DistributedArrays"
   ]
  },
  {
   "cell_type": "code",
   "execution_count": 6,
   "metadata": {},
   "outputs": [
    {
     "data": {
      "text/plain": [
       "(4, 3)"
      ]
     },
     "execution_count": 6,
     "metadata": {},
     "output_type": "execute_result"
    }
   ],
   "source": [
    "addprocs(3)\n",
    "nprocs(), nworkers()"
   ]
  },
  {
   "cell_type": "code",
   "execution_count": 11,
   "metadata": {},
   "outputs": [],
   "source": [
    "@everywhere say_my_name() = \"Hi there, I am worker $(myid())\""
   ]
  },
  {
   "cell_type": "code",
   "execution_count": 12,
   "metadata": {},
   "outputs": [],
   "source": [
    "names = [@spawnat worker say_my_name() for worker in workers()];"
   ]
  },
  {
   "cell_type": "code",
   "execution_count": 13,
   "metadata": {},
   "outputs": [
    {
     "data": {
      "text/plain": [
       "3-element Vector{Future}:\n",
       " Future(2, 1, 23, ReentrantLock(nothing, 0x00000000, 0x00, Base.GenericCondition{Base.Threads.SpinLock}(Base.IntrusiveLinkedList{Task}(nothing, nothing), Base.Threads.SpinLock(0)), (8, 140529308065792, 0)), nothing)\n",
       " Future(3, 1, 24, ReentrantLock(nothing, 0x00000000, 0x00, Base.GenericCondition{Base.Threads.SpinLock}(Base.IntrusiveLinkedList{Task}(nothing, nothing), Base.Threads.SpinLock(0)), (0, 140529451098288, 140529398758704)), nothing)\n",
       " Future(4, 1, 25, ReentrantLock(nothing, 0x00000000, 0x00, Base.GenericCondition{Base.Threads.SpinLock}(Base.IntrusiveLinkedList{Task}(nothing, nothing), Base.Threads.SpinLock(0)), (8, 140529451094192, 140528285553616)), nothing)"
      ]
     },
     "execution_count": 13,
     "metadata": {},
     "output_type": "execute_result"
    }
   ],
   "source": [
    "names"
   ]
  },
  {
   "cell_type": "code",
   "execution_count": 15,
   "metadata": {},
   "outputs": [
    {
     "data": {
      "text/plain": [
       "3-element Vector{Future}:\n",
       " Future(2, 1, 23, ReentrantLock(nothing, 0x00000000, 0x00, Base.GenericCondition{Base.Threads.SpinLock}(Base.IntrusiveLinkedList{Task}(nothing, nothing), Base.Threads.SpinLock(0)), (8, 140529308065792, 0)), nothing)\n",
       " Future(3, 1, 24, ReentrantLock(nothing, 0x00000000, 0x00, Base.GenericCondition{Base.Threads.SpinLock}(Base.IntrusiveLinkedList{Task}(nothing, nothing), Base.Threads.SpinLock(0)), (0, 140529451098288, 140529398758704)), nothing)\n",
       " Future(4, 1, 25, ReentrantLock(nothing, 0x00000000, 0x00, Base.GenericCondition{Base.Threads.SpinLock}(Base.IntrusiveLinkedList{Task}(nothing, nothing), Base.Threads.SpinLock(0)), (8, 140529451094192, 140528285553616)), nothing)"
      ]
     },
     "execution_count": 15,
     "metadata": {},
     "output_type": "execute_result"
    }
   ],
   "source": [
    "result = Array(names)"
   ]
  },
  {
   "cell_type": "code",
   "execution_count": 10,
   "metadata": {},
   "outputs": [
    {
     "data": {
      "text/plain": [
       "3-element Vector{String}:\n",
       " \"Hi there, I am worker 2\"\n",
       " \"Hi there, I am worker 3\"\n",
       " \"Hi there, I am worker 4\""
      ]
     },
     "execution_count": 10,
     "metadata": {},
     "output_type": "execute_result"
    }
   ],
   "source": [
    "[fetch(name) for name in names]"
   ]
  },
  {
   "cell_type": "code",
   "execution_count": null,
   "metadata": {},
   "outputs": [],
   "source": []
  }
 ],
 "metadata": {
  "kernelspec": {
   "display_name": "Julia 4 Threads 1.9.3",
   "language": "julia",
   "name": "julia-4-threads-1.9"
  },
  "language_info": {
   "file_extension": ".jl",
   "mimetype": "application/julia",
   "name": "julia",
   "version": "1.9.3"
  },
  "latex_envs": {
   "LaTeX_envs_menu_present": true,
   "autoclose": false,
   "autocomplete": true,
   "bibliofile": "biblio.bib",
   "cite_by": "apalike",
   "current_citInitial": 1,
   "eqLabelWithNumbers": true,
   "eqNumInitial": 1,
   "hotkeys": {
    "equation": "Ctrl-E",
    "itemize": "Ctrl-I"
   },
   "labels_anchors": false,
   "latex_user_defs": false,
   "report_style_numbering": false,
   "user_envs_cfg": false
  },
  "toc": {
   "base_numbering": 1,
   "nav_menu": {},
   "number_sections": true,
   "sideBar": true,
   "skip_h1_title": false,
   "title_cell": "Table of Contents",
   "title_sidebar": "Contents",
   "toc_cell": false,
   "toc_position": {},
   "toc_section_display": true,
   "toc_window_display": false
  },
  "varInspector": {
   "cols": {
    "lenName": 16,
    "lenType": 16,
    "lenVar": 40
   },
   "kernels_config": {
    "python": {
     "delete_cmd_postfix": "",
     "delete_cmd_prefix": "del ",
     "library": "var_list.py",
     "varRefreshCmd": "print(var_dic_list())"
    },
    "r": {
     "delete_cmd_postfix": ") ",
     "delete_cmd_prefix": "rm(",
     "library": "var_list.r",
     "varRefreshCmd": "cat(var_dic_list()) "
    }
   },
   "types_to_exclude": [
    "module",
    "function",
    "builtin_function_or_method",
    "instance",
    "_Feature"
   ],
   "window_display": false
  }
 },
 "nbformat": 4,
 "nbformat_minor": 4
}
